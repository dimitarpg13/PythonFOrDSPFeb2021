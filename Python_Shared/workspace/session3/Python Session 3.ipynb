{
 "cells": [
  {
   "cell_type": "markdown",
   "metadata": {},
   "source": [
    "<img src=\"img/logo.png\" align=\"left\" width=\"200\">\n",
    "<h1 style=\"text-align: center;\"> Applications for Digital Design and Signal Processing </h1>\n",
    "<h1 style=\"text-align: center;\"> Session 3 </h1>\n",
    "\n",
    "\n",
    "**License** \n",
    "\n",
    "\n",
    "**DOCUMENT CONTENTS OUTSIDE OF CODE CELLS**\n",
    "\n",
    "Copyright © 2018-2020 C. Daniel Boschen \n",
    "\n",
    "All Rights Reserved. All contents of code cells may be reused freely subject to the MIT License below. All other contents of this notebook are protected by U.S. and International copyright laws. Reproduction and distribution of the notebook without written permission of the author is prohibited. \n",
    "\n",
    "While every precaution has been taken in the preparation of this notebook, the author, publisher, and distribution partners assume no responsibility for any errors or omissions, or any damages resulting from the use of any information contained within it.\n",
    "\n",
    "**MIT LICENSE FOR CODE CELLS**\n",
    "\n",
    "Copyright © 2018-2020 C. Daniel Boschen\n",
    "\n",
    "Permission is hereby granted, free of charge, to any person obtaining a copy of the software demonstrated in code cells (the \"Software\"), to deal in the Software without restriction, including without limitation the rights to use, copy, modify, merge, publish, distribute, sublicense, and/or sell copies of the Software, and to permit persons to whom the Software is furnished to do so, subject to the following conditions:\n",
    "\n",
    "The above copyright notice and this permission notice shall be included in all copies or substantial portions of the Software.\n",
    "\n",
    "THE SOFTWARE IS PROVIDED \"AS IS\", WITHOUT WARRANTY OF ANY KIND, EXPRESS OR IMPLIED, INCLUDING BUT NOT LIMITED TO THE WARRANTIES OF MERCHANTABILITY, FITNESS FOR A PARTICULAR PURPOSE AND NONINFRINGEMENT. IN NO EVENT SHALL THE AUTHORS OR COPYRIGHT HOLDERS BE LIABLE FOR ANY CLAIM, DAMAGES OR OTHER LIABILITY, WHETHER IN AN ACTION OF CONTRACT, TORT OR OTHERWISE, ARISING FROM, OUT OF OR IN CONNECTION WITH THE SOFTWARE OR THE USE OR OTHER DEALINGS IN THE SOFTWARE.  \n",
    "\n"
   ]
  },
  {
   "cell_type": "code",
   "execution_count": 1,
   "metadata": {
    "code_folding": []
   },
   "outputs": [
    {
     "data": {
      "text/html": [
       "<style>\n",
       "div.warn {    \n",
       "    background-color: #fcf2f2;\n",
       "    border-color: #dFb5b4;\n",
       "    border-left: 5px solid #dfb5b4;\n",
       "    padding: 0.5em;\n",
       "    }\n",
       "</style>"
      ],
      "text/plain": [
       "<IPython.core.display.HTML object>"
      ]
     },
     "execution_count": 1,
     "metadata": {},
     "output_type": "execute_result"
    }
   ],
   "source": [
    "# custom functions\n",
    "\n",
    "# Showing simplified version of the function used to \n",
    "# split a list in four and display as four columns\n",
    "#\n",
    "# see tools/mytools.py/disp for version with parametized columns\n",
    "# as was used in Module 2 Notebook\n",
    "\n",
    "def disp4(i):\n",
    "    # i is any iterable\n",
    "    ncol = 4\n",
    "    # force to have an even number of elements\n",
    "    while len(i) % ncol != 0:\n",
    "        i.append(\" \")\n",
    "        \n",
    "    # note above expression could be written concisely as: \n",
    "    # while len(i) % 0: myList.append(\" \")\n",
    "  \n",
    "    # works for 4 columns:\n",
    "    for col1,col2, col3, col4 in  zip(*[iter(i)]*ncol):\n",
    "        print(f\"{col1:<20s} {col2:<20s} {col3:<20s} {col4}\")\n",
    "\n",
    "        \n",
    "        \n",
    "        \n",
    "# custom styling for notebook\n",
    "\n",
    "# https://stackoverflow.com/questions/18024769/adding-custom-styled-paragraphs-in-markdown-cells\n",
    "\n",
    "from IPython.core.display import HTML\n",
    "def css_styling():\n",
    "    styles = open(\"../styles/custom.css\", \"r\").read()\n",
    "    return HTML(styles)\n",
    "css_styling()"
   ]
  },
  {
   "cell_type": "code",
   "execution_count": 2,
   "metadata": {},
   "outputs": [
    {
     "name": "stdout",
     "output_type": "stream",
     "text": [
      "__add__              __class__            __contains__         __delattr__\n",
      "__dir__              __doc__              __eq__               __format__\n",
      "__ge__               __getattribute__     __getitem__          __getnewargs__\n",
      "__gt__               __hash__             __init__             __init_subclass__\n",
      "__iter__             __le__               __len__              __lt__\n",
      "__mod__              __mul__              __ne__               __new__\n",
      "__reduce__           __reduce_ex__        __repr__             __rmod__\n",
      "__rmul__             __setattr__          __sizeof__           __str__\n",
      "__subclasshook__     capitalize           casefold             center\n",
      "count                encode               endswith             expandtabs\n",
      "find                 format               format_map           index\n",
      "isalnum              isalpha              isascii              isdecimal\n",
      "isdigit              isidentifier         islower              isnumeric\n",
      "isprintable          isspace              istitle              isupper\n",
      "join                 ljust                lower                lstrip\n",
      "maketrans            partition            replace              rfind\n",
      "rindex               rjust                rpartition           rsplit\n",
      "rstrip               split                splitlines           startswith\n",
      "strip                swapcase             title                translate\n",
      "upper                zfill                                      \n"
     ]
    }
   ],
   "source": [
    "# demonstrating custom function:\n",
    "\n",
    "disp4(dir(str))"
   ]
  },
  {
   "cell_type": "markdown",
   "metadata": {},
   "source": [
    "## Examples from Class Presentation Content"
   ]
  },
  {
   "cell_type": "markdown",
   "metadata": {},
   "source": [
    "### Collections"
   ]
  },
  {
   "cell_type": "markdown",
   "metadata": {},
   "source": [
    "#### Example List"
   ]
  },
  {
   "cell_type": "code",
   "execution_count": 3,
   "metadata": {},
   "outputs": [
    {
     "name": "stdout",
     "output_type": "stream",
     "text": [
      "['a', 'd', 'a', 'acorn', 44553, 14, 'test']\n"
     ]
    }
   ],
   "source": [
    "my_list = ['a', 'd', 'a', 'acorn', 44553, 14, 'test']\n",
    "\n",
    "print(my_list)"
   ]
  },
  {
   "cell_type": "code",
   "execution_count": 4,
   "metadata": {},
   "outputs": [
    {
     "name": "stdout",
     "output_type": "stream",
     "text": [
      "['a', 'b', 'a', 'b', 'a', 'b']\n",
      "['a', 'b', 'd', 'e', 'f']\n"
     ]
    }
   ],
   "source": [
    "# + and * functionality for collections:\n",
    "\n",
    "list1 = ['a','b']\n",
    "list2 = ['d','e','f']\n",
    "\n",
    "print(list1*3)        # replicates contents of list1 3 times\n",
    "print(list1 + list2)   # concatenates "
   ]
  },
  {
   "cell_type": "code",
   "execution_count": 5,
   "metadata": {},
   "outputs": [
    {
     "name": "stdout",
     "output_type": "stream",
     "text": [
      "[['a', 'b'], ['a', 'b'], ['a', 'b']]\n",
      "['a', 'b']\n",
      "b\n"
     ]
    }
   ],
   "source": [
    "out = [list1]*3\n",
    "print(out)\n",
    "print(out[0])\n",
    "print(out[0][1])"
   ]
  },
  {
   "cell_type": "code",
   "execution_count": 6,
   "metadata": {},
   "outputs": [
    {
     "name": "stdout",
     "output_type": "stream",
     "text": [
      "[['a', 'b'], ['a', 'b'], ['a', 'b']]\n",
      "a\n",
      "[['Wow!', 'b'], ['Wow!', 'b'], ['Wow!', 'b']]\n"
     ]
    }
   ],
   "source": [
    "# CAREFUL ABOUT * WITH LISTS WHICH ARE MUTABLE!\n",
    "# The * operator is copying the reference three times, so each is still pointing\n",
    "# to the same object! Changing one item will change them all!!\n",
    "\n",
    "print(out)\n",
    "print(out[2][0])\n",
    "out[2][0] = 'Wow!'\n",
    "print(out)"
   ]
  },
  {
   "cell_type": "code",
   "execution_count": 7,
   "metadata": {},
   "outputs": [
    {
     "name": "stdout",
     "output_type": "stream",
     "text": [
      "['Wow!', 'b']\n",
      "['Wow!', 'b', 'Wow!', 'b', 'Wow!', 'b']\n",
      "Wow!\n",
      "['Wow!', 'b', 'B', 'b', 'Wow!', 'b']\n"
     ]
    }
   ],
   "source": [
    "print(list1)\n",
    "out = list1*3\n",
    "print(out)\n",
    "print(out[2])\n",
    "out[2] = 'B'\n",
    "print(out)"
   ]
  },
  {
   "cell_type": "code",
   "execution_count": 8,
   "metadata": {},
   "outputs": [
    {
     "name": "stdout",
     "output_type": "stream",
     "text": [
      "[['a'], ['a'], ['a'], ['a']]\n",
      "[[5], [5], [5], [5]]\n",
      "----------------------\n",
      "[['a'], ['a'], ['a'], ['a']]\n",
      "[[5], ['a'], ['a'], ['a']]\n"
     ]
    }
   ],
   "source": [
    "x = [['a']]*4\n",
    "print(x)\n",
    "x[0][0] = 5\n",
    "print(x)\n",
    "\n",
    "print(\"----------------------\")\n",
    "# to make each one unique rather than a common reference use a list comprehension:\n",
    "x = [['a'] for n in range(4)]\n",
    "print(x)\n",
    "x[0][0] = 5\n",
    "print(x)"
   ]
  },
  {
   "cell_type": "markdown",
   "metadata": {},
   "source": [
    "####  Example Set"
   ]
  },
  {
   "cell_type": "code",
   "execution_count": 9,
   "metadata": {},
   "outputs": [
    {
     "name": "stdout",
     "output_type": "stream",
     "text": [
      "{44553, 'a', 14, 'd', 'test', 'acorn'}\n"
     ]
    }
   ],
   "source": [
    "my_set = {'a', 'd', 'a', 'acorn', 44553, 14, 'test'}\n",
    "\n",
    "print(my_set)"
   ]
  },
  {
   "cell_type": "markdown",
   "metadata": {},
   "source": [
    "#### Example Dictionary"
   ]
  },
  {
   "cell_type": "code",
   "execution_count": 10,
   "metadata": {},
   "outputs": [
    {
     "name": "stdout",
     "output_type": "stream",
     "text": [
      "{'a': 1, 'b': 2, 'c': 3, 'd': 4, 'e': 5}\n"
     ]
    }
   ],
   "source": [
    "# the following could be all on one line, what is shown is \n",
    "# consistent with the Python style guide (PEP8)\n",
    "my_dict = {\n",
    "    'a':1,\n",
    "    'b':2,\n",
    "    'c':3,\n",
    "    'd':4,\n",
    "    'e':5 \n",
    "    }\n",
    "\n",
    "print(my_dict)"
   ]
  },
  {
   "cell_type": "code",
   "execution_count": 11,
   "metadata": {},
   "outputs": [
    {
     "name": "stdout",
     "output_type": "stream",
     "text": [
      "{'a': 5, 'b': 8, 'c': 8}\n"
     ]
    }
   ],
   "source": [
    "# the dict() fucntion converts a collection of key,value pairs as tuples to a dictionary:\n",
    "\n",
    "my_pairs = [('a',5),('b',8),('c',8)]\n",
    "\n",
    "my_dict = dict(my_pairs)\n",
    "\n",
    "print(my_dict)"
   ]
  },
  {
   "cell_type": "code",
   "execution_count": 12,
   "metadata": {},
   "outputs": [
    {
     "name": "stdout",
     "output_type": "stream",
     "text": [
      "{'a': 8, 'c': 8}\n"
     ]
    }
   ],
   "source": [
    "# duplicate keys won't cause an error, just subsequent copies of same key will be\n",
    "# over write previous ones. \n",
    "# (similar to assigning duplicate value to a set- will automatically get rid of \n",
    "# duplicats)\n",
    "my_pairs = [('a',5),('a',8),('c',8)]\n",
    "\n",
    "my_dict = dict(my_pairs)\n",
    "\n",
    "print(my_dict)"
   ]
  },
  {
   "cell_type": "code",
   "execution_count": 13,
   "metadata": {},
   "outputs": [
    {
     "name": "stdout",
     "output_type": "stream",
     "text": [
      "{\n",
      " \"a\": 8,\n",
      " \"c\": 8\n",
      "}\n"
     ]
    }
   ],
   "source": [
    "# Trick! Use joson dumps for pretty print for dictionaries\n",
    "# (will display numeric keys as strings - this is just the display)\n",
    "\n",
    "import json\n",
    "\n",
    "print(json.dumps(my_dict, indent=1))"
   ]
  },
  {
   "cell_type": "markdown",
   "metadata": {},
   "source": [
    "#### Slicing Collections"
   ]
  },
  {
   "cell_type": "code",
   "execution_count": 14,
   "metadata": {},
   "outputs": [
    {
     "name": "stdout",
     "output_type": "stream",
     "text": [
      "Are the lists the same object? True\n",
      "[1.0, -99, -12, [-8], 5.2]\n",
      "[1.0, -99, -12, [-8], 5.2]\n"
     ]
    }
   ],
   "source": [
    "## If we assign y to be x as shown below\n",
    "\n",
    "x = [1.0,2.1,-12,[-8],5.2]\n",
    "y = x\n",
    "print(f\"Are the lists the same object? {x is y}\")\n",
    "# and then change an item in y, x will also change since the list object is mutable!\n",
    "\n",
    "y[1]=-99\n",
    "print(y)\n",
    "print(x)"
   ]
  },
  {
   "cell_type": "code",
   "execution_count": 15,
   "metadata": {},
   "outputs": [
    {
     "name": "stdout",
     "output_type": "stream",
     "text": [
      "Are the lists the same object? False\n",
      "Are the respective items in the lists the same object?  True\n",
      "Immutable list item re-assigned:\n",
      "[1.0, 99, -12, [-8], 5.2]\n",
      "[1.0, 2.1, -12, [-8], 5.2]\n",
      "Mutable list item changed with mutable method:\n",
      "[1.0, 99, -12, [-8, 5], 5.2]\n",
      "[1.0, 2.1, -12, [-8, 5], 5.2]\n",
      "Mutable list item changed with slice assignment:\n",
      "[1.0, 99, -12, [512, 5], 5.2]\n",
      "[1.0, 2.1, -12, [512, 5], 5.2]\n"
     ]
    }
   ],
   "source": [
    "## But if we instead assign y to be a slice of x as shown below,\n",
    "# y will be a new list object, but the contents of y are still the \n",
    "# same objects in x. Be very careful if any of these objects are mutable\n",
    "# as they would then both change in x and y!\n",
    "# (If the item objects are are immutable, then instead of changing, a new\n",
    "# item object will be created, in which case there is nothing you could do\n",
    "# to x that would change y and vice versa)\n",
    "\n",
    "\n",
    "# for example x[3] is mutable, a list containing one item in it: -8\n",
    "x = [1.0,2.1,-12,[-8],5.2]\n",
    "y = x[:]         # this is a slice of the entire length of x (same as x[0:6])\n",
    "print(f\"Are the lists the same object? {x is y}\")\n",
    "\n",
    "# The contents of both lists will reference the SAME OBJECTS\n",
    "# This is known as a SHALLOW COPY since only the top level list actually changed.\n",
    "\n",
    "print(f\"Are the respective items in the lists the same object?  {x[0] is y[0]}\")\n",
    "\n",
    "# Make an assignment to a list item, and it is replaced with a new object\n",
    "# in that list\n",
    "print(\"Immutable list item re-assigned:\")\n",
    "y[1] = 99\n",
    "print(y)\n",
    "print(x)\n",
    "\n",
    "\n",
    "# Change a mutable item in one of the lists, and both lists get updated\n",
    "# (it is the same list object with the same item object!)\n",
    "print(\"Mutable list item changed with mutable method:\")\n",
    "y[3].append(5)\n",
    "print(y)\n",
    "print(x)\n",
    "\n",
    "# The assignment for a slice is a mutable change\n",
    "print(\"Mutable list item changed with slice assignment:\")\n",
    "y[3][0] = 512\n",
    "print(y)\n",
    "print(x)"
   ]
  },
  {
   "cell_type": "code",
   "execution_count": 16,
   "metadata": {},
   "outputs": [],
   "source": [
    "## "
   ]
  },
  {
   "cell_type": "markdown",
   "metadata": {},
   "source": [
    "#### Unpacking Collections"
   ]
  },
  {
   "cell_type": "code",
   "execution_count": 17,
   "metadata": {},
   "outputs": [
    {
     "name": "stdout",
     "output_type": "stream",
     "text": [
      "['a', 'd', 'a', 'acorn', 44553, 14, 'test']\n",
      "a\n",
      "test\n",
      "['d', 'a', 'acorn', 44553, 14]\n"
     ]
    }
   ],
   "source": [
    "first, *__, last = my_list\n",
    "\n",
    "print(my_list)\n",
    "print(first)\n",
    "print(last)\n",
    "print(__)"
   ]
  },
  {
   "cell_type": "code",
   "execution_count": 21,
   "metadata": {},
   "outputs": [
    {
     "data": {
      "text/plain": [
       "True"
      ]
     },
     "execution_count": 21,
     "metadata": {},
     "output_type": "execute_result"
    }
   ],
   "source": [
    "my_dict = {\n",
    "    'a':1,\n",
    "    'b':2,\n",
    "    'c':3,\n",
    "    'd':4,\n",
    "    'e':5 \n",
    "    }\n",
    "\n",
    "hasattr(my_dict,'items')"
   ]
  },
  {
   "cell_type": "code",
   "execution_count": 22,
   "metadata": {},
   "outputs": [
    {
     "name": "stdout",
     "output_type": "stream",
     "text": [
      "('a', 1)\n",
      "('b', 2)\n",
      "('c', 3)\n",
      "('d', 4)\n",
      "('e', 5)\n"
     ]
    }
   ],
   "source": [
    "a,b,c,d,e = my_dict.items()\n",
    "print(a)\n",
    "print(b)\n",
    "print(c)\n",
    "print(d)\n",
    "print(e)\n",
    "\n",
    "# would actually use a \"for in loop\" to print all items:\n",
    "# for i in myDict.items()\n",
    "#     print(i)"
   ]
  },
  {
   "cell_type": "code",
   "execution_count": 23,
   "metadata": {},
   "outputs": [
    {
     "name": "stdout",
     "output_type": "stream",
     "text": [
      "21\n",
      "5\n",
      "<class 'tuple'>\n"
     ]
    }
   ],
   "source": [
    "x = 5\n",
    "y = 21\n",
    "\n",
    "# x and y can be swapped on one line!\n",
    "x,y = y,x\n",
    "\n",
    "print(x)\n",
    "print(y)\n",
    "\n",
    "\n",
    "# This is because y,x actually returns a tuple (it is the same as (y,x)) which is then unpacked into x,y\n",
    "# The objects are retained in the process. \n",
    "z = y,x\n",
    "print(type(z))"
   ]
  },
  {
   "cell_type": "markdown",
   "metadata": {},
   "source": [
    "<img src=\"img/whoa-cool.jpg\" align=\"left\" width=\"120\">"
   ]
  },
  {
   "cell_type": "markdown",
   "metadata": {},
   "source": [
    "### Iterable and Iterator"
   ]
  },
  {
   "cell_type": "code",
   "execution_count": 24,
   "metadata": {},
   "outputs": [
    {
     "name": "stdout",
     "output_type": "stream",
     "text": [
      "A string is an Iterable\n",
      "Using iter with an Iterable  is an Iterator & Iterable\n",
      "A list is an Iterable\n",
      "A file is an Iterator & Iterable\n",
      "An integer is Neither\n"
     ]
    }
   ],
   "source": [
    "def has_iter(obj): \n",
    "    return  hasattr(obj, \"__iter__\")\n",
    "\n",
    "def has_next(obj):\n",
    "    return  hasattr(obj, \"__next__\")\n",
    "\n",
    "\n",
    "options = {\n",
    "    (True, False): \"an Iterable\",\n",
    "    (True, True): \"an Iterator & Iterable\",\n",
    "    (False, False): \"Neither\"  \n",
    "}\n",
    "\n",
    "def reportResult(title, obj):\n",
    "    print(title + \" is \" + options[has_iter(obj),has_next(obj)])    \n",
    "\n",
    "\n",
    "# examples\n",
    "\n",
    "my_string = \"This is an iterable\"\n",
    "my_list = [5,6,12,15]\n",
    "my_file = open(\"./src/my_script.py\")\n",
    "\n",
    "reportResult(\"A string\", my_string)\n",
    "reportResult(\"Using iter with an Iterable \", iter(my_string))\n",
    "reportResult(\"A list\", my_list)\n",
    "reportResult(\"A file\", my_file)\n",
    "reportResult(\"An integer\", 5)\n",
    "\n",
    "\n",
    "my_file.close()"
   ]
  },
  {
   "cell_type": "code",
   "execution_count": 26,
   "metadata": {},
   "outputs": [
    {
     "name": "stdout",
     "output_type": "stream",
     "text": [
      "T\n"
     ]
    }
   ],
   "source": [
    "try_this = iter(my_string)\n",
    "print(next(try_this))"
   ]
  },
  {
   "cell_type": "code",
   "execution_count": 27,
   "metadata": {},
   "outputs": [
    {
     "name": "stdout",
     "output_type": "stream",
     "text": [
      "# %% Section 1\n",
      "\n"
     ]
    }
   ],
   "source": [
    "my_file = open(\"./src/my_script.py\")\n",
    "\n",
    "print(next(my_file))\n",
    "\n",
    "my_file.close()"
   ]
  },
  {
   "cell_type": "markdown",
   "metadata": {},
   "source": [
    "### Loops\n",
    "\n",
    "Recommended to watch: \"Loop Like a Native\" by Ned Batchelder\n",
    "https://nedbatchelder.com/text/iter.html"
   ]
  },
  {
   "cell_type": "code",
   "execution_count": 28,
   "metadata": {},
   "outputs": [
    {
     "name": "stdout",
     "output_type": "stream",
     "text": [
      "apples\n",
      "bananas\n",
      "grapes\n",
      "pears\n"
     ]
    }
   ],
   "source": [
    "fruits = ['apples', 'bananas', 'grapes', 5, 'pears']\n",
    "\n",
    "for fruit in fruits:\n",
    "    if isinstance(fruit, str):\n",
    "        print(fruit)"
   ]
  },
  {
   "cell_type": "code",
   "execution_count": 29,
   "metadata": {},
   "outputs": [
    {
     "name": "stdout",
     "output_type": "stream",
     "text": [
      "0 apples\n",
      "1 bananas\n",
      "2 grapes\n",
      "4 pears\n"
     ]
    }
   ],
   "source": [
    "for item, fruit in enumerate(fruits):\n",
    "    if isinstance(fruit, str):\n",
    "        print(item, fruit)    "
   ]
  },
  {
   "cell_type": "code",
   "execution_count": 30,
   "metadata": {},
   "outputs": [
    {
     "name": "stdout",
     "output_type": "stream",
     "text": [
      "# %% Section 1\n",
      "\n",
      "print(\"My script did run!\")\n",
      "\n",
      "\n",
      "\n",
      "# %% Section 2\n",
      "\n",
      "x = 5\n",
      "\n",
      "y = 7\n",
      "\n",
      "z = 5 + 7\n",
      "\n",
      "\n",
      "\n",
      "# %% Section 3\n",
      "\n",
      "print(f\"I added the variables x and y to be {z}\")\n",
      "\n"
     ]
    }
   ],
   "source": [
    "myFile = open(\"./src/my_script.py\")\n",
    "\n",
    "for line in myFile:\n",
    "    print(line)\n",
    "\n",
    "myFile.close()"
   ]
  },
  {
   "cell_type": "markdown",
   "metadata": {},
   "source": [
    "####  Enumerate"
   ]
  },
  {
   "cell_type": "code",
   "execution_count": 31,
   "metadata": {},
   "outputs": [
    {
     "name": "stdout",
     "output_type": "stream",
     "text": [
      "1\n",
      "5\n",
      "4\n",
      "6\n",
      "7\n",
      "------------------\n",
      "(0, 1)\n",
      "(1, 5)\n",
      "(2, 4)\n",
      "(3, 6)\n",
      "(4, 7)\n",
      "------------------\n",
      "0 1\n",
      "1 5\n",
      "2 4\n",
      "3 6\n",
      "4 7\n"
     ]
    }
   ],
   "source": [
    "# loop construction:\n",
    "\n",
    "input_values = [1,5,4,6,7]\n",
    "\n",
    "for d in input_values:\n",
    "    print(d)\n",
    "    \n",
    "print(\"------------------\")\n",
    "\n",
    "for d in enumerate(input_values):\n",
    "    print(d)\n",
    "\n",
    "print(\"------------------\")\n",
    "\n",
    "for count, d in enumerate(input_values):\n",
    "    print(count, d)"
   ]
  }
 ],
 "metadata": {
  "hide_input": false,
  "kernelspec": {
   "display_name": "Python 3",
   "language": "python",
   "name": "python3"
  },
  "language_info": {
   "codemirror_mode": {
    "name": "ipython",
    "version": 3
   },
   "file_extension": ".py",
   "mimetype": "text/x-python",
   "name": "python",
   "nbconvert_exporter": "python",
   "pygments_lexer": "ipython3",
   "version": "3.8.3"
  },
  "toc": {
   "base_numbering": 1,
   "nav_menu": {},
   "number_sections": true,
   "sideBar": true,
   "skip_h1_title": true,
   "title_cell": "Table of Contents",
   "title_sidebar": "Contents",
   "toc_cell": false,
   "toc_position": {
    "height": "calc(100% - 180px)",
    "left": "10px",
    "top": "150px",
    "width": "348.785px"
   },
   "toc_section_display": true,
   "toc_window_display": true
  },
  "varInspector": {
   "cols": {
    "lenName": 16,
    "lenType": 16,
    "lenVar": 40
   },
   "kernels_config": {
    "python": {
     "delete_cmd_postfix": "",
     "delete_cmd_prefix": "del ",
     "library": "var_list.py",
     "varRefreshCmd": "print(var_dic_list())"
    },
    "r": {
     "delete_cmd_postfix": ") ",
     "delete_cmd_prefix": "rm(",
     "library": "var_list.r",
     "varRefreshCmd": "cat(var_dic_list()) "
    }
   },
   "oldHeight": 516,
   "position": {
    "height": "40px",
    "left": "891px",
    "right": "20px",
    "top": "65px",
    "width": "350px"
   },
   "types_to_exclude": [
    "module",
    "function",
    "builtin_function_or_method",
    "instance",
    "_Feature"
   ],
   "varInspector_section_display": "none",
   "window_display": true
  }
 },
 "nbformat": 4,
 "nbformat_minor": 2
}
