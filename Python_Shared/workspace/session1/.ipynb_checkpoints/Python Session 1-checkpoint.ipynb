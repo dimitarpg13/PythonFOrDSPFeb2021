{
 "cells": [
  {
   "cell_type": "markdown",
   "metadata": {
    "cell_style": "center"
   },
   "source": [
    "<img src=\"img/logo.png\" align=\"left\" width=\"200\">\n",
    "<h1 style=\"text-align: center;\"> Applications for Digital Design and Signal Processing </h1>\n",
    "<h1 style=\"text-align: center;\"> Session 1 </h1>\n",
    "\n",
    "\n",
    "**License** \n",
    "\n",
    "\n",
    "**DOCUMENT CONTENTS OUTSIDE OF CODE CELLS**\n",
    "\n",
    "Copyright © 2018-2020 C. Daniel Boschen \n",
    "\n",
    "All Rights Reserved. All contents of code cells may be reused freely subject to the MIT License below. All other contents of this notebook are protected by U.S. and International copyright laws. Reproduction and distribution of the notebook without written permission of the author is prohibited. \n",
    "\n",
    "While every precaution has been taken in the preparation of this notebook, the author, publisher, and distribution partners assume no responsibility for any errors or omissions, or any damages resulting from the use of any information contained within it.\n",
    "\n",
    "**MIT LICENSE FOR CODE CELLS**\n",
    "\n",
    "Copyright © 2018-2020 C. Daniel Boschen\n",
    "\n",
    "Permission is hereby granted, free of charge, to any person obtaining a copy of the software demonstrated in code cells (the \"Software\"), to deal in the Software without restriction, including without limitation the rights to use, copy, modify, merge, publish, distribute, sublicense, and/or sell copies of the Software, and to permit persons to whom the Software is furnished to do so, subject to the following conditions:\n",
    "\n",
    "The above copyright notice and this permission notice shall be included in all copies or substantial portions of the Software.\n",
    "\n",
    "THE SOFTWARE IS PROVIDED \"AS IS\", WITHOUT WARRANTY OF ANY KIND, EXPRESS OR IMPLIED, INCLUDING BUT NOT LIMITED TO THE WARRANTIES OF MERCHANTABILITY, FITNESS FOR A PARTICULAR PURPOSE AND NONINFRINGEMENT. IN NO EVENT SHALL THE AUTHORS OR COPYRIGHT HOLDERS BE LIABLE FOR ANY CLAIM, DAMAGES OR OTHER LIABILITY, WHETHER IN AN ACTION OF CONTRACT, TORT OR OTHERWISE, ARISING FROM, OUT OF OR IN CONNECTION WITH THE SOFTWARE OR THE USE OR OTHER DEALINGS IN THE SOFTWARE.  \n"
   ]
  },
  {
   "cell_type": "markdown",
   "metadata": {},
   "source": [
    "## Examples from Class Presentation Content"
   ]
  },
  {
   "cell_type": "markdown",
   "metadata": {},
   "source": [
    "### Accumulator Code Example\n",
    "\n",
    "We used the simple script that simulated the following example of an accumulator to demonstrate using Spyder as an IDE, but in this case the script could easily be completely included in the notebook as we will also show below, combined with plotting and analysis tools that we will cover in future sessions. For now it documents the code that was demonstrated and provides opportunity to further explore the notebook features such as the variable inspector which is enabled by clicking on the top  item as circled below:\n",
    "\n",
    "![accumulator](img/Accumulator.png) \n",
    "\n",
    "Typically in practice, I will use the notebook to document the use of a code function to myself or others, or simulation results similar to a high level script importing more detailed code that can be abstracted, and develop the deeper coding details in the IDE where we can make use of the debugging and linting tools. If it's not the code itself that I am demonstrating, but the results, then I would not include such code in this notebook but import it and use as a high level function or object. "
   ]
  },
  {
   "cell_type": "code",
   "execution_count": 1,
   "metadata": {},
   "outputs": [
    {
     "data": {
      "image/png": "[encoded data removed]",
      "text/plain": [
       "<IPython.core.display.Image object>"
      ]
     },
     "execution_count": 1,
     "metadata": {},
     "output_type": "execute_result"
    }
   ],
   "source": [
    "# Showing how to display an image file from within a code block:\n",
    "\n",
    "from IPython.display import Image\n",
    "Image(filename='./img/Accumulator.PNG')"
   ]
  },
  {
   "cell_type": "code",
   "execution_count": 2,
   "metadata": {},
   "outputs": [],
   "source": [
    "# Accumulator Script\n",
    "\n",
    "N = 512\n",
    "bits = 8\n",
    "\n",
    "# Create the input sequence.\n",
    "input_values = [50] * N\n",
    "\n",
    "# Iniitialize the internal state.\n",
    "sum1 = 0\n",
    "\n",
    "# Create the output by iterating through the input values.\n",
    "dac_out = []\n",
    "for sample in input_values:\n",
    "    # Complete all synchronous operations first:\n",
    "    sum1_d = sum1\n",
    "\n",
    "    # Ccomplete all asynchronous operations\n",
    "    sum1 = sample + sum1_d\n",
    "\n",
    "    # DAC\n",
    "    dac = 3 / 2 ** bits\n",
    "\n",
    "    # update output\n",
    "    dac_out.append(dac * sum1_d)\n",
    "\n"
   ]
  },
  {
   "cell_type": "code",
   "execution_count": 3,
   "metadata": {},
   "outputs": [
    {
     "name": "stdout",
     "output_type": "stream",
     "text": [
      "[50, 50, 50, 50, 50, 50, 50, 50, 50, 50]\n"
     ]
    }
   ],
   "source": [
    "# first 10 input samples\n",
    "print(input_values[:10])"
   ]
  },
  {
   "cell_type": "code",
   "execution_count": 4,
   "metadata": {},
   "outputs": [
    {
     "name": "stdout",
     "output_type": "stream",
     "text": [
      "[0.0, 0.5859375, 1.171875, 1.7578125, 2.34375, 2.9296875, 3.515625, 4.1015625, 4.6875, 5.2734375]\n"
     ]
    }
   ],
   "source": [
    "# first 10 output samples\n",
    "print(dac_out[:10])"
   ]
  },
  {
   "cell_type": "code",
   "execution_count": null,
   "metadata": {},
   "outputs": [],
   "source": []
  }
 ],
 "metadata": {
  "hide_input": false,
  "kernelspec": {
   "display_name": "Python 3",
   "language": "python",
   "name": "python3"
  },
  "language_info": {
   "codemirror_mode": {
    "name": "ipython",
    "version": 3
   },
   "file_extension": ".py",
   "mimetype": "text/x-python",
   "name": "python",
   "nbconvert_exporter": "python",
   "pygments_lexer": "ipython3",
   "version": "3.8.3"
  },
  "toc": {
   "base_numbering": 1,
   "nav_menu": {
    "height": "89.9858px",
    "width": "310.653px"
   },
   "number_sections": true,
   "sideBar": true,
   "skip_h1_title": true,
   "title_cell": "Table of Contents",
   "title_sidebar": "Contents",
   "toc_cell": false,
   "toc_position": {
    "height": "1061px",
    "left": "80px",
    "top": "110px",
    "width": "242px"
   },
   "toc_section_display": true,
   "toc_window_display": true
  },
  "varInspector": {
   "cols": {
    "lenName": 16,
    "lenType": 16,
    "lenVar": 40
   },
   "kernels_config": {
    "python": {
     "delete_cmd_postfix": "",
     "delete_cmd_prefix": "del ",
     "library": "var_list.py",
     "varRefreshCmd": "print(var_dic_list())"
    },
    "r": {
     "delete_cmd_postfix": ") ",
     "delete_cmd_prefix": "rm(",
     "library": "var_list.r",
     "varRefreshCmd": "cat(var_dic_list()) "
    }
   },
   "oldHeight": 516,
   "position": {
    "height": "439.969px",
    "left": "1210px",
    "right": "20px",
    "top": "232px",
    "width": "342px"
   },
   "types_to_exclude": [
    "module",
    "function",
    "builtin_function_or_method",
    "instance",
    "_Feature"
   ],
   "varInspector_section_display": "block",
   "window_display": false
  }
 },
 "nbformat": 4,
 "nbformat_minor": 2
}
