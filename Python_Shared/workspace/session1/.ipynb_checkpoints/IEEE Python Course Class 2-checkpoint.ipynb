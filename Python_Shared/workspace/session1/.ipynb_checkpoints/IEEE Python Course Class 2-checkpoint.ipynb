{
 "cells": [
  {
   "cell_type": "markdown",
   "metadata": {},
   "source": [
    "<img src=\"img/logo.png\" align=\"left\" width=\"200\">\n",
    "<h1 style=\"text-align: center;\"> Applications for Digital Design and Signal Processing </h1>\n",
    "<h1 style=\"text-align: center;\"> Class 1 </h1>\n"
   ]
  },
  {
   "cell_type": "code",
   "execution_count": 1,
   "metadata": {
    "code_folding": [
     0
    ]
   },
   "outputs": [
    {
     "data": {
      "text/html": [
       "<style>\n",
       "div.warn {    \n",
       "    background-color: #fcf2f2;\n",
       "    border-color: #dFb5b4;\n",
       "    border-left: 5px solid #dfb5b4;\n",
       "    padding: 0.5em;\n",
       "    }\n",
       " </style>"
      ],
      "text/plain": [
       "<IPython.core.display.HTML object>"
      ]
     },
     "execution_count": 1,
     "metadata": {},
     "output_type": "execute_result"
    }
   ],
   "source": [
    "# custom functions\n",
    "\n",
    "#\n",
    "# create custom function to split a list in four and display as four columns\n",
    "\n",
    "def disp4(myList):\n",
    "    ncol = 4\n",
    "    # force to have an even number of elements\n",
    "    while len(myList) % ncol != 0:\n",
    "        myList.append(\" \")\n",
    "        \n",
    "    # note above expression could be written concisely as: \n",
    "    # while len(myList) % 0: myList.append(\" \")\n",
    "  \n",
    "    # To do: make this work for any # of columns\n",
    "    for col1,col2, col3, col4 in  zip(*[iter(myList)]*ncol):\n",
    "        print(f\"{col1:<20s} {col2:<20s} {col3:<20s} {col4}\")\n",
    "\n",
    "# custom styling for notebook\n",
    "\n",
    "# https://stackoverflow.com/questions/18024769/adding-custom-styled-paragraphs-in-markdown-cells\n",
    "\n",
    "from IPython.core.display import HTML\n",
    "def css_styling():\n",
    "    styles = open(\"../styles/custom.css\", \"r\").read()\n",
    "    return HTML(styles)\n",
    "css_styling()"
   ]
  },
  {
   "cell_type": "markdown",
   "metadata": {},
   "source": [
    "## Using Jupyter"
   ]
  },
  {
   "cell_type": "markdown",
   "metadata": {},
   "source": [
    "### Markdown\n",
    "\n",
    "\n",
    "Markdown is not a replacment for HTML but allows for writing formatted text with an emphasis on being easy-to-read and easy-to-write. \n",
    "\n",
    "\n",
    "- [x] complete item\n",
    "- [ ] open item\n",
    "\n",
    "____\n",
    "\n",
    "\n",
    "\n",
    "___\n",
    "\n",
    "#### Emphasis\n",
    "\n",
    "sentence with *Italic text*\n",
    "\n",
    "sentence with **bold text**\n",
    "\n",
    "sentence with ***bold and italic text***\n",
    "\n",
    "___\n",
    "\n",
    "#### Tables\n",
    "\n",
    "| Col1 | Col2 | Col3 | \n",
    "| ---| ---| --- |\n",
    "|  a  |  b   |   e |\n",
    "|  c  |  d   |   f |\n",
    "\n",
    "\n",
    "___\n",
    "\n",
    "#### Links\n",
    "\n",
    "direct link:\n",
    "https://daringfireball.net/projects/markdown/ \n",
    "\n",
    "\n",
    "embedded link:\n",
    "[Markdown Specification](https://daringfireball.net/projects/markdown/)\n",
    "\n",
    "embedded link with mouseover:\n",
    "[Markdown Specification](https://daringfireball.net/projects/markdown/ \"Markdown Specification\")\n",
    "\n",
    "\n",
    "[Markdown Cheat Sheet](https://github.com/adam-p/markdown-here/wiki/Markdown-Cheatsheet)\n",
    "\n",
    "\n",
    "#### Equations with MathJax\n",
    "\n",
    "$$\\int_0^{\\infty}(x^2 + 5) dx  $$\n",
    "\n",
    "[MathJax Tutorial](https://math.meta.stackexchange.com/questions/5020/mathjax-basic-tutorial-and-quick-reference)\n",
    "\n",
    "Returns symbol from online sketch: [Detextify](http://detexify.kirelabs.org/classify.html)\n",
    "\n",
    "#### Equation numbering:\n",
    "\n",
    "\\begin{equation}\n",
    "\\sum_{t=0}^{\\infty} \\frac{1}{t+5}\n",
    "\\end{equation}\n",
    "\n",
    "\\begin{equation}\n",
    "x + y = 12\n",
    "\\end{equation}\n",
    "\n",
    "#### Images\n",
    "\n",
    "Images in Markdown block\n",
    "![cool](img/cool1.png) \n",
    "\n",
    "<img src=\"img/cool1.png\" align=\"left\" width=\"200\">\n",
    "\n",
    "<img src=\"img/cool1.png\" align=\"right\" width=\"200\">"
   ]
  },
  {
   "cell_type": "markdown",
   "metadata": {},
   "source": [
    "### Magics\n",
    "\n",
    "\n",
    "line magic: %\n",
    "\n",
    "cell magic: %%"
   ]
  },
  {
   "cell_type": "markdown",
   "metadata": {},
   "source": [
    "#### Documentation on magics"
   ]
  },
  {
   "cell_type": "code",
   "execution_count": 2,
   "metadata": {},
   "outputs": [
    {
     "data": {
      "application/json": {
       "cell": {
        "!": "OSMagics",
        "HTML": "Other",
        "SVG": "Other",
        "bash": "Other",
        "capture": "ExecutionMagics",
        "cmd": "Other",
        "debug": "ExecutionMagics",
        "file": "Other",
        "html": "DisplayMagics",
        "javascript": "DisplayMagics",
        "js": "DisplayMagics",
        "latex": "DisplayMagics",
        "markdown": "DisplayMagics",
        "perl": "Other",
        "prun": "ExecutionMagics",
        "pypy": "Other",
        "python": "Other",
        "python2": "Other",
        "python3": "Other",
        "ruby": "Other",
        "script": "ScriptMagics",
        "sh": "Other",
        "svg": "DisplayMagics",
        "sx": "OSMagics",
        "system": "OSMagics",
        "time": "ExecutionMagics",
        "timeit": "ExecutionMagics",
        "writefile": "OSMagics"
       },
       "line": {
        "alias": "OSMagics",
        "alias_magic": "BasicMagics",
        "autocall": "AutoMagics",
        "automagic": "AutoMagics",
        "autosave": "KernelMagics",
        "bookmark": "OSMagics",
        "cd": "OSMagics",
        "clear": "KernelMagics",
        "cls": "KernelMagics",
        "colors": "BasicMagics",
        "config": "ConfigMagics",
        "connect_info": "KernelMagics",
        "copy": "Other",
        "ddir": "Other",
        "debug": "ExecutionMagics",
        "dhist": "OSMagics",
        "dirs": "OSMagics",
        "doctest_mode": "BasicMagics",
        "echo": "Other",
        "ed": "Other",
        "edit": "KernelMagics",
        "env": "OSMagics",
        "gui": "BasicMagics",
        "hist": "Other",
        "history": "HistoryMagics",
        "killbgscripts": "ScriptMagics",
        "ldir": "Other",
        "less": "KernelMagics",
        "load": "CodeMagics",
        "load_ext": "ExtensionMagics",
        "loadpy": "CodeMagics",
        "logoff": "LoggingMagics",
        "logon": "LoggingMagics",
        "logstart": "LoggingMagics",
        "logstate": "LoggingMagics",
        "logstop": "LoggingMagics",
        "ls": "Other",
        "lsmagic": "BasicMagics",
        "macro": "ExecutionMagics",
        "magic": "BasicMagics",
        "matplotlib": "PylabMagics",
        "mkdir": "Other",
        "more": "KernelMagics",
        "notebook": "BasicMagics",
        "page": "BasicMagics",
        "pastebin": "CodeMagics",
        "pdb": "ExecutionMagics",
        "pdef": "NamespaceMagics",
        "pdoc": "NamespaceMagics",
        "pfile": "NamespaceMagics",
        "pinfo": "NamespaceMagics",
        "pinfo2": "NamespaceMagics",
        "pip": "BasicMagics",
        "popd": "OSMagics",
        "pprint": "BasicMagics",
        "precision": "BasicMagics",
        "profile": "BasicMagics",
        "prun": "ExecutionMagics",
        "psearch": "NamespaceMagics",
        "psource": "NamespaceMagics",
        "pushd": "OSMagics",
        "pwd": "OSMagics",
        "pycat": "OSMagics",
        "pylab": "PylabMagics",
        "qtconsole": "KernelMagics",
        "quickref": "BasicMagics",
        "recall": "HistoryMagics",
        "rehashx": "OSMagics",
        "reload_ext": "ExtensionMagics",
        "ren": "Other",
        "rep": "Other",
        "rerun": "HistoryMagics",
        "reset": "NamespaceMagics",
        "reset_selective": "NamespaceMagics",
        "rmdir": "Other",
        "run": "ExecutionMagics",
        "save": "CodeMagics",
        "sc": "OSMagics",
        "set_env": "OSMagics",
        "store": "StoreMagics",
        "sx": "OSMagics",
        "system": "OSMagics",
        "tb": "ExecutionMagics",
        "time": "ExecutionMagics",
        "timeit": "ExecutionMagics",
        "unalias": "OSMagics",
        "unload_ext": "ExtensionMagics",
        "who": "NamespaceMagics",
        "who_ls": "NamespaceMagics",
        "whos": "NamespaceMagics",
        "xdel": "NamespaceMagics",
        "xmode": "BasicMagics"
       }
      },
      "text/plain": [
       "Available line magics:\n",
       "%alias  %alias_magic  %autocall  %automagic  %autosave  %bookmark  %cd  %clear  %cls  %colors  %config  %connect_info  %copy  %ddir  %debug  %dhist  %dirs  %doctest_mode  %echo  %ed  %edit  %env  %gui  %hist  %history  %killbgscripts  %ldir  %less  %load  %load_ext  %loadpy  %logoff  %logon  %logstart  %logstate  %logstop  %ls  %lsmagic  %macro  %magic  %matplotlib  %mkdir  %more  %notebook  %page  %pastebin  %pdb  %pdef  %pdoc  %pfile  %pinfo  %pinfo2  %popd  %pprint  %precision  %profile  %prun  %psearch  %psource  %pushd  %pwd  %pycat  %pylab  %qtconsole  %quickref  %recall  %rehashx  %reload_ext  %ren  %rep  %rerun  %reset  %reset_selective  %rmdir  %run  %save  %sc  %set_env  %store  %sx  %system  %tb  %time  %timeit  %unalias  %unload_ext  %who  %who_ls  %whos  %xdel  %xmode\n",
       "\n",
       "Available cell magics:\n",
       "%%!  %%HTML  %%SVG  %%bash  %%capture  %%cmd  %%debug  %%file  %%html  %%javascript  %%js  %%latex  %%markdown  %%perl  %%prun  %%pypy  %%python  %%python2  %%python3  %%ruby  %%script  %%sh  %%svg  %%sx  %%system  %%time  %%timeit  %%writefile\n",
       "\n",
       "Automagic is ON, % prefix IS NOT needed for line magics."
      ]
     },
     "execution_count": 2,
     "metadata": {},
     "output_type": "execute_result"
    }
   ],
   "source": [
    "%magic\n",
    "\n",
    "%lsmagic\n"
   ]
  },
  {
   "cell_type": "markdown",
   "metadata": {},
   "source": [
    "#### List all interactive variables used"
   ]
  },
  {
   "cell_type": "code",
   "execution_count": 3,
   "metadata": {},
   "outputs": [
    {
     "name": "stdout",
     "output_type": "stream",
     "text": [
      "HTML\t NamespaceMagics\t css_styling\t disp4\t get_ipython\t getsizeof\t json\t np\t var_dic_list\t \n",
      "\n"
     ]
    }
   ],
   "source": [
    "%who"
   ]
  },
  {
   "cell_type": "markdown",
   "metadata": {},
   "source": [
    "#### HTML block"
   ]
  },
  {
   "cell_type": "code",
   "execution_count": 4,
   "metadata": {},
   "outputs": [
    {
     "data": {
      "text/html": [
       "<!--image k (%% must be first entry) -->\n",
       "<img src = \"img/donna-godsell-1106226-unsplash.jpg\", width = 400> \n",
       "Photo by Donna Godsell on Unsplash\n",
       "\n",
       "\n",
       "<!-- to left justify all tables in document -->\n",
       "<style> table {display: block} </style>"
      ],
      "text/plain": [
       "<IPython.core.display.HTML object>"
      ]
     },
     "metadata": {},
     "output_type": "display_data"
    }
   ],
   "source": [
    "%%html \n",
    "<!--image k (%% must be first entry) -->\n",
    "<img src = \"img/donna-godsell-1106226-unsplash.jpg\", width = 400> \n",
    "Photo by Donna Godsell on Unsplash\n",
    "\n",
    "\n",
    "<!-- to left justify all tables in document -->\n",
    "<style> table {display: block} </style>"
   ]
  },
  {
   "cell_type": "markdown",
   "metadata": {},
   "source": [
    "#### Run external script"
   ]
  },
  {
   "cell_type": "code",
   "execution_count": 5,
   "metadata": {},
   "outputs": [
    {
     "name": "stdout",
     "output_type": "stream",
     "text": [
      "My script did run!\n",
      "I added the variables x and y\n",
      "x = 5\n",
      "y = 7\n"
     ]
    }
   ],
   "source": [
    "%run \"./src/myScript.py\"\n",
    "print(f\"x = {x}\")\n",
    "print(f\"y = {y}\")"
   ]
  },
  {
   "cell_type": "code",
   "execution_count": 6,
   "metadata": {},
   "outputs": [
    {
     "name": "stdout",
     "output_type": "stream",
     "text": [
      "My script did run!\n",
      "I added the variables x and y\n",
      "x = 5\n",
      "y = 7\n"
     ]
    }
   ],
   "source": [
    "# similar but allows for namespacing:\n",
    "import src.myScript as tools\n",
    "print(f\"x = {tools.x}\")\n",
    "print(f\"y = {tools.y}\")\n",
    "\n"
   ]
  },
  {
   "cell_type": "code",
   "execution_count": 7,
   "metadata": {},
   "outputs": [],
   "source": [
    "?%run"
   ]
  },
  {
   "cell_type": "markdown",
   "metadata": {},
   "source": [
    "#### Execute shell command"
   ]
  },
  {
   "cell_type": "code",
   "execution_count": 8,
   "metadata": {},
   "outputs": [
    {
     "name": "stdout",
     "output_type": "stream",
     "text": [
      "Microsoft Windows [Version 10.0.17763.195]\r\n",
      "(c) 2018 Microsoft Corporation. All rights reserved.\r\n",
      "\r\n",
      "D:\\User Documents\\Dan\\Dropbox\\Python\\workspace\\IEEE_Python_Course\\class1>dir\n",
      " Volume in drive D is Data\r\n",
      " Volume Serial Number is 20B4-8724\r\n",
      "\r\n",
      " Directory of D:\\User Documents\\Dan\\Dropbox\\Python\\workspace\\IEEE_Python_Course\\class1\r\n",
      "\r\n",
      "12/22/2018  08:13 PM    <DIR>          .\r\n",
      "12/22/2018  08:13 PM    <DIR>          ..\r\n",
      "11/02/2018  04:16 PM    <DIR>          .ipynb_checkpoints\r\n",
      "11/11/2018  10:41 PM    <DIR>          data\r\n",
      "12/22/2018  08:13 PM            59,530 IEEE Python Course Class 1.ipynb\r\n",
      "11/02/2018  08:10 AM    <DIR>          img\r\n",
      "11/15/2018  11:26 AM    <DIR>          src\r\n",
      "               1 File(s)         59,530 bytes\r\n",
      "               6 Dir(s)  1,004,113,813,504 bytes free\r\n",
      "\r\n",
      "D:\\User Documents\\Dan\\Dropbox\\Python\\workspace\\IEEE_Python_Course\\class1>"
     ]
    }
   ],
   "source": [
    "%%cmd\n",
    "dir"
   ]
  },
  {
   "cell_type": "markdown",
   "metadata": {},
   "source": [
    "#### Profiling"
   ]
  },
  {
   "cell_type": "code",
   "execution_count": 9,
   "metadata": {},
   "outputs": [
    {
     "name": "stdout",
     "output_type": "stream",
     "text": [
      "30.8 µs ± 1.42 µs per loop (mean ± std. dev. of 7 runs, 10000 loops each)\n"
     ]
    }
   ],
   "source": [
    "%timeit [x**2 for x in range(50)]"
   ]
  },
  {
   "cell_type": "markdown",
   "metadata": {},
   "source": [
    "### Other Jupyter Tips and Tricks\n",
    "\n",
    "\n",
    "For more tips and tricks, see\n",
    "\n",
    "https://www.dataquest.io/blog/jupyter-notebook-tips-tricks-shortcuts/\n",
    "\n",
    "https://www.quora.com/What-are-your-favorite-tricks-for-IPython-Notebook\n"
   ]
  },
  {
   "cell_type": "markdown",
   "metadata": {},
   "source": [
    "#### Execute Shell Commands"
   ]
  },
  {
   "cell_type": "code",
   "execution_count": 10,
   "metadata": {},
   "outputs": [
    {
     "name": "stdout",
     "output_type": "stream",
     "text": [
      " Volume in drive D is Data\n",
      " Volume Serial Number is 20B4-8724\n",
      "\n",
      " Directory of D:\\User Documents\\Dan\\Dropbox\\Python\\workspace\\IEEE_Python_Course\\class1\n",
      "\n",
      "12/22/2018  08:13 PM    <DIR>          .\n",
      "12/22/2018  08:13 PM    <DIR>          ..\n",
      "11/02/2018  04:16 PM    <DIR>          .ipynb_checkpoints\n",
      "11/11/2018  10:41 PM    <DIR>          data\n",
      "12/22/2018  08:13 PM            59,530 IEEE Python Course Class 1.ipynb\n",
      "11/02/2018  08:10 AM    <DIR>          img\n",
      "11/15/2018  11:26 AM    <DIR>          src\n",
      "               1 File(s)         59,530 bytes\n",
      "               6 Dir(s)  1,004,113,813,504 bytes free\n"
     ]
    }
   ],
   "source": [
    "# use ! to access execute shell commands\n",
    "# alternative the magic %%cmd \n",
    "\n",
    "!dir"
   ]
  },
  {
   "cell_type": "markdown",
   "metadata": {},
   "source": [
    "#### Getting Help\n",
    "\n",
    "Prepend object with ? to open the Docstring for that object\n",
    "\n",
    "(Also see shift-tab in edit shortcuts below)"
   ]
  },
  {
   "cell_type": "code",
   "execution_count": 11,
   "metadata": {},
   "outputs": [],
   "source": [
    "?dir"
   ]
  },
  {
   "cell_type": "markdown",
   "metadata": {},
   "source": [
    "#### Edit Mode\n",
    "(Green Stripe)\n",
    "\n",
    "**Favorite edit shorcuts**\n",
    "\n",
    "Shift enter: execute cell\n",
    "\n",
    "Shift tab: reveal the Docstring for an object in a code cell (code must be executed)\n",
    "\n",
    "Shift tab tab: Open docstring window completely\n",
    "\n",
    "ESC O: Toggle cell output\n",
    "\n",
    "Select Multiple Cells: Shift Down or Shift Up\n",
    "\n",
    "Control Shift -: split cell\n",
    "\n",
    "Shift M: Merge multiple cells (once selected)\n",
    "\n"
   ]
  },
  {
   "cell_type": "markdown",
   "metadata": {},
   "source": [
    "#### Command Mode\n",
    "(Blue Stripe) \n",
    "\n",
    "press ESC to enter command mode. Once in command mode you can navigate\n",
    "through notebook using arrow keys. (rather than navigating within a cell)\n",
    "and enter useful command shortcuts:\n",
    "\n",
    "**Favorite Command shortcuts**\n",
    "\n",
    "A: insert cell above current cell\n",
    "\n",
    "B: insert cell below current cell\n",
    "\n",
    "M: change cell to Markdown\n",
    "\n",
    "Y: change cell to code\n",
    "\n",
    "DD: delete current cell\n",
    "\n",
    "1: set line to Heading 1\n",
    "\n",
    "2: set line to Heading 2 \n",
    "\n",
    "\n",
    "(For more: See Help Menu Item and select \"Keyboard Shortcuts\")\n",
    "\n",
    "While in Command mode, press enter to go back to Edit Mode "
   ]
  },
  {
   "cell_type": "markdown",
   "metadata": {},
   "source": [
    "#### Multi Cursor Support\n",
    "\n",
    "Use control + mouse click to get multi-cursors in markdown or code cells!\n",
    "\n",
    "A\n",
    "\n",
    "B\n",
    "\n",
    "C\n",
    "\n",
    "D\n",
    "\n",
    "E"
   ]
  },
  {
   "cell_type": "markdown",
   "metadata": {},
   "source": [
    "## Examples from Class 1 Presentation Content"
   ]
  },
  {
   "cell_type": "markdown",
   "metadata": {},
   "source": [
    "### Python Keywords"
   ]
  },
  {
   "cell_type": "code",
   "execution_count": 12,
   "metadata": {},
   "outputs": [
    {
     "name": "stdout",
     "output_type": "stream",
     "text": [
      "False                None                 True                 and\n",
      "as                   assert               async                await\n",
      "break                class                continue             def\n",
      "del                  elif                 else                 except\n",
      "finally              for                  from                 global\n",
      "if                   import               in                   is\n",
      "lambda               nonlocal             not                  or\n",
      "pass                 raise                return               try\n",
      "while                with                 yield                 \n"
     ]
    }
   ],
   "source": [
    "import keyword\n",
    "disp4(keyword.kwlist)"
   ]
  },
  {
   "cell_type": "markdown",
   "metadata": {},
   "source": [
    "### Using the keyword module"
   ]
  },
  {
   "cell_type": "code",
   "execution_count": 13,
   "metadata": {},
   "outputs": [
    {
     "name": "stdout",
     "output_type": "stream",
     "text": [
      "Enter desired variable name: test\n",
      "YES! test can be used as a variable name.\n"
     ]
    }
   ],
   "source": [
    "name = input(\"Enter desired variable name: \")\n",
    "\n",
    "if keyword.iskeyword(name):\n",
    "    print(f\"NO! {name} is a reserved word.\")\n",
    "else:\n",
    "    print(f\"YES! {name} can be used as a variable name.\")"
   ]
  },
  {
   "cell_type": "markdown",
   "metadata": {},
   "source": [
    "### Python Built-in Functions"
   ]
  },
  {
   "cell_type": "code",
   "execution_count": 14,
   "metadata": {
    "code_folding": []
   },
   "outputs": [
    {
     "name": "stdout",
     "output_type": "stream",
     "text": [
      "abs                  all                  any                  ascii\n",
      "bin                  bool                 breakpoint           bytearray\n",
      "bytes                callable             chr                  classmethod\n",
      "compile              complex              copyright            credits\n",
      "delattr              dict                 dir                  display\n",
      "divmod               enumerate            eval                 exec\n",
      "filter               float                format               frozenset\n",
      "get_ipython          getattr              globals              hasattr\n",
      "hash                 help                 hex                  id\n",
      "input                int                  isinstance           issubclass\n",
      "iter                 len                  license              list\n",
      "locals               map                  max                  memoryview\n",
      "min                  next                 object               oct\n",
      "open                 ord                  pow                  print\n",
      "property             range                repr                 reversed\n",
      "round                set                  setattr              slice\n",
      "sorted               staticmethod         str                  sum\n",
      "super                tuple                type                 vars\n",
      "zip                                                             \n"
     ]
    }
   ],
   "source": [
    "# create List ot display     \n",
    "import builtins as blts\n",
    "\n",
    "disp4([i for i in dir(blts) if i[0].islower()])\n"
   ]
  },
  {
   "cell_type": "markdown",
   "metadata": {},
   "source": [
    "### Attribute Access"
   ]
  },
  {
   "cell_type": "code",
   "execution_count": 15,
   "metadata": {},
   "outputs": [
    {
     "name": "stdout",
     "output_type": "stream",
     "text": [
      "__add__              __class__            __contains__         __delattr__\n",
      "__dir__              __doc__              __eq__               __format__\n",
      "__ge__               __getattribute__     __getitem__          __getnewargs__\n",
      "__gt__               __hash__             __init__             __init_subclass__\n",
      "__iter__             __le__               __len__              __lt__\n",
      "__mod__              __mul__              __ne__               __new__\n",
      "__reduce__           __reduce_ex__        __repr__             __rmod__\n",
      "__rmul__             __setattr__          __sizeof__           __str__\n",
      "__subclasshook__     capitalize           casefold             center\n",
      "count                encode               endswith             expandtabs\n",
      "find                 format               format_map           index\n",
      "isalnum              isalpha              isascii              isdecimal\n",
      "isdigit              isidentifier         islower              isnumeric\n",
      "isprintable          isspace              istitle              isupper\n",
      "join                 ljust                lower                lstrip\n",
      "maketrans            partition            replace              rfind\n",
      "rindex               rjust                rpartition           rsplit\n",
      "rstrip               split                splitlines           startswith\n",
      "strip                swapcase             title                translate\n",
      "upper                zfill                                      \n"
     ]
    }
   ],
   "source": [
    "myString = 'This is a string'\n",
    "disp4(dir(myString))"
   ]
  },
  {
   "cell_type": "code",
   "execution_count": 16,
   "metadata": {},
   "outputs": [
    {
     "name": "stdout",
     "output_type": "stream",
     "text": [
      "5\n"
     ]
    }
   ],
   "source": [
    "x = 5\n",
    "\n",
    "print(x)\n",
    "y;"
   ]
  },
  {
   "cell_type": "code",
   "execution_count": 17,
   "metadata": {},
   "outputs": [
    {
     "data": {
      "text/plain": [
       "True"
      ]
     },
     "execution_count": 17,
     "metadata": {},
     "output_type": "execute_result"
    }
   ],
   "source": [
    "\n",
    "myString.startswith('This')"
   ]
  },
  {
   "cell_type": "code",
   "execution_count": 18,
   "metadata": {},
   "outputs": [
    {
     "name": "stdout",
     "output_type": "stream",
     "text": [
      "True\n"
     ]
    }
   ],
   "source": [
    "print(_)"
   ]
  },
  {
   "cell_type": "markdown",
   "metadata": {},
   "source": [
    "### Introspection\n",
    "\n",
    "Python tools for looking inside objects"
   ]
  },
  {
   "cell_type": "code",
   "execution_count": 19,
   "metadata": {},
   "outputs": [
    {
     "data": {
      "text/plain": [
       "['__abs__',\n",
       " '__add__',\n",
       " '__and__',\n",
       " '__bool__',\n",
       " '__ceil__',\n",
       " '__class__',\n",
       " '__delattr__',\n",
       " '__dir__',\n",
       " '__divmod__',\n",
       " '__doc__',\n",
       " '__eq__',\n",
       " '__float__',\n",
       " '__floor__',\n",
       " '__floordiv__',\n",
       " '__format__',\n",
       " '__ge__',\n",
       " '__getattribute__',\n",
       " '__getnewargs__',\n",
       " '__gt__',\n",
       " '__hash__',\n",
       " '__index__',\n",
       " '__init__',\n",
       " '__init_subclass__',\n",
       " '__int__',\n",
       " '__invert__',\n",
       " '__le__',\n",
       " '__lshift__',\n",
       " '__lt__',\n",
       " '__mod__',\n",
       " '__mul__',\n",
       " '__ne__',\n",
       " '__neg__',\n",
       " '__new__',\n",
       " '__or__',\n",
       " '__pos__',\n",
       " '__pow__',\n",
       " '__radd__',\n",
       " '__rand__',\n",
       " '__rdivmod__',\n",
       " '__reduce__',\n",
       " '__reduce_ex__',\n",
       " '__repr__',\n",
       " '__rfloordiv__',\n",
       " '__rlshift__',\n",
       " '__rmod__',\n",
       " '__rmul__',\n",
       " '__ror__',\n",
       " '__round__',\n",
       " '__rpow__',\n",
       " '__rrshift__',\n",
       " '__rshift__',\n",
       " '__rsub__',\n",
       " '__rtruediv__',\n",
       " '__rxor__',\n",
       " '__setattr__',\n",
       " '__sizeof__',\n",
       " '__str__',\n",
       " '__sub__',\n",
       " '__subclasshook__',\n",
       " '__truediv__',\n",
       " '__trunc__',\n",
       " '__xor__',\n",
       " 'bit_length',\n",
       " 'conjugate',\n",
       " 'denominator',\n",
       " 'from_bytes',\n",
       " 'imag',\n",
       " 'numerator',\n",
       " 'real',\n",
       " 'to_bytes']"
      ]
     },
     "execution_count": 19,
     "metadata": {},
     "output_type": "execute_result"
    }
   ],
   "source": [
    "# dir returns a list of atttributes and methods for an object\n",
    "\n",
    "intObj = 5\n",
    "\n",
    "dir(intObj)"
   ]
  },
  {
   "cell_type": "code",
   "execution_count": 20,
   "metadata": {},
   "outputs": [
    {
     "data": {
      "text/plain": [
       "50"
      ]
     },
     "execution_count": 20,
     "metadata": {},
     "output_type": "execute_result"
    }
   ],
   "source": [
    "import sys\n",
    "\n",
    "sys.getsizeof('A')\n"
   ]
  },
  {
   "cell_type": "code",
   "execution_count": 21,
   "metadata": {},
   "outputs": [
    {
     "data": {
      "text/plain": [
       "51"
      ]
     },
     "execution_count": 21,
     "metadata": {},
     "output_type": "execute_result"
    }
   ],
   "source": [
    "sys.getsizeof('AB')"
   ]
  },
  {
   "cell_type": "code",
   "execution_count": 22,
   "metadata": {},
   "outputs": [
    {
     "data": {
      "text/plain": [
       "'This is my string with literals such a \\\\ and another \\\\ adadf'"
      ]
     },
     "execution_count": 22,
     "metadata": {},
     "output_type": "execute_result"
    }
   ],
   "source": [
    "r\"This is my string with literals such a \\ and another \\ adadf\""
   ]
  },
  {
   "cell_type": "code",
   "execution_count": 23,
   "metadata": {},
   "outputs": [
    {
     "name": "stdout",
     "output_type": "stream",
     "text": [
      "28\n",
      "48\n"
     ]
    }
   ],
   "source": [
    "print(sys.getsizeof(2))\n",
    "print(sys.getsizeof(234455566632323323333333333121321311313134421355544))"
   ]
  },
  {
   "cell_type": "markdown",
   "metadata": {},
   "source": [
    "### Collections"
   ]
  },
  {
   "cell_type": "markdown",
   "metadata": {},
   "source": [
    "### Example List"
   ]
  },
  {
   "cell_type": "code",
   "execution_count": 24,
   "metadata": {},
   "outputs": [
    {
     "name": "stdout",
     "output_type": "stream",
     "text": [
      "['a', 'd', 'a', 'acorn', 44553, 14, 'test']\n"
     ]
    }
   ],
   "source": [
    "myList = ['a', 'd', 'a', 'acorn', 44553, 14, 'test']\n",
    "\n",
    "print(myList)"
   ]
  },
  {
   "cell_type": "markdown",
   "metadata": {},
   "source": [
    "###  Example Set"
   ]
  },
  {
   "cell_type": "code",
   "execution_count": 25,
   "metadata": {},
   "outputs": [
    {
     "name": "stdout",
     "output_type": "stream",
     "text": [
      "{'a', 'acorn', 'test', 'd', 44553, 14}\n"
     ]
    }
   ],
   "source": [
    "mySet = {'a', 'd', 'a', 'acorn', 44553, 14, 'test'}\n",
    "\n",
    "print(mySet)"
   ]
  },
  {
   "cell_type": "markdown",
   "metadata": {},
   "source": [
    "### Example Dictionary"
   ]
  },
  {
   "cell_type": "code",
   "execution_count": 26,
   "metadata": {},
   "outputs": [
    {
     "name": "stdout",
     "output_type": "stream",
     "text": [
      "{'a': 1, 'b': 2, 'c': 3, 'd': 4, 'e': 5}\n"
     ]
    }
   ],
   "source": [
    "myDict = {\n",
    "    'a':1,\n",
    "    'b':2,\n",
    "    'c':3,\n",
    "    'd':4,\n",
    "    'e':5 \n",
    "    }\n",
    "\n",
    "print(myDict)"
   ]
  },
  {
   "cell_type": "markdown",
   "metadata": {},
   "source": [
    "### Indexing Collections"
   ]
  },
  {
   "cell_type": "code",
   "execution_count": 27,
   "metadata": {},
   "outputs": [],
   "source": [
    "# exercise: choose slices from myList, mySet and myDict\n",
    "\n",
    "\n"
   ]
  },
  {
   "cell_type": "markdown",
   "metadata": {},
   "source": [
    "### Unpacking Collections"
   ]
  },
  {
   "cell_type": "code",
   "execution_count": 28,
   "metadata": {},
   "outputs": [
    {
     "name": "stdout",
     "output_type": "stream",
     "text": [
      "a\n",
      "test\n",
      "['d', 'a', 'acorn', 44553, 14]\n"
     ]
    }
   ],
   "source": [
    "first, *__, last = myList\n",
    "\n",
    "print(first)\n",
    "print(last)\n",
    "print(__)"
   ]
  },
  {
   "cell_type": "code",
   "execution_count": 29,
   "metadata": {},
   "outputs": [
    {
     "data": {
      "text/plain": [
       "True"
      ]
     },
     "execution_count": 29,
     "metadata": {},
     "output_type": "execute_result"
    }
   ],
   "source": [
    "hasattr(myDict,'items')"
   ]
  },
  {
   "cell_type": "code",
   "execution_count": 30,
   "metadata": {},
   "outputs": [
    {
     "name": "stdout",
     "output_type": "stream",
     "text": [
      "('a', 1)\n",
      "('b', 2)\n",
      "('c', 3)\n",
      "('d', 4)\n",
      "('e', 5)\n"
     ]
    }
   ],
   "source": [
    "a,b,c,d,e = myDict.items()\n",
    "print(a)\n",
    "print(b)\n",
    "print(c)\n",
    "print(d)\n",
    "print(e)\n",
    "\n",
    "# would actually use a \"for in loop\" to print all items:\n",
    "# for i in myDict.items()\n",
    "#     print(i)"
   ]
  },
  {
   "cell_type": "markdown",
   "metadata": {},
   "source": [
    "### Operators"
   ]
  },
  {
   "cell_type": "code",
   "execution_count": 31,
   "metadata": {},
   "outputs": [
    {
     "name": "stdout",
     "output_type": "stream",
     "text": [
      "['a', 'b', 'a', 'b', 'a', 'b']\n",
      "['a', 'b', 'd', 'e', 'f']\n"
     ]
    }
   ],
   "source": [
    "# + and * functionality for collections:\n",
    "\n",
    "list1 = ['a','b']\n",
    "list2 = ['d','e','f']\n",
    "\n",
    "print(list1*3)\n",
    "print(list1 + list2)"
   ]
  },
  {
   "cell_type": "code",
   "execution_count": 32,
   "metadata": {},
   "outputs": [
    {
     "name": "stdout",
     "output_type": "stream",
     "text": [
      "[['a', 'b'], ['a', 'b'], ['a', 'b']]\n",
      "['a', 'b']\n",
      "b\n"
     ]
    }
   ],
   "source": [
    "out = [list1]*3\n",
    "print(out)\n",
    "print(out[0])\n",
    "print(out[0][1])"
   ]
  },
  {
   "cell_type": "markdown",
   "metadata": {},
   "source": [
    "### Mutable / Immutable\n",
    "\n",
    "\n",
    "try examples of live code at http://pythontutor.com/visualize.html#mode=edit"
   ]
  },
  {
   "cell_type": "code",
   "execution_count": 33,
   "metadata": {},
   "outputs": [
    {
     "name": "stdout",
     "output_type": "stream",
     "text": [
      "[['a', 'b'], ['a', 'b'], ['a', 'b']]\n",
      "a\n",
      "[['Wow!', 'b'], ['Wow!', 'b'], ['Wow!', 'b']]\n"
     ]
    }
   ],
   "source": [
    "print(out)\n",
    "print(out[2][0])\n",
    "out[2][0] = 'Wow!'\n",
    "print(out)"
   ]
  },
  {
   "cell_type": "code",
   "execution_count": 34,
   "metadata": {},
   "outputs": [
    {
     "name": "stdout",
     "output_type": "stream",
     "text": [
      "['Wow!', 'b']\n",
      "['Wow!', 'b', 'Wow!', 'b', 'Wow!', 'b']\n",
      "Wow!\n",
      "['Wow!', 'b', 'B', 'b', 'Wow!', 'b']\n"
     ]
    }
   ],
   "source": [
    "print(list1)\n",
    "out = list1*3\n",
    "print(out)\n",
    "print(out[2])\n",
    "out[2] = 'B'\n",
    "print(out)"
   ]
  },
  {
   "cell_type": "markdown",
   "metadata": {},
   "source": [
    "### Iterable and Iterator"
   ]
  },
  {
   "cell_type": "code",
   "execution_count": 35,
   "metadata": {},
   "outputs": [
    {
     "name": "stdout",
     "output_type": "stream",
     "text": [
      "A string is Iterable\n",
      "Using iter with an Iterable  is Iterator & Iterable\n",
      "A list is Iterable\n",
      "A file is Iterator & Iterable\n"
     ]
    }
   ],
   "source": [
    "def hasIter(obj): \n",
    "    return  hasattr(obj, \"__iter__\")\n",
    "\n",
    "def hasNext(obj):\n",
    "    return  hasattr(obj, \"__next__\")\n",
    "\n",
    "\n",
    "options = {\n",
    "    (True, False): \"Iterable\",\n",
    "    (True, True): \"Iterator & Iterable\",\n",
    "    (False, False): \"Neither\"\n",
    "    \n",
    "}\n",
    "\n",
    "def reportResult(title, obj):\n",
    "    print(title + \" is \" + options[hasIter(obj),hasNext(obj)])    \n",
    "\n",
    "\n",
    "# examples\n",
    "\n",
    "myString = \"This is an iterable\"\n",
    "myList = [5,6,12,15]\n",
    "myFile = open(\"./src/myScript.py\")\n",
    "\n",
    "reportResult(\"A string\", myString)\n",
    "reportResult(\"Using iter with an Iterable \", iter(myString))\n",
    "reportResult(\"A list\", myList)\n",
    "reportResult(\"A file\", myFile)\n",
    "\n",
    "\n",
    "myFile.close()"
   ]
  },
  {
   "cell_type": "code",
   "execution_count": 36,
   "metadata": {},
   "outputs": [
    {
     "name": "stdout",
     "output_type": "stream",
     "text": [
      "T\n"
     ]
    }
   ],
   "source": [
    "tryThis = iter(myString)\n",
    "print(next(tryThis))"
   ]
  },
  {
   "cell_type": "code",
   "execution_count": 37,
   "metadata": {},
   "outputs": [
    {
     "name": "stdout",
     "output_type": "stream",
     "text": [
      "print(\"My script did run!\")\n",
      "\n"
     ]
    }
   ],
   "source": [
    "myFile = open(\"./src/myScript.py\")\n",
    "\n",
    "print(next(myFile))\n",
    "\n",
    "myFile.close()"
   ]
  },
  {
   "cell_type": "markdown",
   "metadata": {},
   "source": [
    "### Loops\n",
    "\n",
    "PLEASE Google and WATCH \"Loop Like a Native\" by Ned Batchelder"
   ]
  },
  {
   "cell_type": "code",
   "execution_count": 38,
   "metadata": {},
   "outputs": [
    {
     "name": "stdout",
     "output_type": "stream",
     "text": [
      "apples\n",
      "bananas\n",
      "grapes\n",
      "pears\n"
     ]
    }
   ],
   "source": [
    "myIterable = ['apples', 'bananas', 'grapes', 5, 'pears']\n",
    "\n",
    "for fruit in myIterable:\n",
    "    if isinstance(fruit, str):\n",
    "        print(fruit)"
   ]
  },
  {
   "cell_type": "code",
   "execution_count": 39,
   "metadata": {},
   "outputs": [
    {
     "name": "stdout",
     "output_type": "stream",
     "text": [
      "0 apples\n",
      "1 bananas\n",
      "2 grapes\n",
      "4 pears\n"
     ]
    }
   ],
   "source": [
    "for item, fruit in enumerate(myIterable):\n",
    "    if isinstance(fruit, str):\n",
    "        print(item, fruit)    "
   ]
  },
  {
   "cell_type": "code",
   "execution_count": 40,
   "metadata": {},
   "outputs": [
    {
     "name": "stdout",
     "output_type": "stream",
     "text": [
      "print(\"My script did run!\")\n",
      "\n",
      "x = 5\n",
      "\n",
      "y = 7\n",
      "\n",
      "print(\"I added the variables x and y\")\n"
     ]
    }
   ],
   "source": [
    "myFile = open(\"./src/myScript.py\")\n",
    "\n",
    "for line in myFile:\n",
    "    print(line)\n",
    "\n",
    "myFile.close()"
   ]
  },
  {
   "cell_type": "markdown",
   "metadata": {},
   "source": [
    "### List Comprehensions"
   ]
  },
  {
   "cell_type": "code",
   "execution_count": 41,
   "metadata": {},
   "outputs": [
    {
     "name": "stdout",
     "output_type": "stream",
     "text": [
      "[13, 14, 15, 24]\n"
     ]
    }
   ],
   "source": [
    "myList = [1,2,3,12]\n",
    "\n",
    "out = [i + 12 for i in myList]\n",
    "print(out)"
   ]
  },
  {
   "cell_type": "code",
   "execution_count": 42,
   "metadata": {},
   "outputs": [
    {
     "name": "stdout",
     "output_type": "stream",
     "text": [
      "apples mmmmm!\n",
      "bananas mmmmm!\n",
      "grapes mmmmm!\n",
      "pears mmmmm!\n"
     ]
    }
   ],
   "source": [
    "[print(i + \" mmmmm!\") for i in myIterable if isinstance(i, str)];"
   ]
  },
  {
   "cell_type": "markdown",
   "metadata": {},
   "source": [
    "### Zip"
   ]
  },
  {
   "cell_type": "code",
   "execution_count": 43,
   "metadata": {},
   "outputs": [
    {
     "data": {
      "text/plain": [
       "<zip at 0x177bd4590c8>"
      ]
     },
     "execution_count": 43,
     "metadata": {},
     "output_type": "execute_result"
    }
   ],
   "source": [
    "names = ['Gary', 'James', 'Fred', 'Mary']\n",
    "ages = [26, 34, 19, 27]\n",
    "balance = [5.42, 3.15, 2.41, 6.12]\n",
    "\n",
    "zipDemo1 = zip(names, ages, balance)\n",
    "zipDemo1\n",
    "\n",
    "# show what happens when one list is shorter"
   ]
  },
  {
   "cell_type": "code",
   "execution_count": 44,
   "metadata": {},
   "outputs": [
    {
     "name": "stdout",
     "output_type": "stream",
     "text": [
      "{1: ['pear', 'apple', 'banana'],\n",
      " 2: 12,\n",
      " 3: 'car',\n",
      " 4: <function sq at 0x00000177BD435A60>,\n",
      " 12: 'Fred',\n",
      " 249: 74}\n"
     ]
    }
   ],
   "source": [
    "# use zip to create  dictionary\n",
    "\n",
    "\n",
    "def sq(x): return x**2\n",
    "\n",
    "\n",
    "keys = [1,2,3,4,12,249]\n",
    "items = [[\"pear\",\"apple\",\"banana\"], 12, \"car\", sq, \"Fred\", 74]\n",
    "\n",
    "myDict = dict(zip(keys, items))\n",
    "\n",
    "from pprint import pprint\n",
    "pprint(myDict)"
   ]
  },
  {
   "cell_type": "code",
   "execution_count": 45,
   "metadata": {},
   "outputs": [
    {
     "data": {
      "text/plain": [
       "49"
      ]
     },
     "execution_count": 45,
     "metadata": {},
     "output_type": "execute_result"
    }
   ],
   "source": [
    "# showing how a dictionary element can be a function\n",
    "myDict[4](7)"
   ]
  },
  {
   "cell_type": "markdown",
   "metadata": {},
   "source": [
    "### Function Arguments"
   ]
  },
  {
   "cell_type": "code",
   "execution_count": 46,
   "metadata": {},
   "outputs": [],
   "source": [
    "def addThese(x, y, z = 5):\n",
    "    if x < 0:\n",
    "        print(\"x must be positive\")\n",
    "        return False\n",
    "    return x + y + z\n"
   ]
  },
  {
   "cell_type": "code",
   "execution_count": 47,
   "metadata": {},
   "outputs": [
    {
     "name": "stdout",
     "output_type": "stream",
     "text": [
      "Sigh... Do you know what you are doing?\n",
      "got to demo try - except - finally too!\n"
     ]
    }
   ],
   "source": [
    "# BAD! TypeError when missing a required positional arguments\n",
    "\n",
    "try:\n",
    "    addThese(5)\n",
    "except TypeError:\n",
    "    print(\"Sigh... Do you know what you are doing?\")\n",
    "finally:\n",
    "    print(\"got to demo try - except - finally too!\")"
   ]
  },
  {
   "cell_type": "code",
   "execution_count": 48,
   "metadata": {},
   "outputs": [
    {
     "name": "stdout",
     "output_type": "stream",
     "text": [
      "x must be positive\n"
     ]
    },
    {
     "data": {
      "text/plain": [
       "False"
      ]
     },
     "execution_count": 48,
     "metadata": {},
     "output_type": "execute_result"
    }
   ],
   "source": [
    "# 2 positional argument\n",
    "addThese(-3,2)"
   ]
  },
  {
   "cell_type": "code",
   "execution_count": 49,
   "metadata": {},
   "outputs": [
    {
     "ename": "SyntaxError",
     "evalue": "positional argument follows keyword argument (<ipython-input-49-33b6ee8c6f44>, line 7)",
     "output_type": "error",
     "traceback": [
      "\u001b[1;36m  File \u001b[1;32m\"<ipython-input-49-33b6ee8c6f44>\"\u001b[1;36m, line \u001b[1;32m7\u001b[0m\n\u001b[1;33m    addThese(y=-3, 2)\u001b[0m\n\u001b[1;37m                  ^\u001b[0m\n\u001b[1;31mSyntaxError\u001b[0m\u001b[1;31m:\u001b[0m positional argument follows keyword argument\n"
     ]
    }
   ],
   "source": [
    "# BAD! SyntaxError due to positional argument following a keyword argument\n",
    "# also this type of error cannot be caught in a try except block!\n",
    "# This is because SytaxErrors get raised when the code is parsed, not when\n",
    "# the line of code is executed\n",
    "\n",
    "try:\n",
    "    addThese(y=-3, 2)\n",
    "except SyntaxError:\n",
    "    Print(\"Bad! You can't have a positional argument following a keyword argument!\")"
   ]
  },
  {
   "cell_type": "code",
   "execution_count": 50,
   "metadata": {},
   "outputs": [
    {
     "data": {
      "text/plain": [
       "4"
      ]
     },
     "execution_count": 50,
     "metadata": {},
     "output_type": "execute_result"
    }
   ],
   "source": [
    "# 2 keyword arguments\n",
    "addThese(y=-3, x=2)"
   ]
  },
  {
   "cell_type": "markdown",
   "metadata": {},
   "source": [
    "### Default Values for Arguments\n",
    "\n",
    "\n",
    "\n",
    "<br><div class=warn>\n",
    "    <b>Pro Tip:</b> Default values for arguments are evaluated only once when code if first run. If arugment is a mutable object, the latest value will be retained (and not reset to default value when function is called again).   \n",
    "</div>\n",
    "    \n",
    "\n",
    "\n",
    "(try this at http://pythontutor.com/visualize.html#mode=edit)\n",
    "\n",
    "This can be used to emulate static variable definitions, since Python does not have an explicit definition for that.\n",
    "\n",
    "def test(arg1 = []):\n",
    "     // function code here\n",
    "\n",
    "\n",
    "\n",
    "To actually have a function with a mutable default value that clears do\n",
    "\n",
    "def test(arg1 = None):\n",
    "    if arg1 = None:\n",
    "        arg1 = []\n",
    "    //function code here"
   ]
  },
  {
   "cell_type": "markdown",
   "metadata": {},
   "source": [
    "###  \\*args, \\*\\*kwargs\n",
    "\n",
    "Use sparingly!\n",
    "Not necessary to write out \"args\", \"kwargs\"- these can be any variables\n",
    "\n",
    "\\*args allows for passing a variable number of elements.  \n",
    "\n",
    "If \\*args appears, args must evaluate to a iterable, the contents of which are treated as additional **positional** arguments\n",
    "If \\*\\*kwargs appears, keargs must evaluate to a mapping, the contentes of which are treated as additional **keyword** arguments\n",
    "\n",
    "(related to this is the zip() function and zip(*))"
   ]
  },
  {
   "cell_type": "markdown",
   "metadata": {},
   "source": [
    "for keyword arguments it is good practice to use get with a default value:"
   ]
  },
  {
   "cell_type": "code",
   "execution_count": 53,
   "metadata": {},
   "outputs": [
    {
     "name": "stdout",
     "output_type": "stream",
     "text": [
      "Default\n"
     ]
    }
   ],
   "source": [
    "def kwargsDemo(**keywords):\n",
    "    myArgs = keywords.get('myArgs', 'Default')\n",
    "    print(myArgs)\n",
    "\n",
    "myKeywords = kwargsDemo(a = 5, b= 6)"
   ]
  },
  {
   "cell_type": "code",
   "execution_count": 54,
   "metadata": {},
   "outputs": [],
   "source": [
    "class tryThis():\n",
    "    __myVar = 5\n"
   ]
  },
  {
   "cell_type": "code",
   "execution_count": 55,
   "metadata": {},
   "outputs": [
    {
     "data": {
      "text/plain": [
       "['__class__',\n",
       " '__delattr__',\n",
       " '__dict__',\n",
       " '__dir__',\n",
       " '__doc__',\n",
       " '__eq__',\n",
       " '__format__',\n",
       " '__ge__',\n",
       " '__getattribute__',\n",
       " '__gt__',\n",
       " '__hash__',\n",
       " '__init__',\n",
       " '__init_subclass__',\n",
       " '__le__',\n",
       " '__lt__',\n",
       " '__module__',\n",
       " '__ne__',\n",
       " '__new__',\n",
       " '__reduce__',\n",
       " '__reduce_ex__',\n",
       " '__repr__',\n",
       " '__setattr__',\n",
       " '__sizeof__',\n",
       " '__str__',\n",
       " '__subclasshook__',\n",
       " '__weakref__',\n",
       " '_tryThis__myVar']"
      ]
     },
     "execution_count": 55,
     "metadata": {},
     "output_type": "execute_result"
    }
   ],
   "source": [
    "dir(tryThis)"
   ]
  },
  {
   "cell_type": "markdown",
   "metadata": {},
   "source": [
    "### Function Scope"
   ]
  },
  {
   "cell_type": "code",
   "execution_count": 56,
   "metadata": {},
   "outputs": [],
   "source": [
    "## Showing read only access to enclosing scope in order going out\n",
    "\n",
    "a = 5\n",
    "b = 7\n",
    "def myOuterFunc():\n",
    "    print(f'a from OuterFunc = {a}')\n",
    "    print(f'b from OuterFunc = {b}')\n",
    "    print('-----------------------')\n",
    "    y = 12\n",
    "    def myInnerFunc(x):\n",
    "        print(f'a from InnerFunc = {a}') \n",
    "        print(f'b from InnerFunc = {b}') \n",
    "        print(f'y from InnerFunc = {y}')\n",
    "        print('-----------------------')\n",
    "    return myInnerFunc(b)\n",
    "\n",
    "\n"
   ]
  },
  {
   "cell_type": "code",
   "execution_count": 57,
   "metadata": {},
   "outputs": [
    {
     "name": "stdout",
     "output_type": "stream",
     "text": [
      "a from OuterFunc = 5\n",
      "b from OuterFunc = 7\n",
      "-----------------------\n",
      "a from InnerFunc = 5\n",
      "b from InnerFunc = 7\n",
      "y from InnerFunc = 12\n",
      "-----------------------\n",
      "a from global scope = 5\n",
      "b from global scope = 7\n"
     ]
    }
   ],
   "source": [
    "myOuterFunc()\n",
    "print(f'a from global scope = {a}')\n",
    "print(f'b from global scope = {b}')"
   ]
  },
  {
   "cell_type": "code",
   "execution_count": 58,
   "metadata": {},
   "outputs": [],
   "source": [
    "# Showing \"Referenced Before Assignment Error\"\n",
    "\n",
    "# show how this can be fixed either by \n",
    "# - passing b in through parameter\n",
    "# - assigning b prior to reference\n",
    "# - or using Global keyword \n",
    "# - or removing refrerence to b in myOuterFunc \n",
    "\n",
    "a = 5\n",
    "b = 7\n",
    "def myOuterFunc():\n",
    "    print(f'a from OuterFunc = {a}')\n",
    "    print(f'b from OuterFunc = {b}')\n",
    "    print('-----------------------')\n",
    "    b = 15\n",
    "    y = 12\n",
    "    def myInnerFunc():\n",
    "        print(f'a from InnerFunc = {a}') \n",
    "        print(f'b from InnerFunc = {b}') \n",
    "        print(f'y from InnerFunc = {y}')\n",
    "        print('-----------------------')\n",
    "    return myInnerFunc()\n",
    "\n",
    "\n"
   ]
  },
  {
   "cell_type": "code",
   "execution_count": 59,
   "metadata": {},
   "outputs": [
    {
     "name": "stdout",
     "output_type": "stream",
     "text": [
      "a from OuterFunc = 5\n",
      "ERROR! Read comments in this code block to fix this!\n"
     ]
    }
   ],
   "source": [
    "try:\n",
    "    myOuterFunc()\n",
    "except UnboundLocalError:\n",
    "    print(\"ERROR! Read comments in this code block to fix this!\")"
   ]
  },
  {
   "cell_type": "markdown",
   "metadata": {},
   "source": [
    "### Lambda Functions"
   ]
  },
  {
   "cell_type": "code",
   "execution_count": 60,
   "metadata": {},
   "outputs": [
    {
     "name": "stdout",
     "output_type": "stream",
     "text": [
      "22\n",
      "22\n",
      "22\n"
     ]
    }
   ],
   "source": [
    "# example for simple function\n",
    "\n",
    "# as a function definition\n",
    "def addThis(x,y): return x+y      # <--- This puts addThis in our namespace\n",
    "\n",
    "addThis2 = lambda x,y: x+y        # <--- Not a good application for lambda functions\n",
    "\n",
    "\n",
    "print(addThis(10,12))\n",
    "print(addThis2(10,12))\n",
    "print((lambda x,y: x+y)(10,12))   # <--- One time use and not left in namespace   "
   ]
  },
  {
   "cell_type": "code",
   "execution_count": 61,
   "metadata": {},
   "outputs": [],
   "source": [
    "# example using lambda function with filter\n",
    "\n",
    "myList = [('dan',13), ('fred', 26), ('stacy', 34), ('dan', 18), ('thomas', 26)]"
   ]
  },
  {
   "cell_type": "code",
   "execution_count": 62,
   "metadata": {},
   "outputs": [
    {
     "name": "stdout",
     "output_type": "stream",
     "text": [
      "[('dan', 13), ('dan', 18)]\n"
     ]
    }
   ],
   "source": [
    "# filter takes two arguments: filter(myFunc, myList)\n",
    "\n",
    "# myFunc: function to process on each item in the list to return True or False\n",
    "# myList: list to filter \n",
    "\n",
    "\n",
    "\n",
    "# Using Filter with a function definition\n",
    "def myTest(x):\n",
    "    return x[0] == 'dan'\n",
    "\n",
    "getDans = filter(myTest, myList)\n",
    "\n",
    "print(list(getDans))"
   ]
  },
  {
   "cell_type": "code",
   "execution_count": 63,
   "metadata": {},
   "outputs": [
    {
     "name": "stdout",
     "output_type": "stream",
     "text": [
      "[('dan', 13), ('dan', 18)]\n"
     ]
    }
   ],
   "source": [
    "# Using filter with a lambda\n",
    "\n",
    "getDans = filter(lambda x: x[0] == 'dan', myList)\n",
    "\n",
    "print(list(getDans))"
   ]
  },
  {
   "cell_type": "code",
   "execution_count": 64,
   "metadata": {},
   "outputs": [
    {
     "name": "stdout",
     "output_type": "stream",
     "text": [
      "[('fred', 26), ('stacy', 34), ('thomas', 26)]\n"
     ]
    }
   ],
   "source": [
    "getAge = filter(lambda x: x[1] > 25, myList)\n",
    "\n",
    "print(list(getAge))"
   ]
  },
  {
   "cell_type": "code",
   "execution_count": 65,
   "metadata": {},
   "outputs": [
    {
     "name": "stdout",
     "output_type": "stream",
     "text": [
      "['Exciting? Ha! So what', 'Wonderful? Ha! So what', 'Outstanding? Ha! So what', 'Fantastic? Ha! So what']\n"
     ]
    }
   ],
   "source": [
    "# example map\n",
    "\n",
    "myExpressions = [\"Exciting\", \"Wonderful\", \"Outstanding\", \"Fantastic\"]\n",
    "\n",
    "sarcasm = map(lambda x: x + \"? Ha! So what\", myExpressions)\n",
    "print(list(sarcasm))"
   ]
  },
  {
   "cell_type": "markdown",
   "metadata": {},
   "source": [
    "### Reading / Writing Files"
   ]
  },
  {
   "cell_type": "code",
   "execution_count": 4,
   "metadata": {
    "code_folding": []
   },
   "outputs": [
    {
     "data": {
      "text/markdown": [
       "## Glossary"
      ],
      "text/plain": [
       "<IPython.core.display.Markdown object>"
      ]
     },
     "metadata": {},
     "output_type": "display_data"
    },
    {
     "data": {
      "text/markdown": [
       "| **<p align='left'> Item </p>** |  <p align='left'> Description </p> |\n",
       "| ---| :---|\n",
       "| **<p align='left'> Anaconda </p>** |  <p align='left'> Python distribution package tailored for data sciences. It includes thousands of popular data science packages, the Spyder IDE, Jupyter Notebook, and the conda package and virtual environment manager for Windows, Linux and MacOS. </p> |\n",
       "| **<p align='left'> conda </p>** |  <p align='left'> Command line package and environment manager. (Anaconda Navigator is the GUI to Conda) </p> |\n",
       "| **<p align='left'> cython </p>** |  <p align='left'> C compiler for functions to make them faster </p> |\n",
       "| **<p align='left'> IDE </p>** |  <p align='left'> Integrated Development Environment bringing together basic tools for writing and debugging software under one user interface </p> |\n",
       "| **<p align='left'> JupyterHub </p>** |  <p align='left'> Multi-user server for Jupyter Notebooks </p> |\n",
       "| **<p align='left'> Jupyter Notebook </p>** |  <p align='left'> Interactive environment combining code cells with rich text elements including equations, figures, images and links and interactive plotting. </p> |\n",
       "| **<p align='left'> JupyterLab </p>** |  <p align='left'> Next generation UI for Project Jupyter offering and IDE like experience for data science applications (currently in Beta and will eventually replace Jupyter Notebook) </p> |\n",
       "| **<p align='left'> Markdown </p>** |  <p align='left'> Lightweight markup language used in Jupyter Notebooks </p> |\n",
       "| **<p align='left'> MathJax </p>** |  <p align='left'> Markdown specific for rendering equations. Jupyter markdown parser is MathJax aware. </p> |\n",
       "| **<p align='left'> matplotlib </p>** |  <p align='left'> Plotting library includes pyplot that works like Matlab </p> |\n",
       "| **<p align='left'> Module </p>** |  <p align='left'> A single file containing Python objects including definitions of functions, classes, variables, and constants. </p> |\n",
       "| **<p align='left'> NumPy </p>** |  <p align='left'> Python extension module for numerical data allowing for efficient vectorized operations on arrays </p> |\n",
       "| **<p align='left'> pandas </p>** |  <p align='left'> Python package for data analysis for working with \"labeled\" or \"relational\" data in an easy and intuitive way similar to spreadsheets. </p> |\n",
       "| **<p align='left'> pip </p>** |  <p align='left'> Python tool for installing and managing packages.  Similar to conda and can be used side by side (Since Anaconda environment is managed with conda, try to install new packages with conda first, and if not available use pip).   </p> |\n",
       "| **<p align='left'> SciPy </p>** |  <p align='left'> Package containing scientific and numerical tools for Python supporting integration, ODE solvers, gradient optimization. Very fast, efficient and robust as most are wrappers around existing C/Fortran routines from www.netlib.org </p> |\n",
       "| **<p align='left'> Seaborn </p>** |  <p align='left'> Plotting library built over Matplotlib for more attractive plots. Simply importing Seaborn will beautify existing plots </p> |\n",
       "| **<p align='left'> Spyder </p>** |  <p align='left'> IDE packaged with Anaconda </p> |\n",
       "| **<p align='left'> Package </p>** |  <p align='left'> A collection of modules under a common namespace.  </p> |\n",
       "| **<p align='left'> Library </p>** |  <p align='left'> General term for a module, package or collection of packages for use in a general application area or functional space. </p> |\n"
      ],
      "text/plain": [
       "<IPython.core.display.Markdown object>"
      ]
     },
     "metadata": {},
     "output_type": "display_data"
    }
   ],
   "source": [
    "# reading a CSV file and displaying it with markdown as a table\n",
    "\n",
    "import csv\n",
    "\n",
    "def printmd(stringWithMarkdown):\n",
    "    from IPython.display import Markdown, display\n",
    "    display(Markdown(stringWithMarkdown))\n",
    "\n",
    "def left(text): return (f\"<p align='left'> {text} </p>\")\n",
    "def right(text): return (f\"<p align='right'> {text} </p>\")\n",
    "def center(text): return (f\"<p align='center'> {text} </p>\")\n",
    "def justify(text): return (f\"<p align='justify'> {text} </p>\")\n",
    "\n",
    "\n",
    "printmd(\"## Glossary\")\n",
    "\n",
    "with open(\"./data/glossary.csv\", newline = \"\") as f:\n",
    "    myTable = \"\"\n",
    "    glossary = csv.reader(f)\n",
    "    # skip header\n",
    "    header = next(glossary)\n",
    "    #add bold Markdown\n",
    "    space = \"&nbsp; \"\n",
    "    item, description = header\n",
    "    myTable += (f\"| **{left(item)}** |  {left(description)} |\\n\")\n",
    "    myTable += (\"| ---| :---|\\n\")\n",
    "    \n",
    "    for line in glossary:\n",
    "        item, description = line\n",
    "        myTable += (f\"| **{left(item)}** |  {left(description)} |\\n\")\n",
    "    \n",
    "    printmd(myTable)\n",
    "        "
   ]
  },
  {
   "cell_type": "code",
   "execution_count": null,
   "metadata": {},
   "outputs": [],
   "source": []
  }
 ],
 "metadata": {
  "hide_input": false,
  "kernelspec": {
   "display_name": "Python 3",
   "language": "python",
   "name": "python3"
  },
  "language_info": {
   "codemirror_mode": {
    "name": "ipython",
    "version": 3
   },
   "file_extension": ".py",
   "mimetype": "text/x-python",
   "name": "python",
   "nbconvert_exporter": "python",
   "pygments_lexer": "ipython3",
   "version": "3.7.1"
  },
  "toc": {
   "base_numbering": 1,
   "nav_menu": {},
   "number_sections": true,
   "sideBar": true,
   "skip_h1_title": true,
   "title_cell": "Table of Contents",
   "title_sidebar": "Contents",
   "toc_cell": false,
   "toc_position": {
    "height": "calc(100% - 180px)",
    "left": "10px",
    "top": "150px",
    "width": "348.797px"
   },
   "toc_section_display": true,
   "toc_window_display": true
  },
  "varInspector": {
   "cols": {
    "lenName": 16,
    "lenType": 16,
    "lenVar": 40
   },
   "kernels_config": {
    "python": {
     "delete_cmd_postfix": "",
     "delete_cmd_prefix": "del ",
     "library": "var_list.py",
     "varRefreshCmd": "print(var_dic_list())"
    },
    "r": {
     "delete_cmd_postfix": ") ",
     "delete_cmd_prefix": "rm(",
     "library": "var_list.r",
     "varRefreshCmd": "cat(var_dic_list()) "
    }
   },
   "oldHeight": 516,
   "position": {
    "height": "40px",
    "left": "891px",
    "right": "20px",
    "top": "65px",
    "width": "350px"
   },
   "types_to_exclude": [
    "module",
    "function",
    "builtin_function_or_method",
    "instance",
    "_Feature"
   ],
   "varInspector_section_display": "none",
   "window_display": true
  }
 },
 "nbformat": 4,
 "nbformat_minor": 2
}
