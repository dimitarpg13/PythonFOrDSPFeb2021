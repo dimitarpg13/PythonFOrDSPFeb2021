{
 "cells": [
  {
   "cell_type": "markdown",
   "metadata": {},
   "source": [
    "<img src=\"img/logo.png\" align=\"left\" width=\"200\">\n",
    "<h1 style=\"text-align: center;\"> Applications for Digital Design and Signal Processing </h1>\n",
    "<h1 style=\"text-align: center;\"> Test Notebook </h1>\n"
   ]
  },
  {
   "cell_type": "markdown",
   "metadata": {},
   "source": [
    "## Testing\n",
    "\n",
    "This notebook contains some simple tests to confirm that everything runs propertly before the first session. Click on each cell in this notebook starting from the beginning and press the run button at the top menu bar in turn for each cell. Please e-mail Dan at boschen@loglin.com if you have any issues getting the notebook to load properly. "
   ]
  },
  {
   "cell_type": "markdown",
   "metadata": {},
   "source": [
    "### Markdown\n",
    "\n",
    "\n",
    "- [x] complete item\n",
    "- [ ] open item\n",
    "\n",
    "\n",
    "___\n",
    "\n",
    "#### Emphasis\n",
    "\n",
    "sentence with *Italic text*\n",
    "\n",
    "sentence with **bold text**\n",
    "\n",
    "sentence with ***bold and italic text***\n",
    "\n",
    "___\n",
    "\n",
    "#### Tables\n",
    "\n",
    "| Col1 | Col2 | Col3 | \n",
    "| ---| ---| --- |\n",
    "|  a  |  b   |   e |\n",
    "|  c  |  d   |   f |\n",
    "\n",
    "\n",
    "___\n",
    "\n",
    "#### Equations with MathJax\n",
    "\n",
    "$$\\int_0^{\\infty}(x^2 + 5) dx  $$\n",
    "\n",
    "\n",
    "#### Images\n",
    "\n",
    "Images in Markdown block\n",
    "![cool](img/cool1.png) \n",
    "\n",
    "<img src=\"img/cool1.png\" align=\"left\" width=\"200\">\n",
    "\n",
    "<img src=\"img/cool1.png\" align=\"right\" width=\"200\">\n"
   ]
  },
  {
   "cell_type": "markdown",
   "metadata": {},
   "source": [
    "#### Run external script"
   ]
  },
  {
   "cell_type": "code",
   "execution_count": null,
   "metadata": {},
   "outputs": [],
   "source": [
    "%run \"./src/my_script.py\"\n",
    "print(f\"x = {x}\")\n",
    "print(f\"y = {y}\")"
   ]
  },
  {
   "cell_type": "markdown",
   "metadata": {},
   "source": [
    "### Numpy Scipy and Matplotlib\n",
    "\n",
    "Run the cells below and ensure the plot displays completely with interactive controls below the plot."
   ]
  },
  {
   "cell_type": "code",
   "execution_count": null,
   "metadata": {},
   "outputs": [],
   "source": [
    "import numpy as np\n",
    "import scipy.signal as sig\n",
    "import matplotlib.pyplot as plt\n"
   ]
  },
  {
   "cell_type": "code",
   "execution_count": null,
   "metadata": {},
   "outputs": [],
   "source": [
    "%matplotlib notebook \n",
    "# enables interactive plots"
   ]
  },
  {
   "cell_type": "code",
   "execution_count": null,
   "metadata": {},
   "outputs": [],
   "source": [
    "# confirmation of no plotting issues by \n",
    "# generating a sample sine wave, fft and filter\n",
    "\n",
    "N = 512\n",
    "k=  5\n",
    "noise = 0.1 * np.random.randn(N)\n",
    "sig = np.cos(2 * np.pi * k * np.arange(N)/N)\n",
    "\n",
    "fout = np.fft.fft(sig+noise)\n",
    "\n",
    "plt.figure()\n",
    "\n",
    "plt.subplot(2,1,1)\n",
    "plt.title(\"Example Time Domain Signal and Frequency Spectrum\")\n",
    "plt.plot(sig + noise)\n",
    "plt.grid()\n",
    "plt.subplot(2,1,2)\n",
    "plt.plot(20*np.log10(np.abs(fout)))\n",
    "plt.axis([0, N, 0, 20*np.log10(N)])\n",
    "plt.grid()\n"
   ]
  }
 ],
 "metadata": {
  "hide_input": false,
  "kernelspec": {
   "display_name": "Python 3",
   "language": "python",
   "name": "python3"
  },
  "language_info": {
   "codemirror_mode": {
    "name": "ipython",
    "version": 3
   },
   "file_extension": ".py",
   "mimetype": "text/x-python",
   "name": "python",
   "nbconvert_exporter": "python",
   "pygments_lexer": "ipython3",
   "version": "3.8.3"
  },
  "toc": {
   "base_numbering": 1,
   "nav_menu": {},
   "number_sections": true,
   "sideBar": true,
   "skip_h1_title": true,
   "title_cell": "Table of Contents",
   "title_sidebar": "Contents",
   "toc_cell": false,
   "toc_position": {
    "height": "calc(100% - 180px)",
    "left": "10px",
    "top": "150px",
    "width": "165px"
   },
   "toc_section_display": true,
   "toc_window_display": false
  },
  "varInspector": {
   "cols": {
    "lenName": 16,
    "lenType": 16,
    "lenVar": 40
   },
   "kernels_config": {
    "python": {
     "delete_cmd_postfix": "",
     "delete_cmd_prefix": "del ",
     "library": "var_list.py",
     "varRefreshCmd": "print(var_dic_list())"
    },
    "r": {
     "delete_cmd_postfix": ") ",
     "delete_cmd_prefix": "rm(",
     "library": "var_list.r",
     "varRefreshCmd": "cat(var_dic_list()) "
    }
   },
   "oldHeight": 516,
   "position": {
    "height": "538px",
    "left": "1867px",
    "right": "20px",
    "top": "149px",
    "width": "350px"
   },
   "types_to_exclude": [
    "module",
    "function",
    "builtin_function_or_method",
    "instance",
    "_Feature"
   ],
   "varInspector_section_display": "block",
   "window_display": true
  }
 },
 "nbformat": 4,
 "nbformat_minor": 2
}
