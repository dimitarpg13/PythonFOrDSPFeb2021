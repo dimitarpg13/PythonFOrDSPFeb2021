{
 "cells": [
  {
   "cell_type": "markdown",
   "metadata": {},
   "source": [
    "<img src=\"img/logo.png\" align=\"left\" width=\"200\">\n",
    "<h1 style=\"text-align: center;\"> Applications for Digital Design and Signal Processing </h1>\n",
    "<h1 style=\"text-align: center;\"> Session 4 </h1>\n",
    "\n",
    "\n",
    "**License** \n",
    "\n",
    "\n",
    "**DOCUMENT CONTENTS OUTSIDE OF CODE CELLS**\n",
    "\n",
    "Copyright © 2018-2020 C. Daniel Boschen \n",
    "\n",
    "All Rights Reserved. All contents of code cells may be reused freely subject to the MIT License below. All other contents of this notebook are protected by U.S. and International copyright laws. Reproduction and distribution of the notebook without written permission of the author is prohibited. \n",
    "\n",
    "While every precaution has been taken in the preparation of this notebook, the author, publisher, and distribution partners assume no responsibility for any errors or omissions, or any damages resulting from the use of any information contained within it.\n",
    "\n",
    "**MIT LICENSE FOR CODE CELLS**\n",
    "\n",
    "Copyright © 2018-2020 C. Daniel Boschen\n",
    "\n",
    "Permission is hereby granted, free of charge, to any person obtaining a copy of the software demonstrated in code cells (the \"Software\"), to deal in the Software without restriction, including without limitation the rights to use, copy, modify, merge, publish, distribute, sublicense, and/or sell copies of the Software, and to permit persons to whom the Software is furnished to do so, subject to the following conditions:\n",
    "\n",
    "The above copyright notice and this permission notice shall be included in all copies or substantial portions of the Software.\n",
    "\n",
    "THE SOFTWARE IS PROVIDED \"AS IS\", WITHOUT WARRANTY OF ANY KIND, EXPRESS OR IMPLIED, INCLUDING BUT NOT LIMITED TO THE WARRANTIES OF MERCHANTABILITY, FITNESS FOR A PARTICULAR PURPOSE AND NONINFRINGEMENT. IN NO EVENT SHALL THE AUTHORS OR COPYRIGHT HOLDERS BE LIABLE FOR ANY CLAIM, DAMAGES OR OTHER LIABILITY, WHETHER IN AN ACTION OF CONTRACT, TORT OR OTHERWISE, ARISING FROM, OUT OF OR IN CONNECTION WITH THE SOFTWARE OR THE USE OR OTHER DEALINGS IN THE SOFTWARE.  \n"
   ]
  },
  {
   "cell_type": "markdown",
   "metadata": {},
   "source": [
    "## Additional Examples from Class Presentation Content"
   ]
  },
  {
   "cell_type": "markdown",
   "metadata": {},
   "source": [
    "### Function Arguments"
   ]
  },
  {
   "cell_type": "code",
   "execution_count": 1,
   "metadata": {},
   "outputs": [],
   "source": [
    "def add_these(x, y, z = 5):\n",
    "    if x < 0:\n",
    "        print(\"x must be positive\")\n",
    "        return False\n",
    "    return x + y + z\n"
   ]
  },
  {
   "cell_type": "code",
   "execution_count": 2,
   "metadata": {},
   "outputs": [
    {
     "name": "stdout",
     "output_type": "stream",
     "text": [
      "Sigh... Do you know what you are doing?\n",
      "We got to demo try - except - finally too!\n"
     ]
    }
   ],
   "source": [
    "# BAD! TypeError when missing a required positional arguments\n",
    "\n",
    "try:\n",
    "    add_these(5)\n",
    "except TypeError:\n",
    "    print(\"Sigh... Do you know what you are doing?\")\n",
    "finally:\n",
    "    print(\"We got to demo try - except - finally too!\")"
   ]
  },
  {
   "cell_type": "code",
   "execution_count": 3,
   "metadata": {},
   "outputs": [
    {
     "name": "stdout",
     "output_type": "stream",
     "text": [
      "x must be positive\n"
     ]
    },
    {
     "data": {
      "text/plain": [
       "False"
      ]
     },
     "execution_count": 3,
     "metadata": {},
     "output_type": "execute_result"
    }
   ],
   "source": [
    "# 2 positional argument\n",
    "add_these(-3,2)"
   ]
  },
  {
   "cell_type": "code",
   "execution_count": 4,
   "metadata": {},
   "outputs": [
    {
     "ename": "SyntaxError",
     "evalue": "positional argument follows keyword argument (<ipython-input-4-33b6ee8c6f44>, line 7)",
     "output_type": "error",
     "traceback": [
      "\u001b[1;36m  File \u001b[1;32m\"<ipython-input-4-33b6ee8c6f44>\"\u001b[1;36m, line \u001b[1;32m7\u001b[0m\n\u001b[1;33m    addThese(y=-3, 2)\u001b[0m\n\u001b[1;37m                   ^\u001b[0m\n\u001b[1;31mSyntaxError\u001b[0m\u001b[1;31m:\u001b[0m positional argument follows keyword argument\n"
     ]
    }
   ],
   "source": [
    "# BAD! SyntaxError due to positional argument following a keyword argument\n",
    "# also this type of error cannot be caught in a try except block!\n",
    "# This is because SytaxErrors get raised when the code is parsed, not when\n",
    "# the line of code is executed\n",
    "\n",
    "try:\n",
    "    add_these(y=-3, 2)\n",
    "except SyntaxError:\n",
    "    Print(\"Bad! You can't have a positional argument following a keyword argument!\")"
   ]
  },
  {
   "cell_type": "code",
   "execution_count": 5,
   "metadata": {},
   "outputs": [
    {
     "data": {
      "text/plain": [
       "4"
      ]
     },
     "execution_count": 5,
     "metadata": {},
     "output_type": "execute_result"
    }
   ],
   "source": [
    "# 2 keyword arguments\n",
    "add_these(y=-3, x=2)"
   ]
  },
  {
   "cell_type": "markdown",
   "metadata": {},
   "source": [
    "### Default Values for Arguments\n",
    "\n",
    "\n",
    "\n",
    "<br><div class=warn>\n",
    "    <b>Pro Tip:</b> Default values for arguments are evaluated only once when code if first run. If argugment is a mutable object, the latest value will be retained (and not reset to default value when function is called again).   \n",
    "</div>\n",
    "    \n",
    "\n",
    "\n",
    "(try this at http://pythontutor.com/visualize.html#mode=edit)\n",
    "\n",
    "This can be used to emulate static variable definitions, since Python does not have an explicit definition for that.\n",
    "\n",
    "    def test(arg1 = []):\n",
    "         // function code here that makes a mutable change to arg1\n",
    "         arg1.append(5)\n",
    "         return arg1\n",
    "\n",
    "\n",
    "\n",
    "To actually have a function with a mutable default value that clears do\n",
    "\n",
    "    def test(arg1 = None):\n",
    "        if arg1 = None:\n",
    "            arg1 = []\n",
    "        //function code here\n",
    "        arg1.append(5)\n",
    "        return arg1\n",
    "\n",
    "\n",
    "See this reference for further explanation\n",
    "https://stackoverflow.com/questions/1132941/least-astonishment-and-the-mutable-default-argument\n"
   ]
  },
  {
   "cell_type": "markdown",
   "metadata": {},
   "source": [
    "###  \\*args, \\*\\*kwargs\n",
    "\n",
    "Use sparingly!\n",
    "Not necessary to write out \"args\", \"kwargs\"- these can be any variables\n",
    "\n",
    "\\*args allows for passing a variable number of elements.  \n",
    "\n",
    "If \\*args appears, args must evaluate to a iterable, the contents of which are treated as additional **positional** arguments\n",
    "If \\*\\*kwargs appears, keargs must evaluate to a mapping, the contentes of which are treated as additional **keyword** arguments\n",
    "\n",
    "(related to this is the zip() function and zip(*))"
   ]
  },
  {
   "cell_type": "markdown",
   "metadata": {},
   "source": [
    "for keyword arguments can use get to set default values:"
   ]
  },
  {
   "cell_type": "code",
   "execution_count": 6,
   "metadata": {},
   "outputs": [
    {
     "name": "stdout",
     "output_type": "stream",
     "text": [
      "{'a': 5, 'b': 6}\n",
      "5\n"
     ]
    }
   ],
   "source": [
    "def kwargs_demo(**keywords):\n",
    "    # if a is not used as a keyword, it will be set to a default value of 25\n",
    "    # get is a dictionary method; returns value for key if key in dictionary otherwise the default\n",
    "    # using .get(key, default)\n",
    "    a = keywords.get('a', 25)\n",
    "    print(keywords)\n",
    "    print(a)\n",
    "\n",
    "myKeywords = kwargs_demo(a = 5, b= 6)"
   ]
  },
  {
   "cell_type": "markdown",
   "metadata": {},
   "source": [
    "### Function nargs and kwargs\n",
    "\n",
    "Putting a single * in front of a parameter (such as \\*x) will map a variable number of positional parameters to a tuple (bound to name x if *x is used) in the function body.\n",
    "\n",
    "Putting two * in from of a parameter (such as \\*y) will map a variable number of keyword parameters to a dictionary (bound to name y if \\**y is used) \n"
   ]
  },
  {
   "cell_type": "code",
   "execution_count": 7,
   "metadata": {},
   "outputs": [],
   "source": [
    "# demonstrating nargs and kwargs and using new debug f-string format of Python 3.8\n",
    "\n",
    "def my_func(a, b, *c, **d):\n",
    "    print(f\"{a= }\")\n",
    "    print(f\"{b= }\")\n",
    "    print(f\"{c= }\")\n",
    "    print(f\"{d= }\")\n",
    "    "
   ]
  },
  {
   "cell_type": "code",
   "execution_count": 8,
   "metadata": {},
   "outputs": [
    {
     "name": "stdout",
     "output_type": "stream",
     "text": [
      "a= 5\n",
      "b= 4\n",
      "c= ('a', 'b', 'c', 'd')\n",
      "d= {'k': 'flag', 'r': 'rabbit', 'dog': 'turtle'}\n"
     ]
    }
   ],
   "source": [
    "my_func(5, 4, 'a', 'b', 'c', 'd', k = \"flag\", r = \"rabbit\", dog = \"turtle\")"
   ]
  },
  {
   "cell_type": "markdown",
   "metadata": {},
   "source": [
    "### Unpacking Returns\n",
    "\n",
    "The general format for variable iterable unpacking `a, *b, c = some_iterable`, also applies to return statement. \n",
    "Prior to Python 3.8 this was requried to be enclosed in parenthesis if returning as a tuple, as in `return (s, *y)` but now consistent with generalized tuples, that is no longer the case (either will work).  "
   ]
  },
  {
   "cell_type": "code",
   "execution_count": 9,
   "metadata": {},
   "outputs": [
    {
     "name": "stdout",
     "output_type": "stream",
     "text": [
      "[5, 1, 2, 3, 4]\n"
     ]
    }
   ],
   "source": [
    "def demo():\n",
    "    a = 5\n",
    "    my_iter = [1,2,3,4]\n",
    "    return [a, *my_iter]\n",
    "\n",
    "print(demo())\n"
   ]
  },
  {
   "cell_type": "code",
   "execution_count": 10,
   "metadata": {},
   "outputs": [
    {
     "name": "stdout",
     "output_type": "stream",
     "text": [
      "a= 1\n",
      "x =[2, 3, 4]\n",
      "('a', 'b', 'c')\n"
     ]
    }
   ],
   "source": [
    "# note the above will not work without at least one named placeholder before or after the unpacked name\n",
    "# same as:\n",
    "\n",
    "my_iter = [1,2,3,4]\n",
    "a, *x = my_iter\n",
    "\n",
    "print(f\"{a= }\")\n",
    "print(f\"{x =}\")\n",
    "\n",
    "# but we can pass individually into a function (why? - appears inconsistent)\n",
    "\n",
    "def demo2(*x):\n",
    "    return x\n",
    "\n",
    "print(demo2('a','b','c'))"
   ]
  },
  {
   "cell_type": "markdown",
   "metadata": {},
   "source": [
    "### Lambda Functions"
   ]
  },
  {
   "cell_type": "code",
   "execution_count": 11,
   "metadata": {},
   "outputs": [
    {
     "name": "stdout",
     "output_type": "stream",
     "text": [
      "22\n",
      "22\n",
      "22\n"
     ]
    }
   ],
   "source": [
    "# example for simple function\n",
    "\n",
    "# as a function definition\n",
    "def add_this(x,y): return x+y      # <--- This puts addThis in our namespace\n",
    "\n",
    "add_this2 = lambda x,y: x+y        # <--- Not a good application for lambda functions\n",
    "\n",
    "\n",
    "print(add_this(10,12))\n",
    "print(add_this2(10,12))\n",
    "print((lambda x,y: x+y)(10,12))   # <--- One time use and not left in namespace   "
   ]
  },
  {
   "cell_type": "code",
   "execution_count": 12,
   "metadata": {},
   "outputs": [],
   "source": [
    "# example using lambda function with filter\n",
    "\n",
    "my_list = [('dan',13), ('fred', 26), ('stacy', 34), ('dan', 18), ('thomas', 26)]"
   ]
  },
  {
   "cell_type": "code",
   "execution_count": 13,
   "metadata": {},
   "outputs": [
    {
     "name": "stdout",
     "output_type": "stream",
     "text": [
      "[('dan', 13), ('dan', 18)]\n"
     ]
    }
   ],
   "source": [
    "# filter takes two arguments: filter(myFunc, myList)\n",
    "\n",
    "# myFunc: function to process on each item in the list to return True or False\n",
    "# myList: list to filter \n",
    "\n",
    "\n",
    "\n",
    "# Using Filter with a function definition\n",
    "def my_test(x):\n",
    "    return x[0] == 'dan'\n",
    "\n",
    "get_dans = filter(my_test, my_list)\n",
    "\n",
    "print(list(get_dans))"
   ]
  },
  {
   "cell_type": "code",
   "execution_count": 14,
   "metadata": {},
   "outputs": [
    {
     "name": "stdout",
     "output_type": "stream",
     "text": [
      "[('dan', 13), ('dan', 18)]\n"
     ]
    }
   ],
   "source": [
    "# Using filter with a lambda\n",
    "\n",
    "get_dans = filter(lambda x: x[0] == 'dan', my_list)\n",
    "\n",
    "print(list(get_dans))"
   ]
  },
  {
   "cell_type": "code",
   "execution_count": 15,
   "metadata": {},
   "outputs": [
    {
     "name": "stdout",
     "output_type": "stream",
     "text": [
      "[('fred', 26), ('stacy', 34), ('thomas', 26)]\n"
     ]
    }
   ],
   "source": [
    "get_age = filter(lambda x: x[1] > 25, my_list)\n",
    "\n",
    "print(list(get_age))"
   ]
  },
  {
   "cell_type": "code",
   "execution_count": 16,
   "metadata": {},
   "outputs": [
    {
     "name": "stdout",
     "output_type": "stream",
     "text": [
      "['Exciting? Ha! So what', 'Wonderful? Ha! So what', 'Outstanding? Ha! So what', 'Fantastic? Ha! So what']\n"
     ]
    }
   ],
   "source": [
    "# example map\n",
    "\n",
    "my_expressions = [\"Exciting\", \"Wonderful\", \"Outstanding\", \"Fantastic\"]\n",
    "\n",
    "sarcasm = map(lambda x: x + \"? Ha! So what\", my_expressions)\n",
    "print(list(sarcasm))"
   ]
  },
  {
   "cell_type": "markdown",
   "metadata": {},
   "source": [
    "#### Utility of Lambda Functions\n",
    "\n",
    "The practical use case for Lambda functions are for functions that take other functions as paramters, such as cases where the parameter function is only used for that one function call and not elsewhere. Using a lambda funciton in this case is a compact solution and doesn't clutter the namespace as a function definition would.\n",
    "\n",
    "Here is a simple example where we defined a function that uses a function (a callable) as an input. The function that is passed in is executed later in the function (this is referred to as a \"callback\": it is \"called at the back\" of the function it is passed into.) A primary utility is in implementing asynchronous behaviour where we want something to occur only after a previous event has completed."
   ]
  },
  {
   "cell_type": "code",
   "execution_count": 17,
   "metadata": {},
   "outputs": [
    {
     "name": "stdout",
     "output_type": "stream",
     "text": [
      "25\n",
      "25\n"
     ]
    }
   ],
   "source": [
    "# Regular function definition\n",
    "\n",
    "def square1(x): return x**2\n",
    "\n",
    "\n",
    "# lambda (anonymous) function\n",
    "\n",
    "square2 = lambda x: x**2\n",
    "\n",
    "\n",
    "# There is no advantage to using lambda to create a named function as above and it is discouraged in PEP8. \n",
    "# For named functions simply use the definition statement as the first case above. This is shown as such\n",
    "# in this code block to show that the two are equivalent:\n",
    "\n",
    "print(square1(5))\n",
    "print(square2(5))\n"
   ]
  },
  {
   "cell_type": "code",
   "execution_count": 18,
   "metadata": {},
   "outputs": [],
   "source": [
    "\n",
    "\n",
    "def my_process(in1, in2, my_func):\n",
    "    \n",
    "    # compute something and get a result\n",
    "    out = in1 + in2\n",
    "    \n",
    "    # do some user defined function on output\n",
    "    # after result is computed\n",
    "    my_func(out)\n",
    "    \n",
    "    # return result\n",
    "    return out\n"
   ]
  },
  {
   "cell_type": "code",
   "execution_count": 19,
   "metadata": {},
   "outputs": [
    {
     "name": "stdout",
     "output_type": "stream",
     "text": [
      "The resut is 7\n"
     ]
    },
    {
     "data": {
      "text/plain": [
       "['In',\n",
       " 'NamespaceMagics',\n",
       " 'Out',\n",
       " '_',\n",
       " '_3',\n",
       " '_5',\n",
       " '_Jupyter',\n",
       " '__',\n",
       " '___',\n",
       " '__builtin__',\n",
       " '__builtins__',\n",
       " '__doc__',\n",
       " '__loader__',\n",
       " '__name__',\n",
       " '__package__',\n",
       " '__spec__',\n",
       " '_dh',\n",
       " '_getshapeof',\n",
       " '_getsizeof',\n",
       " '_i',\n",
       " '_i1',\n",
       " '_i10',\n",
       " '_i11',\n",
       " '_i12',\n",
       " '_i13',\n",
       " '_i14',\n",
       " '_i15',\n",
       " '_i16',\n",
       " '_i17',\n",
       " '_i18',\n",
       " '_i19',\n",
       " '_i2',\n",
       " '_i3',\n",
       " '_i4',\n",
       " '_i5',\n",
       " '_i6',\n",
       " '_i7',\n",
       " '_i8',\n",
       " '_i9',\n",
       " '_ih',\n",
       " '_ii',\n",
       " '_iii',\n",
       " '_nms',\n",
       " '_oh',\n",
       " 'a',\n",
       " 'addThese',\n",
       " 'add_this',\n",
       " 'add_this2',\n",
       " 'demo',\n",
       " 'demo2',\n",
       " 'exit',\n",
       " 'get_age',\n",
       " 'get_dans',\n",
       " 'get_ipython',\n",
       " 'getsizeof',\n",
       " 'json',\n",
       " 'kwargsDemo',\n",
       " 'myKeywords',\n",
       " 'my_callback',\n",
       " 'my_expressions',\n",
       " 'my_func',\n",
       " 'my_iter',\n",
       " 'my_list',\n",
       " 'my_process',\n",
       " 'my_test',\n",
       " 'np',\n",
       " 'quit',\n",
       " 'sarcasm',\n",
       " 'square1',\n",
       " 'square2',\n",
       " 'value',\n",
       " 'var_dic_list',\n",
       " 'x']"
      ]
     },
     "execution_count": 19,
     "metadata": {},
     "output_type": "execute_result"
    }
   ],
   "source": [
    "# demonstrating \"callback\" with function definition my_process\n",
    "\n",
    "# Using a regular function definition:\n",
    "\n",
    "\n",
    "def my_callback(x): print(f\"The resut is {x}\")\n",
    "    \n",
    "\n",
    "value = my_process(5, 2, my_callback)\n",
    "    \n",
    "\n",
    "# my_process has excecuted using mycallback, but mycallback \n",
    "# still exists in our namespace (clutter if we never need to use it elsewhere)\n",
    "\n",
    "dir()\n",
    "\n",
    "# we can \"clean-up\" the name space using\n",
    "# del mycallback\n",
    "# but now we end up with 3 lines of code instead of 1 as below.\n"
   ]
  },
  {
   "cell_type": "markdown",
   "metadata": {},
   "source": [
    "### Comprehensions"
   ]
  },
  {
   "cell_type": "code",
   "execution_count": 20,
   "metadata": {},
   "outputs": [
    {
     "name": "stdout",
     "output_type": "stream",
     "text": [
      "[13, 14, 15, 24]\n"
     ]
    }
   ],
   "source": [
    "# list comprehension example\n",
    "\n",
    "my_list = [1,2,3,12]\n",
    "\n",
    "out = [i + 12 for i in my_list]\n",
    "print(out)"
   ]
  },
  {
   "cell_type": "code",
   "execution_count": 21,
   "metadata": {},
   "outputs": [
    {
     "name": "stdout",
     "output_type": "stream",
     "text": [
      "apples mmmmm!\n",
      "pears mmmmm!\n",
      "bananas mmmmm!\n"
     ]
    }
   ],
   "source": [
    "fruits = ['apples', 5.0, 24, 'pears', 'bananas']\n",
    "[print(i + \" mmmmm!\") for i in fruits if isinstance(i, str)];"
   ]
  },
  {
   "cell_type": "code",
   "execution_count": 22,
   "metadata": {},
   "outputs": [
    {
     "name": "stdout",
     "output_type": "stream",
     "text": [
      "The result is 7\n"
     ]
    }
   ],
   "source": [
    "# Same thing using a lambda function\n",
    "\n",
    "value = my_process(5, 2, lambda x: print(f\"The result is {x}\"))\n",
    "\n",
    "# my_process has executed using the same desired callback function\n",
    "# without cluttering the namespace\n"
   ]
  },
  {
   "cell_type": "markdown",
   "metadata": {},
   "source": [
    "### Reading / Writing Files\n",
    "\n",
    "Also see general patterns for reading and writing files added to Reference Notebook\n",
    "\n",
    "#### Writing Data using the  Python File Object\n",
    "\n",
    "Below shows how a sample validation file can be created from a known good reference point\n",
    "(which is then read in the module script when running as main program to validate future \n",
    "changes to the module)."
   ]
  },
  {
   "cell_type": "code",
   "execution_count": 25,
   "metadata": {},
   "outputs": [],
   "source": [
    "# meaningless fucntion for demonstration of writing a test vector to a file, this can be replaced\n",
    "# with the actual fucntion used to compute the delta-sigma data converter results\n",
    "\n",
    "# here we use a list comprehension to transform the input data and bits arguments to an output list\n",
    "# (meaningless result, but to create data to demonstrate what we could do with an actual function)\n",
    "def ds_list(data, bits):\n",
    "    return [bits + 2 * sample for sample in data]\n",
    "\n",
    "\n",
    "data_in = [28] * 500 + [-2**20] * 1000\n",
    "data_out = ds_list(data_in, 24)\n",
    "\n",
    "# writing test vectors to file\n",
    "\n",
    "# (custom formatted CSV file to show writing of generic data using the Python file object)\n",
    "# safest to include newline = \"\", otherwise if a new line is\n",
    "# encoded as \\r\\n like on Windows, python will insert two lines\n",
    "\n",
    "file_name = \"./data/ds_data.txt\"\n",
    "\n",
    "with open(file_name, 'w', newline = \"\") as f:\n",
    "    # write a header\n",
    "    f.write(\"# 2nd Order Delta Sigma 10/11/2020\\n\")\n",
    "    f.write(\"# HW Verification data for Out = ds_list(In, 24)\\n\")\n",
    "    f.write(\"# In is 500 samples of int = 28 followed by 1000 samples of int = -1048576\\n\")\n",
    "    f.write(\"#\\n\")        \n",
    "    f.write(\"# In, Out\\n\")\n",
    "    \n",
    "    # write data    \n",
    "    for item in zip(data_in,data_out):\n",
    "        f.write(f\"{item[0]}, {item[1]}\\n\")\n",
    "\n"
   ]
  },
  {
   "cell_type": "markdown",
   "metadata": {},
   "source": [
    "#### Adding csv module"
   ]
  },
  {
   "cell_type": "code",
   "execution_count": 26,
   "metadata": {},
   "outputs": [],
   "source": [
    "### Same as above csv Module\n",
    "# These optional parameters below for csv.writer: quoting = csv.QUOTE_NONE, escapechar= \"\\\\\"\n",
    "# allow for commas in the header, otherwise that line can simply be w = csv.writer(f)\n",
    "\n",
    "import csv\n",
    "\n",
    "with open(file_name, 'w', newline = \"\") as f:\n",
    "    w = csv.writer(f, quoting = csv.QUOTE_NONE, escapechar= \"\\\\\" )\n",
    "    #write a header\n",
    "    w.writerow([\"# 2nd Order Delta Sigma 10/11/2020\"])\n",
    "    w.writerow([\"# HW Verification data for Out = ds_list(In, 24)\"])\n",
    "    w.writerow([\"# In is 500 samples of int = 28 followed by 1000 samples of int = -1048576\"])\n",
    "    w.writerow([\"#\"])        \n",
    "    w.writerow([\"# Columns below are 'In', 'Out'\"])\n",
    "    #write data\n",
    "    w.writerows(zip(data_in, data_out))"
   ]
  },
  {
   "cell_type": "markdown",
   "metadata": {},
   "source": [
    "#### Using both csv methods and File Object methods"
   ]
  },
  {
   "cell_type": "code",
   "execution_count": 27,
   "metadata": {},
   "outputs": [],
   "source": [
    "# Third option to mix the two methods. Easier to simply write the header\n",
    "# directly than deal with the CSV parameters just for the header formatting.\n",
    "\n",
    "with open(file_name, 'w', newline = \"\") as f:\n",
    "    # write a header\n",
    "    f.write(\"# 2nd Order Delta Sigma 10/11/2020\\n\")\n",
    "    f.write(\"# HW Verification data for Out = ds_list(In, 24)\\n\")\n",
    "    f.write(\"# In is 500 samples of int = 28 followed by 1000 samples of int = -1048576\\n\")\n",
    "    f.write(\"#\\n\")        \n",
    "    f.write(\"# In, Out\\n\")\n",
    "    w = csv.writer(f)\n",
    "    #write data\n",
    "    w.writerows(zip(data_in, data_out))"
   ]
  },
  {
   "cell_type": "markdown",
   "metadata": {},
   "source": [
    "### Namespace\n",
    "A simple way to create a custom namespace is a class constructor as a singleton:"
   ]
  },
  {
   "cell_type": "code",
   "execution_count": 28,
   "metadata": {},
   "outputs": [],
   "source": [
    "def show_namespace(obj):\n",
    "    return [x for x in dir(obj) if not x.startswith('__')]"
   ]
  },
  {
   "cell_type": "code",
   "execution_count": 29,
   "metadata": {},
   "outputs": [
    {
     "name": "stdout",
     "output_type": "stream",
     "text": [
      "myspace.a = 5\n",
      "myspace.b = 7\n",
      "myspace.greet = <function myspace.greet at 0x000001EBE7856B80>\n",
      "Hello Dan!\n",
      "['a', 'b', 'c', 'greet', 'more']\n"
     ]
    }
   ],
   "source": [
    "class myspace:\n",
    "    a = 5\n",
    "    b = 7\n",
    "    c = 12\n",
    "    def greet(x): return (f\"Hello {x}!\")\n",
    "\n",
    "\n",
    "print(f\"{myspace.a = }\")\n",
    "print(f\"{myspace.b = }\")\n",
    "print(f\"{myspace.greet = }\")\n",
    "\n",
    "print(myspace.greet(\"Dan\"))\n",
    "\n",
    "# Once we have a custom namespace we can continue to add attributes to it\n",
    "\n",
    "myspace.more = '99'\n",
    "\n",
    "print(show_namespace(myspace))"
   ]
  },
  {
   "cell_type": "code",
   "execution_count": 30,
   "metadata": {},
   "outputs": [
    {
     "name": "stdout",
     "output_type": "stream",
     "text": [
      "Hello Dan!\n",
      "['date', 'version']\n"
     ]
    }
   ],
   "source": [
    "# functions can have attributes, which will be in the namespace of the function:\n",
    "\n",
    "\n",
    "def greet(x):\n",
    "    return (f\"Hello {x}!\")\n",
    "\n",
    "# add attributes to function\n",
    "greet.version = \"1.0.1\"\n",
    "greet.date = \"10/12/2020\"\n",
    "\n",
    "\n",
    "print(greet(\"Dan\"))\n",
    "print(show_namespace(greet))"
   ]
  },
  {
   "cell_type": "markdown",
   "metadata": {},
   "source": [
    "### Namespace and Scope"
   ]
  },
  {
   "cell_type": "code",
   "execution_count": 31,
   "metadata": {},
   "outputs": [],
   "source": [
    "## Showing read only access to enclosing scope in order going out\n",
    "\n",
    "a = 5\n",
    "b = 7\n",
    "def myOuterFunc():\n",
    "    print(f'a from OuterFunc = {a}')\n",
    "    print(f'b from OuterFunc = {b}')\n",
    "    print('-----------------------')\n",
    "    y = 12\n",
    "    def myInnerFunc(x):\n",
    "        print(f'a from InnerFunc = {a}') \n",
    "        print(f'b from InnerFunc = {b}') \n",
    "        print(f'y from InnerFunc = {y}')\n",
    "        print('-----------------------')\n",
    "    return myInnerFunc(b)\n",
    "\n",
    "\n"
   ]
  },
  {
   "cell_type": "code",
   "execution_count": 32,
   "metadata": {},
   "outputs": [
    {
     "name": "stdout",
     "output_type": "stream",
     "text": [
      "a from OuterFunc = 5\n",
      "b from OuterFunc = 7\n",
      "-----------------------\n",
      "a from InnerFunc = 5\n",
      "b from InnerFunc = 7\n",
      "y from InnerFunc = 12\n",
      "-----------------------\n",
      "a from global scope = 5\n",
      "b from global scope = 7\n"
     ]
    }
   ],
   "source": [
    "myOuterFunc()\n",
    "print(f'a from global scope = {a}')\n",
    "print(f'b from global scope = {b}')"
   ]
  },
  {
   "cell_type": "code",
   "execution_count": 33,
   "metadata": {},
   "outputs": [],
   "source": [
    "# Showing \"Referenced Before Assignment Error\"\n",
    "\n",
    "# show how this can be fixed either by \n",
    "# - passing b in through parameter\n",
    "# - assigning b prior to reference\n",
    "# - or using Global keyword \n",
    "# - or removing refrerence to b in myOuterFunc \n",
    "\n",
    "a = 5\n",
    "b = 7\n",
    "def myOuterFunc():\n",
    "    print(f'a from OuterFunc = {a}')\n",
    "    print(f'b from OuterFunc = {b}')\n",
    "    print('-----------------------')\n",
    "    b = 15\n",
    "    y = 12\n",
    "    def myInnerFunc():\n",
    "        print(f'a from InnerFunc = {a}') \n",
    "        print(f'b from InnerFunc = {b}') \n",
    "        print(f'y from InnerFunc = {y}')\n",
    "        print('-----------------------')\n",
    "    return myInnerFunc()\n",
    "\n",
    "\n"
   ]
  },
  {
   "cell_type": "code",
   "execution_count": 34,
   "metadata": {},
   "outputs": [
    {
     "name": "stdout",
     "output_type": "stream",
     "text": [
      "a from OuterFunc = 5\n",
      "ERROR! Read comments in this code block to fix this!\n"
     ]
    }
   ],
   "source": [
    "try:\n",
    "    myOuterFunc()\n",
    "except UnboundLocalError:\n",
    "    print(\"ERROR! Read comments in this code block to fix this!\")"
   ]
  },
  {
   "cell_type": "code",
   "execution_count": 39,
   "metadata": {},
   "outputs": [],
   "source": [
    "# See course Module 4 slide on Function Scope illustrating this:\n",
    "\n",
    "a = 5\n",
    "b = 7\n",
    "def outer_func():\n",
    "    print(f\"'a' from outer_func: {a}\")\n",
    "    y = 12\n",
    "    def inner_func():\n",
    "        print(f\"'a' from inner_func: {a}\" )\n",
    "        print(f\"'y' from inner_func: {y}\")\n",
    "        return b + y + a\n",
    "    return inner_func()"
   ]
  },
  {
   "cell_type": "code",
   "execution_count": 40,
   "metadata": {},
   "outputs": [
    {
     "name": "stdout",
     "output_type": "stream",
     "text": [
      "'a' from outer_func: 5\n",
      "'a' from inner_func: 5\n",
      "'y' from inner_func: 12\n"
     ]
    },
    {
     "data": {
      "text/plain": [
       "24"
      ]
     },
     "execution_count": 40,
     "metadata": {},
     "output_type": "execute_result"
    }
   ],
   "source": [
    "# for the example above all the variables are accessible as functions have\n",
    "# read only access to higher order scopes in enclosing order going out.\n",
    "# Meaning within the inner scope of inner_func, we can read the value of y\n",
    "# that is in the enclosing scope, but we can't change it.\n",
    "\n",
    "outer_func()"
   ]
  },
  {
   "cell_type": "code",
   "execution_count": 46,
   "metadata": {},
   "outputs": [],
   "source": [
    "# The following will result in an UnboundLocalError exception since \n",
    "# y is being referenced in local scope before assignment\n",
    "\n",
    "a = 5\n",
    "b = 7\n",
    "def outer_func():\n",
    "    print(f\"'a' from outer_func: {a}\")\n",
    "    y = 12\n",
    "    def inner_func():\n",
    "        print(f\"'a' from inner_func: {a}\" )\n",
    "        print(f\"'y' from inner_func: {y}\")       # bad! Reference to y before assignment in local scope\n",
    "        y = 15                                      # y is asssigned here, so any reference in scope must be after\n",
    "        return b + y + a\n",
    "    return inner_func()"
   ]
  },
  {
   "cell_type": "code",
   "execution_count": 47,
   "metadata": {},
   "outputs": [
    {
     "name": "stdout",
     "output_type": "stream",
     "text": [
      "'a' from my_outer_func: 5\n",
      "'a' from my_inner_func: 5\n"
     ]
    },
    {
     "ename": "UnboundLocalError",
     "evalue": "local variable 'y' referenced before assignment",
     "output_type": "error",
     "traceback": [
      "\u001b[1;31m---------------------------------------------------------------------------\u001b[0m",
      "\u001b[1;31mUnboundLocalError\u001b[0m                         Traceback (most recent call last)",
      "\u001b[1;32m<ipython-input-47-a05af42a04e0>\u001b[0m in \u001b[0;36m<module>\u001b[1;34m\u001b[0m\n\u001b[0;32m      3\u001b[0m \u001b[1;31m# of y with the one in the enclosing scope, but this is read-only\u001b[0m\u001b[1;33m\u001b[0m\u001b[1;33m\u001b[0m\u001b[1;33m\u001b[0m\u001b[0m\n\u001b[0;32m      4\u001b[0m \u001b[1;31m# so the subsequent 'y = 15' is an illegal operation.\u001b[0m\u001b[1;33m\u001b[0m\u001b[1;33m\u001b[0m\u001b[1;33m\u001b[0m\u001b[0m\n\u001b[1;32m----> 5\u001b[1;33m \u001b[0mmy_outer_func\u001b[0m\u001b[1;33m(\u001b[0m\u001b[1;33m)\u001b[0m\u001b[1;33m\u001b[0m\u001b[1;33m\u001b[0m\u001b[0m\n\u001b[0m",
      "\u001b[1;32m<ipython-input-41-914c695bf6f6>\u001b[0m in \u001b[0;36mmy_outer_func\u001b[1;34m()\u001b[0m\n\u001b[0;32m     12\u001b[0m         \u001b[0my\u001b[0m \u001b[1;33m=\u001b[0m \u001b[1;36m15\u001b[0m                                      \u001b[1;31m# y is asssigned here, so any reference in scope must be after\u001b[0m\u001b[1;33m\u001b[0m\u001b[1;33m\u001b[0m\u001b[0m\n\u001b[0;32m     13\u001b[0m         \u001b[1;32mreturn\u001b[0m \u001b[0mb\u001b[0m \u001b[1;33m+\u001b[0m \u001b[0my\u001b[0m \u001b[1;33m+\u001b[0m \u001b[0ma\u001b[0m\u001b[1;33m\u001b[0m\u001b[1;33m\u001b[0m\u001b[0m\n\u001b[1;32m---> 14\u001b[1;33m     \u001b[1;32mreturn\u001b[0m \u001b[0mmy_inner_func\u001b[0m\u001b[1;33m(\u001b[0m\u001b[1;33m)\u001b[0m\u001b[1;33m\u001b[0m\u001b[1;33m\u001b[0m\u001b[0m\n\u001b[0m",
      "\u001b[1;32m<ipython-input-41-914c695bf6f6>\u001b[0m in \u001b[0;36mmy_inner_func\u001b[1;34m()\u001b[0m\n\u001b[0;32m      9\u001b[0m     \u001b[1;32mdef\u001b[0m \u001b[0mmy_inner_func\u001b[0m\u001b[1;33m(\u001b[0m\u001b[1;33m)\u001b[0m\u001b[1;33m:\u001b[0m\u001b[1;33m\u001b[0m\u001b[1;33m\u001b[0m\u001b[0m\n\u001b[0;32m     10\u001b[0m         \u001b[0mprint\u001b[0m\u001b[1;33m(\u001b[0m\u001b[1;34mf\"'a' from my_inner_func: {a}\"\u001b[0m \u001b[1;33m)\u001b[0m\u001b[1;33m\u001b[0m\u001b[1;33m\u001b[0m\u001b[0m\n\u001b[1;32m---> 11\u001b[1;33m         \u001b[0mprint\u001b[0m\u001b[1;33m(\u001b[0m\u001b[1;34mf\"'y' from my_inner_func: {y}\"\u001b[0m\u001b[1;33m)\u001b[0m       \u001b[1;31m# bad! Reference to y before assignment in local scope\u001b[0m\u001b[1;33m\u001b[0m\u001b[1;33m\u001b[0m\u001b[0m\n\u001b[0m\u001b[0;32m     12\u001b[0m         \u001b[0my\u001b[0m \u001b[1;33m=\u001b[0m \u001b[1;36m15\u001b[0m                                      \u001b[1;31m# y is asssigned here, so any reference in scope must be after\u001b[0m\u001b[1;33m\u001b[0m\u001b[1;33m\u001b[0m\u001b[0m\n\u001b[0;32m     13\u001b[0m         \u001b[1;32mreturn\u001b[0m \u001b[0mb\u001b[0m \u001b[1;33m+\u001b[0m \u001b[0my\u001b[0m \u001b[1;33m+\u001b[0m \u001b[0ma\u001b[0m\u001b[1;33m\u001b[0m\u001b[1;33m\u001b[0m\u001b[0m\n",
      "\u001b[1;31mUnboundLocalError\u001b[0m: local variable 'y' referenced before assignment"
     ]
    }
   ],
   "source": [
    "# calling the function results in the UnboundLocalError\n",
    "# as we used 'y' from the enclosing scope, associating that instance\n",
    "# of y with the one in the enclosing scope, but this is read-only\n",
    "# so the subsequent 'y = 15' is an illegal operation.\n",
    "my_outer_func()"
   ]
  },
  {
   "cell_type": "code",
   "execution_count": 48,
   "metadata": {},
   "outputs": [],
   "source": [
    "# By ensuring we assign y before using it within the inner function,\n",
    "# we are creating a new 'y' within the inner_func namespace that is\n",
    "# completely different from the 'y' in the enclosing scope. Thus no\n",
    "# conflict or error occurs.\n",
    "\n",
    "a = 5\n",
    "b = 7\n",
    "def outer_func():\n",
    "    print(f\"'a' from outer_func: {a}\")\n",
    "    y = 12\n",
    "    def inner_func():\n",
    "        y = 15                                      # y is asssigned here before reference in scope\n",
    "        print(f\"'a' from inner_func: {a}\" )\n",
    "        print(f\"'y' from inner_func: {y}\")       # bad! Reference to y before assignment in local scope\n",
    "        return b + y + a\n",
    "    return inner_func()"
   ]
  },
  {
   "cell_type": "code",
   "execution_count": 49,
   "metadata": {},
   "outputs": [
    {
     "name": "stdout",
     "output_type": "stream",
     "text": [
      "'a' from outer_func: 5\n",
      "'a' from inner_func: 5\n",
      "'y' from inner_func: 15\n"
     ]
    },
    {
     "data": {
      "text/plain": [
       "27"
      ]
     },
     "execution_count": 49,
     "metadata": {},
     "output_type": "execute_result"
    }
   ],
   "source": [
    "outer_func()"
   ]
  },
  {
   "cell_type": "markdown",
   "metadata": {},
   "source": [
    "### Generators and Coroutines"
   ]
  },
  {
   "cell_type": "code",
   "execution_count": 50,
   "metadata": {},
   "outputs": [],
   "source": [
    "# The long way with a class with __iter__ and __next__ methods\n",
    "\n",
    "class Gen1:\n",
    "    def __init__(self, start, stop = 20):\n",
    "        self.index = start - 1\n",
    "        self.stop = stop\n",
    "    def __iter__(self):\n",
    "        return self\n",
    "    def __next__(self):\n",
    "        self.index += 1\n",
    "        if self.index > self.stop:\n",
    "            raise StopIteration\n",
    "        return self.index\n",
    "        "
   ]
  },
  {
   "cell_type": "code",
   "execution_count": 52,
   "metadata": {},
   "outputs": [
    {
     "name": "stdout",
     "output_type": "stream",
     "text": [
      "[5, 6, 7, 8, 9, 10, 11, 12, 13, 14, 15, 16, 17, 18, 19, 20]\n",
      "[]\n"
     ]
    }
   ],
   "source": [
    "count = Gen1(5)            # count is a interator instance object from class Gen1\n",
    "print(list(count))\n",
    "print(list(count))         # items are consumed once used"
   ]
  },
  {
   "cell_type": "code",
   "execution_count": 53,
   "metadata": {},
   "outputs": [
    {
     "name": "stdout",
     "output_type": "stream",
     "text": [
      "5\n",
      "6\n",
      "7\n"
     ]
    },
    {
     "ename": "StopIteration",
     "evalue": "",
     "output_type": "error",
     "traceback": [
      "\u001b[1;31m---------------------------------------------------------------------------\u001b[0m",
      "\u001b[1;31mStopIteration\u001b[0m                             Traceback (most recent call last)",
      "\u001b[1;32m<ipython-input-53-802cd410fa2f>\u001b[0m in \u001b[0;36m<module>\u001b[1;34m\u001b[0m\n\u001b[0;32m      3\u001b[0m \u001b[0mprint\u001b[0m\u001b[1;33m(\u001b[0m\u001b[0mnext\u001b[0m\u001b[1;33m(\u001b[0m\u001b[0mi\u001b[0m\u001b[1;33m)\u001b[0m\u001b[1;33m)\u001b[0m\u001b[1;33m\u001b[0m\u001b[1;33m\u001b[0m\u001b[0m\n\u001b[0;32m      4\u001b[0m \u001b[0mprint\u001b[0m\u001b[1;33m(\u001b[0m\u001b[0mnext\u001b[0m\u001b[1;33m(\u001b[0m\u001b[0mi\u001b[0m\u001b[1;33m)\u001b[0m\u001b[1;33m)\u001b[0m\u001b[1;33m\u001b[0m\u001b[1;33m\u001b[0m\u001b[0m\n\u001b[1;32m----> 5\u001b[1;33m \u001b[0mprint\u001b[0m\u001b[1;33m(\u001b[0m\u001b[0mnext\u001b[0m\u001b[1;33m(\u001b[0m\u001b[0mi\u001b[0m\u001b[1;33m)\u001b[0m\u001b[1;33m)\u001b[0m      \u001b[1;31m# will hit the StopIteration Error as required in the iterator protocol\u001b[0m\u001b[1;33m\u001b[0m\u001b[1;33m\u001b[0m\u001b[0m\n\u001b[0m",
      "\u001b[1;32m<ipython-input-50-80604b2cf6b0>\u001b[0m in \u001b[0;36m__next__\u001b[1;34m(self)\u001b[0m\n\u001b[0;32m     10\u001b[0m         \u001b[0mself\u001b[0m\u001b[1;33m.\u001b[0m\u001b[0mindex\u001b[0m \u001b[1;33m+=\u001b[0m \u001b[1;36m1\u001b[0m\u001b[1;33m\u001b[0m\u001b[1;33m\u001b[0m\u001b[0m\n\u001b[0;32m     11\u001b[0m         \u001b[1;32mif\u001b[0m \u001b[0mself\u001b[0m\u001b[1;33m.\u001b[0m\u001b[0mindex\u001b[0m \u001b[1;33m>\u001b[0m \u001b[0mself\u001b[0m\u001b[1;33m.\u001b[0m\u001b[0mstop\u001b[0m\u001b[1;33m:\u001b[0m\u001b[1;33m\u001b[0m\u001b[1;33m\u001b[0m\u001b[0m\n\u001b[1;32m---> 12\u001b[1;33m             \u001b[1;32mraise\u001b[0m \u001b[0mStopIteration\u001b[0m\u001b[1;33m\u001b[0m\u001b[1;33m\u001b[0m\u001b[0m\n\u001b[0m\u001b[0;32m     13\u001b[0m         \u001b[1;32mreturn\u001b[0m \u001b[0mself\u001b[0m\u001b[1;33m.\u001b[0m\u001b[0mindex\u001b[0m\u001b[1;33m\u001b[0m\u001b[1;33m\u001b[0m\u001b[0m\n\u001b[0;32m     14\u001b[0m \u001b[1;33m\u001b[0m\u001b[0m\n",
      "\u001b[1;31mStopIteration\u001b[0m: "
     ]
    }
   ],
   "source": [
    "i = Gen1(5,7) \n",
    "print(next(i))\n",
    "print(next(i))\n",
    "print(next(i))\n",
    "print(next(i))      # will hit the StopIteration Error as required in the iterator protocol"
   ]
  },
  {
   "cell_type": "code",
   "execution_count": 54,
   "metadata": {},
   "outputs": [
    {
     "name": "stdout",
     "output_type": "stream",
     "text": [
      "a is b = False\n",
      "[5, 6, 7, 8, 9, 10, 11, 12, 13, 14, 15, 16, 17, 18, 19, 20]\n",
      "[]\n",
      "[5, 6, 7, 8, 9, 10, 11, 12, 13, 14, 15, 16, 17, 18, 19, 20]\n",
      "[]\n"
     ]
    }
   ],
   "source": [
    "# We can assign multiple counters that can run indepdently\n",
    "\n",
    "a = Gen1(5)\n",
    "b = Gen1(5)\n",
    "\n",
    "print(f\"{a is b = }\")\n",
    "\n",
    "print(list(a))\n",
    "print(list(a))   # a is consumed\n",
    "print(list(b))   # b was not consumed by requesting a's items\n",
    "print(list(b))   # now b is consumed"
   ]
  },
  {
   "cell_type": "code",
   "execution_count": 55,
   "metadata": {},
   "outputs": [],
   "source": [
    "# The short way with a generator iterator. \n",
    "# the following will have all the same properties as the iterator class above\n",
    "\n",
    "def Gen2(start, stop = 20):\n",
    "    while True:\n",
    "        start +=1\n",
    "        yield start - 1\n",
    "        if start > stop: \n",
    "            break                 \n",
    "\n",
    "# A return in a generator function will also cause a StopIteration "
   ]
  },
  {
   "cell_type": "code",
   "execution_count": 56,
   "metadata": {},
   "outputs": [
    {
     "name": "stdout",
     "output_type": "stream",
     "text": [
      "[5, 6, 7, 8, 9, 10, 11, 12, 13, 14, 15, 16, 17, 18, 19, 20]\n",
      "[]\n",
      "[5, 6, 7, 8, 9, 10, 11, 12, 13, 14, 15, 16, 17, 18, 19, 20]\n",
      "[]\n"
     ]
    }
   ],
   "source": [
    "a = Gen2(5)\n",
    "b = Gen2(5)\n",
    "\n",
    "a is b\n",
    "\n",
    "print(list(a))\n",
    "print(list(a))   # a is consumed\n",
    "print(list(b))   # b was not consumed by requesting a's items\n",
    "print(list(b))   # now b is consumed"
   ]
  },
  {
   "cell_type": "code",
   "execution_count": 85,
   "metadata": {},
   "outputs": [
    {
     "name": "stdout",
     "output_type": "stream",
     "text": [
      "Oh yeah! Hello\n",
      "Oh yeah! Another Try \n",
      "Oh yeah! This is working\n"
     ]
    },
    {
     "ename": "StopIteration",
     "evalue": "",
     "output_type": "error",
     "traceback": [
      "\u001b[1;31m---------------------------------------------------------------------------\u001b[0m",
      "\u001b[1;31mStopIteration\u001b[0m                             Traceback (most recent call last)",
      "\u001b[1;32m<ipython-input-85-c85d77ee82e7>\u001b[0m in \u001b[0;36m<module>\u001b[1;34m\u001b[0m\n\u001b[0;32m     29\u001b[0m \u001b[0mtest\u001b[0m\u001b[1;33m.\u001b[0m\u001b[0mclose\u001b[0m\u001b[1;33m(\u001b[0m\u001b[1;33m)\u001b[0m\u001b[1;33m\u001b[0m\u001b[1;33m\u001b[0m\u001b[0m\n\u001b[0;32m     30\u001b[0m \u001b[1;33m\u001b[0m\u001b[0m\n\u001b[1;32m---> 31\u001b[1;33m \u001b[0mtest\u001b[0m\u001b[1;33m.\u001b[0m\u001b[0msend\u001b[0m\u001b[1;33m(\u001b[0m\u001b[1;34m\"this won't work\"\u001b[0m\u001b[1;33m)\u001b[0m\u001b[1;33m\u001b[0m\u001b[1;33m\u001b[0m\u001b[0m\n\u001b[0m",
      "\u001b[1;31mStopIteration\u001b[0m: "
     ]
    }
   ],
   "source": [
    "# Simple Coroutine Example\n",
    "\n",
    "# this defines the coroutine:\n",
    "def MyCoroutine(prefix):\n",
    "    while True:\n",
    "        y = yield \n",
    "        print(prefix + \" \" + y)\n",
    "\n",
    "\n",
    "\n",
    "test = MyCoroutine(\"Oh yeah!\")    # this creates the coroutine object\n",
    "\n",
    "\n",
    "        \n",
    "# once created test is an open resource ready to respond to data input until we explicitly close\n",
    "\n",
    "# we must run to the first yield before we can send, we can do this with a next():\n",
    "\n",
    "__ = next(test)\n",
    "\n",
    "# now we are ready to accept data using send() method:\n",
    "\n",
    "test.send(\"Hello\")\n",
    "test.send(\"Another Try \")\n",
    "test.send(\"This is working\")\n",
    "\n",
    "# be sure to close unless coroutine naturally ends (such as fixed duration loop of yield statements).\n",
    "\n",
    "test.close()\n",
    "\n",
    "test.send(\"this won't work\")\n"
   ]
  },
  {
   "cell_type": "code",
   "execution_count": 75,
   "metadata": {},
   "outputs": [],
   "source": [
    "# Modifying to be a coroutine where we can send in a value\n",
    "# Note here how this operates as both a couroutine and a generator, producing and consuming values\n",
    "\n",
    "def Gen3(start, stop = 20):\n",
    "    while True:\n",
    "        start +=1\n",
    "        reset = yield start - 1\n",
    "        if reset != None:\n",
    "            start = reset - 1\n",
    "        if start > 20: \n",
    "            break    "
   ]
  },
  {
   "cell_type": "code",
   "execution_count": 80,
   "metadata": {},
   "outputs": [
    {
     "name": "stdout",
     "output_type": "stream",
     "text": [
      "15\n",
      "5\n",
      "6\n",
      "7\n",
      "12\n",
      "13\n",
      "14\n",
      "[15, 16, 17, 18, 19, 20]\n"
     ]
    },
    {
     "ename": "StopIteration",
     "evalue": "",
     "output_type": "error",
     "traceback": [
      "\u001b[1;31m---------------------------------------------------------------------------\u001b[0m",
      "\u001b[1;31mStopIteration\u001b[0m                             Traceback (most recent call last)",
      "\u001b[1;32m<ipython-input-80-38bee6cd9925>\u001b[0m in \u001b[0;36m<module>\u001b[1;34m\u001b[0m\n\u001b[0;32m     14\u001b[0m \u001b[1;33m\u001b[0m\u001b[0m\n\u001b[0;32m     15\u001b[0m \u001b[1;33m\u001b[0m\u001b[0m\n\u001b[1;32m---> 16\u001b[1;33m \u001b[0mtest\u001b[0m\u001b[1;33m.\u001b[0m\u001b[0msend\u001b[0m\u001b[1;33m(\u001b[0m\u001b[1;36m1\u001b[0m\u001b[1;33m)\u001b[0m        \u001b[1;31m# this will produce a stop iteration error\u001b[0m\u001b[1;33m\u001b[0m\u001b[1;33m\u001b[0m\u001b[0m\n\u001b[0m\u001b[0;32m     17\u001b[0m \u001b[1;33m\u001b[0m\u001b[0m\n\u001b[0;32m     18\u001b[0m \u001b[1;31m#test.close()        # alternatively can close coroutine if no longer using otherwise resource is waiting for data\u001b[0m\u001b[1;33m\u001b[0m\u001b[1;33m\u001b[0m\u001b[1;33m\u001b[0m\u001b[0m\n",
      "\u001b[1;31mStopIteration\u001b[0m: "
     ]
    }
   ],
   "source": [
    "test = Gen3(15)\n",
    "print(next(test))        # cannot send until yield is reached\n",
    "test.send(5)      # the internal variable reset is set to be 5 on next iteration\n",
    "print(next(test))\n",
    "print(next(test))\n",
    "print(next(test))\n",
    "test.send(12)     \n",
    "print(next(test))\n",
    "print(next(test))\n",
    "print(next(test))\n",
    "\n",
    "print(list(test))   # the rest of them and StopIteration would be reached in the \n",
    "                    # process of producing the list. Cannot send now if all items are consumed\n",
    " \n",
    "\n",
    "test.send(1)        # this will produce a stop iteration error\n",
    "\n",
    "#test.close()        # alternatively can close coroutine if no longer using otherwise resource is waiting for data\n",
    "                    # if there are still items not yet consumed.\n"
   ]
  },
  {
   "cell_type": "code",
   "execution_count": 1,
   "metadata": {},
   "outputs": [
    {
     "name": "stdout",
     "output_type": "stream",
     "text": [
      "['Second', 'Third', 'Fourth']\n",
      "['First', 'Second', 'Third', 'Fourth']\n"
     ]
    }
   ],
   "source": [
    "# showing how the generator function can contain multiple yields\n",
    "\n",
    "def Gen4():\n",
    "    yield 'First' \n",
    "    yield 'Second'\n",
    "    yield 'Third'\n",
    "    yield 'Fourth'\n",
    "    \n",
    "# and how the assignment creates a new instance that increment independently of the others:\n",
    "a1 = Gen4()\n",
    "a2 = Gen4()\n",
    "\n",
    "next(a1)\n",
    "print(list(a1))\n",
    "print(list(a2))"
   ]
  },
  {
   "cell_type": "code",
   "execution_count": 41,
   "metadata": {},
   "outputs": [],
   "source": [
    "# showing how send interacts with the yields: every send() will cause the \n",
    "# name at the yield expression to update and then execute the remaining function to the next yield\n",
    "\n",
    "def CoGen():\n",
    "    first = \"\"\n",
    "    second = \"\"\n",
    "    third = \"\"\n",
    "    fourth = \"\"\n",
    "    first = yield 'First' + f\" {first}, {second}, {third}, {fourth}\"\n",
    "    print(\"After first yield\")\n",
    "    print(f\"{first=}\")\n",
    "    print(f\"{second=}\")\n",
    "    print(f\"{third=}\")\n",
    "    print(f\"{fourth=}\")\n",
    "    second = yield 'Second' + f\" {first}, {second}, {third}, {fourth}\"\n",
    "    print(\"After second yield\")\n",
    "    print(f\"{first=}\")\n",
    "    print(f\"{second=}\")\n",
    "    print(f\"{third=}\")\n",
    "    print(f\"{fourth=}\")\n",
    "    third = yield 'Third' + f\" {first}, {second}, {third}, {fourth}\"\n",
    "    print(\"After third yield\")\n",
    "    print(f\"{first=}\")\n",
    "    print(f\"{second=}\")\n",
    "    print(f\"{third=}\")\n",
    "    print(f\"{fourth=}\")\n",
    "    fourth = yield 'Fourth' + f\" {first}, {second}, {third}, {fourth}\"\n",
    "    print(\"After fourth yield\")\n",
    "    print(f\"{first=}\")\n",
    "    print(f\"{second=}\")\n",
    "    print(f\"{third=}\")\n",
    "    print(f\"{fourth=}\")"
   ]
  },
  {
   "cell_type": "code",
   "execution_count": 47,
   "metadata": {},
   "outputs": [
    {
     "name": "stdout",
     "output_type": "stream",
     "text": [
      "After first yield\n",
      "first='Sending First Value'\n",
      "second=''\n",
      "third=''\n",
      "fourth=''\n",
      "After second yield\n",
      "first='Sending First Value'\n",
      "second='Sending Second Value'\n",
      "third=''\n",
      "fourth=''\n"
     ]
    },
    {
     "data": {
      "text/plain": [
       "'Third Sending First Value, Sending Second Value, , '"
      ]
     },
     "execution_count": 47,
     "metadata": {},
     "output_type": "execute_result"
    }
   ],
   "source": [
    "test = CoGen()\n",
    "next(test)       # must first \"prime\" to get to first yield statement\n",
    "test.send(\"Sending First Value\")\n",
    "test.send(\"Sending Second Value\")"
   ]
  },
  {
   "cell_type": "code",
   "execution_count": null,
   "metadata": {},
   "outputs": [],
   "source": [
    "%qtconsole\n",
    "\n",
    "# open console and experiment with above Coroutine that both consumes and produces data,\n",
    "# convince yourself of what is demonstrated on slides 36 and 37 by manually repeating \n",
    "# what is in the previous cell\n",
    "\n",
    "# this is an important concept to get down to what can be a scalable solution for\n",
    "# simulating synchronous digital systems"
   ]
  },
  {
   "cell_type": "markdown",
   "metadata": {},
   "source": [
    "### Zip"
   ]
  },
  {
   "cell_type": "code",
   "execution_count": 61,
   "metadata": {},
   "outputs": [
    {
     "name": "stdout",
     "output_type": "stream",
     "text": [
      "list(zip_demo1) =[('Gary', 26, 5.42), ('James', 34, 3.15), ('Fred', 19, 2.41), ('Mary', 27, 6.12)]\n",
      "list(zip_demo2) =[('Gary', 26, 5.42), ('James', 34, 2.41), ('Fred', 19, 6.12)]\n"
     ]
    }
   ],
   "source": [
    "names = ['Gary', 'James', 'Fred', 'Mary']\n",
    "ages = [26, 34, 19, 27]\n",
    "balance = [5.42, 3.15, 2.41, 6.12]\n",
    "\n",
    "zip_demo1 = zip(names, ages, balance)\n",
    "print(f\"{list(zip_demo1) =}\")\n",
    "\n",
    "# show what happens when one list is shorter\n",
    "\n",
    "balance2 = [5.42, 2.41, 6.12]\n",
    "\n",
    "zip_demo2 = zip(names, ages, balance2)\n",
    "print(f\"{list(zip_demo2) =}\")\n",
    "\n",
    "\n",
    "#The itertools module has a function zip_longest which is covered in next module"
   ]
  },
  {
   "cell_type": "code",
   "execution_count": 62,
   "metadata": {},
   "outputs": [
    {
     "name": "stdout",
     "output_type": "stream",
     "text": [
      "{1: ['pear', 'apple', 'banana'],\n",
      " 2: 12,\n",
      " 3: 'car',\n",
      " 4: <function sq at 0x000001EBE8968E50>,\n",
      " 12: 'Fred',\n",
      " 249: 74}\n"
     ]
    }
   ],
   "source": [
    "# use zip to create  dictionary\n",
    "\n",
    "\n",
    "def sq(x): return x**2\n",
    "\n",
    "\n",
    "keys = [1,2,3,4,12,249]\n",
    "items = [[\"pear\",\"apple\",\"banana\"], 12, \"car\", sq, \"Fred\", 74]\n",
    "\n",
    "myDict = dict(zip(keys, items))\n",
    "\n",
    "from pprint import pprint\n",
    "pprint(myDict)"
   ]
  },
  {
   "cell_type": "code",
   "execution_count": 63,
   "metadata": {},
   "outputs": [
    {
     "data": {
      "text/plain": [
       "49"
      ]
     },
     "execution_count": 63,
     "metadata": {},
     "output_type": "execute_result"
    }
   ],
   "source": [
    "# showing how a dictionary element can be a function\n",
    "myDict[4](7)"
   ]
  },
  {
   "cell_type": "markdown",
   "metadata": {},
   "source": [
    "#### Using zip to make dictionaries"
   ]
  },
  {
   "cell_type": "code",
   "execution_count": 64,
   "metadata": {},
   "outputs": [
    {
     "data": {
      "text/plain": [
       "<zip at 0x1ebe8979ec0>"
      ]
     },
     "execution_count": 64,
     "metadata": {},
     "output_type": "execute_result"
    }
   ],
   "source": [
    "# don't use set of employee ids since here order is important!\n",
    "employee_ids = [123, 345, 231 ,567, 399]\n",
    "first_names = ['Fred', 'Jan', 'Amy', 'Bob', 'Sue']\n",
    "\n",
    "# zip returns a zip object which is an iterator\n",
    "zip(employee_ids, first_names)"
   ]
  },
  {
   "cell_type": "code",
   "execution_count": 65,
   "metadata": {},
   "outputs": [
    {
     "name": "stdout",
     "output_type": "stream",
     "text": [
      "(123, 'Fred')\n",
      "(345, 'Jan')\n",
      "(231, 'Amy')\n",
      "(567, 'Bob')\n",
      "(399, 'Sue')\n"
     ]
    }
   ],
   "source": [
    "my_comp =zip(employee_ids, first_names)\n",
    "\n",
    "for item in my_comp:\n",
    "    print(item)"
   ]
  },
  {
   "cell_type": "code",
   "execution_count": 66,
   "metadata": {},
   "outputs": [
    {
     "data": {
      "text/plain": [
       "[(123, 'Fred'), (345, 'Jan'), (231, 'Amy'), (567, 'Bob'), (399, 'Sue')]"
      ]
     },
     "execution_count": 66,
     "metadata": {},
     "output_type": "execute_result"
    }
   ],
   "source": [
    "my_comp =zip(employee_ids, first_names)\n",
    "list(my_comp)"
   ]
  },
  {
   "cell_type": "code",
   "execution_count": 67,
   "metadata": {},
   "outputs": [
    {
     "data": {
      "text/plain": [
       "[]"
      ]
     },
     "execution_count": 67,
     "metadata": {},
     "output_type": "execute_result"
    }
   ],
   "source": [
    "# since my_comp is an iterator, once consumed it will be empty\n",
    "# trying the above operation again:\n",
    "list(my_comp)"
   ]
  },
  {
   "cell_type": "code",
   "execution_count": 68,
   "metadata": {},
   "outputs": [
    {
     "name": "stdout",
     "output_type": "stream",
     "text": [
      "{123: 'Fred', 345: 'Jan', 231: 'Amy', 567: 'Bob', 399: 'Sue'}\n"
     ]
    }
   ],
   "source": [
    "# Creating the dictionary\n",
    "my_comp =dict(zip(employee_ids, first_names))\n",
    "\n",
    "print(my_comp)\n"
   ]
  },
  {
   "cell_type": "markdown",
   "metadata": {},
   "source": [
    "#### Using zip to group by n"
   ]
  },
  {
   "cell_type": "code",
   "execution_count": 69,
   "metadata": {},
   "outputs": [
    {
     "name": "stdout",
     "output_type": "stream",
     "text": [
      "[0, 1, 2, 3, 4, 5, 6, 7, 8, 9, 10, 11, 12, 13, 14, 15, 16, 17, 18, 19, 20, 21, 22, 23]\n"
     ]
    }
   ],
   "source": [
    "my_series = range(24)\n",
    "\n",
    "print(list(my_series))"
   ]
  },
  {
   "cell_type": "code",
   "execution_count": 70,
   "metadata": {},
   "outputs": [],
   "source": [
    "# my_series is an iterable\n",
    "# we also need to use the iter() function\n",
    "n = 4\n",
    "\n",
    "y1 = zip(*[my_series] * n)\n",
    "y2 = zip(*[iter(my_series)] * n)"
   ]
  },
  {
   "cell_type": "code",
   "execution_count": 71,
   "metadata": {},
   "outputs": [
    {
     "name": "stdout",
     "output_type": "stream",
     "text": [
      "Incorrect:\n",
      "[(0, 0, 0, 0), (1, 1, 1, 1), (2, 2, 2, 2), (3, 3, 3, 3), (4, 4, 4, 4), (5, 5, 5, 5), (6, 6, 6, 6), (7, 7, 7, 7), (8, 8, 8, 8), (9, 9, 9, 9), (10, 10, 10, 10), (11, 11, 11, 11), (12, 12, 12, 12), (13, 13, 13, 13), (14, 14, 14, 14), (15, 15, 15, 15), (16, 16, 16, 16), (17, 17, 17, 17), (18, 18, 18, 18), (19, 19, 19, 19), (20, 20, 20, 20), (21, 21, 21, 21), (22, 22, 22, 22), (23, 23, 23, 23)]\n",
      "What we want!\n",
      "[(0, 1, 2, 3), (4, 5, 6, 7), (8, 9, 10, 11), (12, 13, 14, 15), (16, 17, 18, 19), (20, 21, 22, 23)]\n"
     ]
    }
   ],
   "source": [
    "print(\"Incorrect:\")\n",
    "print(list(y1))\n",
    "print(\"What we want!\")\n",
    "print(list(y2))"
   ]
  },
  {
   "cell_type": "markdown",
   "metadata": {},
   "source": [
    "### Exception Handling"
   ]
  },
  {
   "cell_type": "code",
   "execution_count": 72,
   "metadata": {},
   "outputs": [
    {
     "ename": "TypeError",
     "evalue": "unsupported operand type(s) for +: 'int' and 'str'",
     "output_type": "error",
     "traceback": [
      "\u001b[1;31m---------------------------------------------------------------------------\u001b[0m",
      "\u001b[1;31mTypeError\u001b[0m                                 Traceback (most recent call last)",
      "\u001b[1;32m<ipython-input-72-d80ed46afae9>\u001b[0m in \u001b[0;36m<module>\u001b[1;34m\u001b[0m\n\u001b[1;32m----> 1\u001b[1;33m \u001b[0my\u001b[0m \u001b[1;33m=\u001b[0m \u001b[1;36m5\u001b[0m \u001b[1;33m+\u001b[0m \u001b[1;34m't'\u001b[0m\u001b[1;33m\u001b[0m\u001b[1;33m\u001b[0m\u001b[0m\n\u001b[0m\u001b[0;32m      2\u001b[0m \u001b[0mprint\u001b[0m\u001b[1;33m(\u001b[0m\u001b[1;34m\"Nothing else runs after Exception is raised\"\u001b[0m\u001b[1;33m)\u001b[0m\u001b[1;33m\u001b[0m\u001b[1;33m\u001b[0m\u001b[0m\n",
      "\u001b[1;31mTypeError\u001b[0m: unsupported operand type(s) for +: 'int' and 'str'"
     ]
    }
   ],
   "source": [
    "y = 5 + 't'\n",
    "print(\"Nothing else runs after Exception is raised\")"
   ]
  },
  {
   "cell_type": "code",
   "execution_count": 73,
   "metadata": {},
   "outputs": [
    {
     "name": "stdout",
     "output_type": "stream",
     "text": [
      "Name Error Exception Occured!\n",
      "This will always run even if we have breaks above\n",
      "This represents the rest of the code inside the loop after error handling\n",
      "\n",
      "*************\n",
      "\n",
      "Type Error Occured!\n",
      "This will always run even if we have breaks above\n",
      "This represents the rest of the code inside the loop after error handling\n",
      "\n",
      "*************\n",
      "\n",
      "No exceptions!\n",
      "This will run before 'finally' is run only if no exceptions occured\n",
      "This will always run even if we have breaks above\n",
      "This represents the rest of the code inside the loop after error handling\n",
      "\n",
      "*************\n",
      "\n",
      "Any other error occurred!\n",
      "This will always run even if we have breaks above\n",
      "This represents the rest of the code inside the loop after error handling\n",
      "\n",
      "*************\n",
      "\n",
      "This represents the rest of the code outside the loop\n",
      "--------------------------------------------\n",
      "\n"
     ]
    }
   ],
   "source": [
    "# note we could catch all errors by just using except alone\n",
    "# but best practice is to only catch the errors we are expecting\n",
    "# explicitly, and that way we will be sure to be notified when an\n",
    "# unexpected error condition occurs, or as done below include as\n",
    "# last except as a catch all so that program doesn't terminate but\n",
    "# we still want to be notified and then ultimately come up with a \n",
    "# dedicated solution for that error type.\n",
    "\n",
    "# we will demonstrate with actual errors, but we can force also an \n",
    "# error to occur using raise(), for example raise(TypeError)\n",
    "test = [\n",
    "        \"noname + 5\",     # this raises a name error \n",
    "        \"5 + 't'\",        # this raises a type error\n",
    "        \"5 + 2\",           # no errors\n",
    "        \"5/0\"\n",
    "        ]\n",
    "\n",
    "for item in test:\n",
    "    try:\n",
    "        eval(item)         # eval will execute the string given by item to demonstrate error handling\n",
    "                           #  typically it is bad practice to use eval in code, as it will execute any string\n",
    "                           # (can lead to code injection security issues in released code)\n",
    "    except TypeError:\n",
    "        print(\"Type Error Occured!\")\n",
    "        #break             # a break here would terminate the loop upon error, but finally will still execute.\n",
    "    except NameError:\n",
    "        print(\"Name Error Exception Occured!\")\n",
    "        #break             # a break here would terminate the loop upon error, but finally will still execute.\n",
    "    except:\n",
    "        print(\"Any other error occurred!\")\n",
    "    else:\n",
    "        print(\"No exceptions!\")\n",
    "        print(\"This will run before 'finally' is run only if no exceptions occured\")\n",
    "    finally:\n",
    "        print(\"This will always run even if we have breaks above\")\n",
    "\n",
    "\n",
    "\n",
    "    print(\"This represents the rest of the code inside the loop after error handling\")\n",
    "    print(\"\")\n",
    "    print(\"*************\")\n",
    "    print(\"\")\n",
    "print(\"This represents the rest of the code outside the loop\")    \n",
    "print(\"--------------------------------------------\")\n",
    "print(\"\")\n",
    "    "
   ]
  },
  {
   "cell_type": "code",
   "execution_count": 74,
   "metadata": {},
   "outputs": [
    {
     "name": "stdout",
     "output_type": "stream",
     "text": [
      "item=3\n",
      "Some Long process worth doing on a good item....\n",
      "Clean-up for all items\n",
      "------------------\n",
      "item=-6\n",
      "Some Long process worth doing on a good item....\n",
      "Clean-up for all items\n",
      "------------------\n",
      "item=7\n",
      "Some Long process worth doing on a good item....\n",
      "Clean-up for all items\n",
      "------------------\n",
      "item=8\n",
      "Some Long process worth doing on a good item....\n",
      "Clean-up for all items\n",
      "------------------\n",
      "item='a'\n",
      "Error! Non-numeric in list! Skipping long process...\n",
      "Clean-up for all items\n",
      "------------------\n",
      "item=0\n",
      "Error! Zero in denominator! Skipping long process...\n",
      "Clean-up for all items\n",
      "------------------\n",
      "item=12\n",
      "Some Long process worth doing on a good item....\n",
      "Clean-up for all items\n",
      "------------------\n"
     ]
    }
   ],
   "source": [
    "# similar to example in presentation, where we want to process a large list\n",
    "# as a divisor, and if a 0 or numeric occurs replace both cases with 1e-10\n",
    "my_list = [3,-6,7,8, 'a', 0, 12]\n",
    "\n",
    "for item in my_list:\n",
    "    try:\n",
    "        print(f\"{item=}\")\n",
    "        item = 5/item\n",
    "    except ZeroDivisionError:\n",
    "        print(\"Error! Zero in denominator! Skipping long process...\")\n",
    "       \n",
    "    except TypeError:\n",
    "        print(\"Error! Non-numeric in list! Skipping long process...\")\n",
    "        \n",
    "    else:\n",
    "        # some long process on y to do only if no error occurs\n",
    "        print(\"Some Long process worth doing on a good item....\")\n",
    "    finally: \n",
    "        # clean-up to still run even if an error occurs before we break\n",
    "        print(\"Clean-up for all items\")\n",
    "        print(\"------------------\")\n",
    "    "
   ]
  }
 ],
 "metadata": {
  "hide_input": false,
  "kernelspec": {
   "display_name": "Python 3",
   "language": "python",
   "name": "python3"
  },
  "language_info": {
   "codemirror_mode": {
    "name": "ipython",
    "version": 3
   },
   "file_extension": ".py",
   "mimetype": "text/x-python",
   "name": "python",
   "nbconvert_exporter": "python",
   "pygments_lexer": "ipython3",
   "version": "3.8.3"
  },
  "toc": {
   "base_numbering": 1,
   "nav_menu": {},
   "number_sections": true,
   "sideBar": true,
   "skip_h1_title": true,
   "title_cell": "Table of Contents",
   "title_sidebar": "Contents",
   "toc_cell": false,
   "toc_position": {
    "height": "calc(100% - 180px)",
    "left": "10px",
    "top": "150px",
    "width": "348.785px"
   },
   "toc_section_display": true,
   "toc_window_display": true
  },
  "varInspector": {
   "cols": {
    "lenName": 16,
    "lenType": 16,
    "lenVar": 40
   },
   "kernels_config": {
    "python": {
     "delete_cmd_postfix": "",
     "delete_cmd_prefix": "del ",
     "library": "var_list.py",
     "varRefreshCmd": "print(var_dic_list())"
    },
    "r": {
     "delete_cmd_postfix": ") ",
     "delete_cmd_prefix": "rm(",
     "library": "var_list.r",
     "varRefreshCmd": "cat(var_dic_list()) "
    }
   },
   "oldHeight": 516,
   "position": {
    "height": "40px",
    "left": "891px",
    "right": "20px",
    "top": "65px",
    "width": "350px"
   },
   "types_to_exclude": [
    "module",
    "function",
    "builtin_function_or_method",
    "instance",
    "_Feature"
   ],
   "varInspector_section_display": "none",
   "window_display": true
  }
 },
 "nbformat": 4,
 "nbformat_minor": 2
}
