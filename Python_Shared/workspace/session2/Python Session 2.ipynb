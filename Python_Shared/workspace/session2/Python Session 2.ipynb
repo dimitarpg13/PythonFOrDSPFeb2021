{
 "cells": [
  {
   "cell_type": "markdown",
   "metadata": {},
   "source": [
    "<img src=\"img/logo.png\" align=\"left\" width=\"200\">\n",
    "<h1 style=\"text-align: center;\"> Applications for Digital Design and Signal Processing </h1>\n",
    "<h1 style=\"text-align: center;\"> Session 2 </h1>\n",
    "\n",
    "\n",
    "**License** \n",
    "\n",
    "\n",
    "**DOCUMENT CONTENTS OUTSIDE OF CODE CELLS**\n",
    "\n",
    "Copyright © 2018-2020 C. Daniel Boschen \n",
    "\n",
    "All Rights Reserved. All contents of code cells may be reused freely subject to the MIT License below. All other contents of this notebook are protected by U.S. and International copyright laws. Reproduction and distribution of the notebook without written permission of the author is prohibited. \n",
    "\n",
    "While every precaution has been taken in the preparation of this notebook, the author, publisher, and distribution partners assume no responsibility for any errors or omissions, or any damages resulting from the use of any information contained within it.\n",
    "\n",
    "**MIT LICENSE FOR CODE CELLS**\n",
    "\n",
    "Copyright © 2018-2020 C. Daniel Boschen\n",
    "\n",
    "Permission is hereby granted, free of charge, to any person obtaining a copy of the software demonstrated in code cells (the \"Software\"), to deal in the Software without restriction, including without limitation the rights to use, copy, modify, merge, publish, distribute, sublicense, and/or sell copies of the Software, and to permit persons to whom the Software is furnished to do so, subject to the following conditions:\n",
    "\n",
    "The above copyright notice and this permission notice shall be included in all copies or substantial portions of the Software.\n",
    "\n",
    "THE SOFTWARE IS PROVIDED \"AS IS\", WITHOUT WARRANTY OF ANY KIND, EXPRESS OR IMPLIED, INCLUDING BUT NOT LIMITED TO THE WARRANTIES OF MERCHANTABILITY, FITNESS FOR A PARTICULAR PURPOSE AND NONINFRINGEMENT. IN NO EVENT SHALL THE AUTHORS OR COPYRIGHT HOLDERS BE LIABLE FOR ANY CLAIM, DAMAGES OR OTHER LIABILITY, WHETHER IN AN ACTION OF CONTRACT, TORT OR OTHERWISE, ARISING FROM, OUT OF OR IN CONNECTION WITH THE SOFTWARE OR THE USE OR OTHER DEALINGS IN THE SOFTWARE.  \n"
   ]
  },
  {
   "cell_type": "code",
   "execution_count": 1,
   "metadata": {},
   "outputs": [
    {
     "data": {
      "text/html": [
       "<style>\n",
       "div.warn {    \n",
       "    background-color: #fcf2f2;\n",
       "    border-color: #dFb5b4;\n",
       "    border-left: 5px solid #dfb5b4;\n",
       "    padding: 0.5em;\n",
       "    }\n",
       "</style>"
      ],
      "text/plain": [
       "<IPython.core.display.HTML object>"
      ]
     },
     "execution_count": 1,
     "metadata": {},
     "output_type": "execute_result"
    }
   ],
   "source": [
    "# custom styling for notebook\n",
    "\n",
    "from IPython.core.display import HTML\n",
    "def css_styling():\n",
    "    styles = open(\"../styles/custom.css\", \"r\").read()\n",
    "    return HTML(styles)\n",
    "css_styling()"
   ]
  },
  {
   "cell_type": "code",
   "execution_count": 2,
   "metadata": {},
   "outputs": [
    {
     "name": "stdout",
     "output_type": "stream",
     "text": [
      "1                   2                   3                   4                   \n",
      "5                   6                   7                   8                   \n"
     ]
    }
   ],
   "source": [
    "# The following imports a custom printing function from our tools directory\n",
    "# It is used in this module as tools.disp to print out a long list in column format\n",
    "\n",
    "#The tools directory is in a directory above the notebook, so the following two lines \n",
    "#temporarily append that path to the Python Path.\n",
    "#See Reference Notebook section \"Local Respository for custom modules\" on how\n",
    "#to eliminate these next two lines on a Windows machine by updating the PYTHONPATH permanantly\n",
    "import sys\n",
    "sys.path.append(\"../\")\n",
    "import tools.mytools as tools\n",
    "\n",
    "\n",
    "# example\n",
    "test = [1,2,3,4,5,6,7,8]\n",
    "tools.disp(test)\n",
    "\n",
    "\n",
    "\n",
    "\n",
    "\n",
    "\n",
    "\n"
   ]
  },
  {
   "cell_type": "code",
   "execution_count": 3,
   "metadata": {},
   "outputs": [
    {
     "name": "stdout",
     "output_type": "stream",
     "text": [
      "[1, 2, 3, 4, 5, 6, 7, 8]\n"
     ]
    }
   ],
   "source": [
    "# compared to using print:\n",
    "print(test)"
   ]
  },
  {
   "cell_type": "code",
   "execution_count": 4,
   "metadata": {},
   "outputs": [
    {
     "data": {
      "text/plain": [
       "[1, 2, 3, 4, 5, 6, 7, 8]"
      ]
     },
     "execution_count": 4,
     "metadata": {},
     "output_type": "execute_result"
    }
   ],
   "source": [
    "# compared to output to the console: If the last item in cell is \n",
    "# not bound to anything else (as in x = test the object returned \n",
    "# by test is bound to the name x)\n",
    "test"
   ]
  },
  {
   "cell_type": "markdown",
   "metadata": {},
   "source": [
    "## Examples from Class Presentation Content"
   ]
  },
  {
   "cell_type": "markdown",
   "metadata": {},
   "source": [
    "### Python Keywords"
   ]
  },
  {
   "cell_type": "code",
   "execution_count": 7,
   "metadata": {},
   "outputs": [],
   "source": [
    "%qtconsole"
   ]
  },
  {
   "cell_type": "code",
   "execution_count": 11,
   "metadata": {},
   "outputs": [
    {
     "name": "stdout",
     "output_type": "stream",
     "text": [
      "Dan\n"
     ]
    }
   ],
   "source": [
    "print(test)"
   ]
  },
  {
   "cell_type": "code",
   "execution_count": 5,
   "metadata": {},
   "outputs": [
    {
     "name": "stdout",
     "output_type": "stream",
     "text": [
      "False               None                True                and                 \n",
      "as                  assert              async               await               \n",
      "break               class               continue            def                 \n",
      "del                 elif                else                except              \n",
      "finally             for                 from                global              \n",
      "if                  import              in                  is                  \n",
      "lambda              nonlocal            not                 or                  \n",
      "pass                raise               return              try                 \n",
      "while               with                yield                                   \n"
     ]
    }
   ],
   "source": [
    "### Python Keywords\n",
    "\n",
    "import keyword\n",
    "tools.disp(keyword.kwlist)"
   ]
  },
  {
   "cell_type": "code",
   "execution_count": 6,
   "metadata": {},
   "outputs": [
    {
     "name": "stdout",
     "output_type": "stream",
     "text": [
      "['False', 'None', 'True', 'and', 'as', 'assert', 'async', 'await', 'break', 'class', 'continue', 'def', 'del', 'elif', 'else', 'except', 'finally', 'for', 'from', 'global', 'if', 'import', 'in', 'is', 'lambda', 'nonlocal', 'not', 'or', 'pass', 'raise', 'return', 'try', 'while', 'with', 'yield']\n"
     ]
    }
   ],
   "source": [
    "print(keyword.kwlist)"
   ]
  },
  {
   "cell_type": "markdown",
   "metadata": {},
   "source": [
    "### Using the keyword module"
   ]
  },
  {
   "cell_type": "code",
   "execution_count": 9,
   "metadata": {},
   "outputs": [
    {
     "name": "stdout",
     "output_type": "stream",
     "text": [
      "Enter desired variable name: pass\n",
      "NO! pass is a reserved word.\n"
     ]
    }
   ],
   "source": [
    "name = input(\"Enter desired variable name: \")\n",
    "\n",
    "if keyword.iskeyword(name):\n",
    "    print(f\"NO! {name} is a reserved word.\")\n",
    "else:\n",
    "    print(f\"YES! {name} can be used as a variable name.\")"
   ]
  },
  {
   "cell_type": "markdown",
   "metadata": {},
   "source": [
    "### Python Built-in Functions"
   ]
  },
  {
   "cell_type": "code",
   "execution_count": 10,
   "metadata": {
    "code_folding": []
   },
   "outputs": [
    {
     "name": "stdout",
     "output_type": "stream",
     "text": [
      "abs                 all                 any                 ascii               \n",
      "bin                 bool                breakpoint          bytearray           \n",
      "bytes               callable            chr                 classmethod         \n",
      "compile             complex             copyright           credits             \n",
      "delattr             dict                dir                 display             \n",
      "divmod              enumerate           eval                exec                \n",
      "filter              float               format              frozenset           \n",
      "get_ipython         getattr             globals             hasattr             \n",
      "hash                help                hex                 id                  \n",
      "input               int                 isinstance          issubclass          \n",
      "iter                len                 license             list                \n",
      "locals              map                 max                 memoryview          \n",
      "min                 next                object              oct                 \n",
      "open                ord                 pow                 print               \n",
      "property            range               repr                reversed            \n",
      "round               set                 setattr             slice               \n",
      "sorted              staticmethod        str                 sum                 \n",
      "super               tuple               type                vars                \n",
      "zip                                                                             \n"
     ]
    }
   ],
   "source": [
    "# create List ot display     \n",
    "#import builtins as blts\n",
    "#tools.disp([i for i in dir(blts) if i[0].islower()])\n",
    "\n",
    "tools.disp([i for i in dir(__builtins__) if i[0].islower()])"
   ]
  },
  {
   "cell_type": "code",
   "execution_count": 11,
   "metadata": {},
   "outputs": [],
   "source": [
    "test=\"String\""
   ]
  },
  {
   "cell_type": "markdown",
   "metadata": {},
   "source": [
    "### Python Built-in Modules\n",
    "We will see more of this in course module 4 but below demonstrates useful tools with the sys module\n",
    "see help(sys) for full details\n",
    "\n",
    "sys.ps1    changes primary prompt in Python interpreter\n",
    "\n",
    "sys.ps2    changes secondary prompt in Python interpreter\n",
    "\n",
    "(The above is not visible through IPython. To try this run python from the anaconda prompt\n",
    "and type: sys.ps1 = \"<!>\"   (for example)"
   ]
  },
  {
   "cell_type": "code",
   "execution_count": 12,
   "metadata": {},
   "outputs": [
    {
     "name": "stdout",
     "output_type": "stream",
     "text": [
      "3.8.3 (default, Jul  2 2020, 17:30:36) [MSC v.1916 64 bit (AMD64)]\n",
      "57\n",
      "sys.float_info(max=1.7976931348623157e+308, max_exp=1024, max_10_exp=308, min=2.2250738585072014e-308, min_exp=-1021, min_10_exp=-307, dig=15, mant_dig=53, epsilon=2.220446049250313e-16, radix=2, rounds=1)\n"
     ]
    }
   ],
   "source": [
    "import sys     # note this was already imported above, in which case this line is ignored if executed again\n",
    "\n",
    "print(sys.version)                 # version of current python interpreter\n",
    "print(sys.getsizeof(\"A string\"))   # size of string object in Bytes\n",
    "print(sys.float_info)              # returns precision of floating point type specific to machine used"
   ]
  },
  {
   "cell_type": "markdown",
   "metadata": {},
   "source": [
    "### Duck Typing"
   ]
  },
  {
   "cell_type": "code",
   "execution_count": 13,
   "metadata": {},
   "outputs": [
    {
     "data": {
      "text/plain": [
       "float"
      ]
     },
     "execution_count": 13,
     "metadata": {},
     "output_type": "execute_result"
    }
   ],
   "source": [
    "x = 4         # x is an integer\n",
    "y = 5.0       # y is a float\n",
    "z = x + y     # adding an int to a float returns a float\n",
    "\n",
    "type(z)"
   ]
  },
  {
   "cell_type": "code",
   "execution_count": 14,
   "metadata": {},
   "outputs": [
    {
     "ename": "TypeError",
     "evalue": "unsupported operand type(s) for +: 'float' and 'str'",
     "output_type": "error",
     "traceback": [
      "\u001b[1;31m---------------------------------------------------------------------------\u001b[0m",
      "\u001b[1;31mTypeError\u001b[0m                                 Traceback (most recent call last)",
      "\u001b[1;32m<ipython-input-14-9aea58dd964a>\u001b[0m in \u001b[0;36m<module>\u001b[1;34m\u001b[0m\n\u001b[0;32m      1\u001b[0m \u001b[1;31m# this will return a TypeError, the float type does not have a method that will add a string\u001b[0m\u001b[1;33m\u001b[0m\u001b[1;33m\u001b[0m\u001b[1;33m\u001b[0m\u001b[0m\n\u001b[0;32m      2\u001b[0m \u001b[0mk\u001b[0m \u001b[1;33m=\u001b[0m \u001b[1;34m\"my_string\"\u001b[0m\u001b[1;33m\u001b[0m\u001b[1;33m\u001b[0m\u001b[0m\n\u001b[1;32m----> 3\u001b[1;33m \u001b[0mw\u001b[0m \u001b[1;33m=\u001b[0m \u001b[0mz\u001b[0m \u001b[1;33m+\u001b[0m \u001b[0mk\u001b[0m\u001b[1;33m\u001b[0m\u001b[1;33m\u001b[0m\u001b[0m\n\u001b[0m",
      "\u001b[1;31mTypeError\u001b[0m: unsupported operand type(s) for +: 'float' and 'str'"
     ]
    }
   ],
   "source": [
    "# this will return a TypeError, the float type does not have a method that will add a string\n",
    "k = \"my_string\"\n",
    "w = z + k    \n"
   ]
  },
  {
   "cell_type": "markdown",
   "metadata": {},
   "source": [
    "### Underscore Patterns\n",
    "\n",
    "\n",
    "This includes the double-underscore patterns known as \"Dunders\"\n",
    "\n",
    "If the object has the dunder method (the \"magic methods\") for a given operator, then that operator can be used on that object.\n",
    "\n",
    "For example, practically all objects will return help (\\__doc__), can be tested for equality (\\__eq__ and \\__ne__), and be converted to a string (\\__repr__ and \\__str__), as long as they have those methods listed. "
   ]
  },
  {
   "cell_type": "code",
   "execution_count": 15,
   "metadata": {},
   "outputs": [],
   "source": [
    "# just a convention, use __ as placeholder for insigficant values\n",
    "# here for example, we send the results of dir(k) to __ instead of having it \n",
    "# go to the console. (we'll learn better examples where using __ is useful)\n",
    "__ = dir(k)"
   ]
  },
  {
   "cell_type": "code",
   "execution_count": 16,
   "metadata": {},
   "outputs": [],
   "source": [
    "# This is is a trivial example below of a Python class construction\n",
    "# for purpose of showing what \"name mangling\" means. The\n",
    "# __ in front of a class variable has special meaning to the interpreter\n",
    "# since it will recognize this and alter the name as follows,\n",
    "# while all other dunders are by convention only. \n",
    "\n",
    "class MyClass:\n",
    "    a = 'item 1'\n",
    "    b = 'item 2'\n",
    "    _p1 = 5\n",
    "    __p2 = 25\n",
    "\n",
    "x = MyClass"
   ]
  },
  {
   "cell_type": "code",
   "execution_count": 17,
   "metadata": {},
   "outputs": [
    {
     "data": {
      "text/plain": [
       "['_MyClass__p2',\n",
       " '__class__',\n",
       " '__delattr__',\n",
       " '__dict__',\n",
       " '__dir__',\n",
       " '__doc__',\n",
       " '__eq__',\n",
       " '__format__',\n",
       " '__ge__',\n",
       " '__getattribute__',\n",
       " '__gt__',\n",
       " '__hash__',\n",
       " '__init__',\n",
       " '__init_subclass__',\n",
       " '__le__',\n",
       " '__lt__',\n",
       " '__module__',\n",
       " '__ne__',\n",
       " '__new__',\n",
       " '__reduce__',\n",
       " '__reduce_ex__',\n",
       " '__repr__',\n",
       " '__setattr__',\n",
       " '__sizeof__',\n",
       " '__str__',\n",
       " '__subclasshook__',\n",
       " '__weakref__',\n",
       " '_p1',\n",
       " 'a',\n",
       " 'b']"
      ]
     },
     "execution_count": 17,
     "metadata": {},
     "output_type": "execute_result"
    }
   ],
   "source": [
    "# using dir to show all attributes associated with MyClass. Most are inherited\n",
    "# from the base class provided by the class keyword, and we added attributes\n",
    "# a and b, and private variable _p1 and fully private variable p2.\n",
    "# They are clearly visible and can be operated on. \"private\" is just convention.\n",
    "# The name mangling is done to avoid name conflicts in subclasses\n",
    "# (Note this is a more advanced detail shown here just to demonstrate the \n",
    "# \"dunder\" variations. Further info with Python classes will only\n",
    "# be covered in additional bonus material but not be part of the primary course)\n",
    "dir(x)"
   ]
  },
  {
   "cell_type": "markdown",
   "metadata": {},
   "source": [
    "### Attribute Access\n",
    "\n",
    "Everything except keywords and operators (as the fundamental language building blocks) is an object including all data types. There are no primitive types in Python (unlike many other languages where primitive data types are special data types built into the language).\n",
    "\n",
    "For each object, the attributes are accessed using dot notation: object_name.object_attribute. Attributes include variables and methods (functions)\n",
    "\n"
   ]
  },
  {
   "cell_type": "code",
   "execution_count": 18,
   "metadata": {},
   "outputs": [
    {
     "name": "stdout",
     "output_type": "stream",
     "text": [
      "__add__             __class__           __contains__        __delattr__         \n",
      "__dir__             __doc__             __eq__              __format__          \n",
      "__ge__              __getattribute__    __getitem__         __getnewargs__      \n",
      "__gt__              __hash__            __init__            __init_subclass_... \n",
      "__iter__            __le__              __len__             __lt__              \n",
      "__mod__             __mul__             __ne__              __new__             \n",
      "__reduce__          __reduce_ex__       __repr__            __rmod__            \n",
      "__rmul__            __setattr__         __sizeof__          __str__             \n",
      "__subclasshook__    capitalize          casefold            center              \n",
      "count               encode              endswith            expandtabs          \n",
      "find                format              format_map          index               \n",
      "isalnum             isalpha             isascii             isdecimal           \n",
      "isdigit             isidentifier        islower             isnumeric           \n",
      "isprintable         isspace             istitle             isupper             \n",
      "join                ljust               lower               lstrip              \n",
      "maketrans           partition           replace             rfind               \n",
      "rindex              rjust               rpartition          rsplit              \n",
      "rstrip              split               splitlines          startswith          \n",
      "strip               swapcase            title               translate           \n",
      "upper               zfill                                                       \n"
     ]
    }
   ],
   "source": [
    "# example create a string object:\n",
    "myString = 'This is a string'\n",
    "\n",
    "# use custom display function to view all attributes for a string object\n",
    "# (could easily just use dir(myString))\n",
    "tools.disp(dir(myString))\n"
   ]
  },
  {
   "cell_type": "code",
   "execution_count": 19,
   "metadata": {},
   "outputs": [
    {
     "name": "stdout",
     "output_type": "stream",
     "text": [
      "__add__             __class__           __contains__        __delattr__         \n",
      "__dir__             __doc__             __eq__              __format__          \n",
      "__ge__              __getattribute__    __getitem__         __getnewargs__      \n",
      "__gt__              __hash__            __init__            __init_subclass_... \n",
      "__iter__            __le__              __len__             __lt__              \n",
      "__mod__             __mul__             __ne__              __new__             \n",
      "__reduce__          __reduce_ex__       __repr__            __rmod__            \n",
      "__rmul__            __setattr__         __sizeof__          __str__             \n",
      "__subclasshook__    capitalize          casefold            center              \n",
      "count               encode              endswith            expandtabs          \n",
      "find                format              format_map          index               \n",
      "isalnum             isalpha             isascii             isdecimal           \n",
      "isdigit             isidentifier        islower             isnumeric           \n",
      "isprintable         isspace             istitle             isupper             \n",
      "join                ljust               lower               lstrip              \n",
      "maketrans           partition           replace             rfind               \n",
      "rindex              rjust               rpartition          rsplit              \n",
      "rstrip              split               splitlines          startswith          \n",
      "strip               swapcase            title               translate           \n",
      "upper               zfill                                                       \n"
     ]
    }
   ],
   "source": [
    "tools.disp(dir(str))"
   ]
  },
  {
   "cell_type": "code",
   "execution_count": 20,
   "metadata": {},
   "outputs": [
    {
     "data": {
      "text/plain": [
       "True"
      ]
     },
     "execution_count": 20,
     "metadata": {},
     "output_type": "execute_result"
    }
   ],
   "source": [
    "myString.startswith('This')"
   ]
  },
  {
   "cell_type": "code",
   "execution_count": 21,
   "metadata": {},
   "outputs": [
    {
     "name": "stdout",
     "output_type": "stream",
     "text": [
      "<class 'float'>\n"
     ]
    }
   ],
   "source": [
    "# in IPython the _ is the previous output to the buffer:\n",
    "print(_)"
   ]
  },
  {
   "cell_type": "markdown",
   "metadata": {},
   "source": [
    "### Introspection\n",
    "\n",
    "Python tools for looking inside objects"
   ]
  },
  {
   "cell_type": "code",
   "execution_count": 22,
   "metadata": {},
   "outputs": [
    {
     "name": "stdout",
     "output_type": "stream",
     "text": [
      "__abs__             __add__             __and__             __bool__            \n",
      "__ceil__            __class__           __delattr__         __dir__             \n",
      "__divmod__          __doc__             __eq__              __float__           \n",
      "__floor__           __floordiv__        __format__          __ge__              \n",
      "__getattribute__    __getnewargs__      __gt__              __hash__            \n",
      "__index__           __init__            __init_subclass_... __int__             \n",
      "__invert__          __le__              __lshift__          __lt__              \n",
      "__mod__             __mul__             __ne__              __neg__             \n",
      "__new__             __or__              __pos__             __pow__             \n",
      "__radd__            __rand__            __rdivmod__         __reduce__          \n",
      "__reduce_ex__       __repr__            __rfloordiv__       __rlshift__         \n",
      "__rmod__            __rmul__            __ror__             __round__           \n",
      "__rpow__            __rrshift__         __rshift__          __rsub__            \n",
      "__rtruediv__        __rxor__            __setattr__         __sizeof__          \n",
      "__str__             __sub__             __subclasshook__    __truediv__         \n",
      "__trunc__           __xor__             as_integer_ratio    bit_length          \n",
      "conjugate           denominator         from_bytes          imag                \n",
      "numerator           real                to_bytes                                \n"
     ]
    }
   ],
   "source": [
    "# dir returns a list of atttributes and methods for an object\n",
    "\n",
    "intObj = 5\n",
    "\n",
    "tools.disp(dir(intObj))"
   ]
  },
  {
   "cell_type": "code",
   "execution_count": 23,
   "metadata": {},
   "outputs": [
    {
     "data": {
      "text/plain": [
       "50"
      ]
     },
     "execution_count": 23,
     "metadata": {},
     "output_type": "execute_result"
    }
   ],
   "source": [
    "import sys\n",
    "\n",
    "sys.getsizeof('A')\n"
   ]
  },
  {
   "cell_type": "code",
   "execution_count": 24,
   "metadata": {},
   "outputs": [
    {
     "data": {
      "text/plain": [
       "51"
      ]
     },
     "execution_count": 24,
     "metadata": {},
     "output_type": "execute_result"
    }
   ],
   "source": [
    "sys.getsizeof('AB')"
   ]
  },
  {
   "cell_type": "code",
   "execution_count": 25,
   "metadata": {},
   "outputs": [
    {
     "data": {
      "text/plain": [
       "'This is my string with literals such a \\\\ and another \\\\ adadf'"
      ]
     },
     "execution_count": 25,
     "metadata": {},
     "output_type": "execute_result"
    }
   ],
   "source": [
    "r\"This is my string with literals such a \\ and another \\ adadf\""
   ]
  },
  {
   "cell_type": "code",
   "execution_count": 26,
   "metadata": {},
   "outputs": [
    {
     "name": "stdout",
     "output_type": "stream",
     "text": [
      "28\n",
      "48\n"
     ]
    }
   ],
   "source": [
    "print(sys.getsizeof(2))\n",
    "print(sys.getsizeof(234455566632323323333333333121321311313134421355544))"
   ]
  },
  {
   "cell_type": "code",
   "execution_count": 27,
   "metadata": {},
   "outputs": [
    {
     "data": {
      "text/plain": [
       "int"
      ]
     },
     "execution_count": 27,
     "metadata": {},
     "output_type": "execute_result"
    }
   ],
   "source": [
    "# type returns the type an object is (string, integer, float, )\n",
    "type(intObj)"
   ]
  },
  {
   "cell_type": "code",
   "execution_count": 28,
   "metadata": {},
   "outputs": [
    {
     "name": "stdout",
     "output_type": "stream",
     "text": [
      "2655763771136\n",
      "2655763771136\n",
      "True\n",
      "True\n"
     ]
    }
   ],
   "source": [
    "# No two objects have the same id, if the id is the same, it is the same object!\n",
    "\n",
    "x = [5,4,2]\n",
    "y = x\n",
    "print(id(x))\n",
    "print(id(y))\n",
    "\n",
    "# easier to use \"is\" to test\n",
    "print(x is y)      # x and y have same memory location, they are the same object!\n",
    "print(x == y)      # the value of x and the value of y are the same"
   ]
  },
  {
   "cell_type": "code",
   "execution_count": 29,
   "metadata": {},
   "outputs": [
    {
     "name": "stdout",
     "output_type": "stream",
     "text": [
      "2655764639040\n",
      "2655763944832\n",
      "False\n",
      "True\n"
     ]
    }
   ],
   "source": [
    "x = [5,4,2]\n",
    "y = [5,4,2]\n",
    "print(id(x))\n",
    "print(id(y))\n",
    "\n",
    "# easier to use \"is\" to test\n",
    "print(x is y)      # x and y do not have the same memory location, they are two different objects!\n",
    "print(x == y)      # the value of x and the value of y are the same"
   ]
  },
  {
   "cell_type": "markdown",
   "metadata": {},
   "source": [
    "### Calling Functions\n",
    "\n",
    "Functions are covered in more detail later, this is just to show the significance of\n",
    "using () to execute the function expanding what was shown in the slides"
   ]
  },
  {
   "cell_type": "code",
   "execution_count": 30,
   "metadata": {},
   "outputs": [
    {
     "data": {
      "text/plain": [
       "<function dir>"
      ]
     },
     "execution_count": 30,
     "metadata": {},
     "output_type": "execute_result"
    }
   ],
   "source": [
    "# dir is a built-in Python function, but if we exclude the () then the\n",
    "# function will just return itself\n",
    "dir"
   ]
  },
  {
   "cell_type": "code",
   "execution_count": 31,
   "metadata": {},
   "outputs": [
    {
     "data": {
      "text/plain": [
       "<function dir>"
      ]
     },
     "execution_count": 31,
     "metadata": {},
     "output_type": "execute_result"
    }
   ],
   "source": [
    "# here we bind the variable name x to the function dir \n",
    "x = dir\n",
    "x"
   ]
  },
  {
   "cell_type": "code",
   "execution_count": 32,
   "metadata": {},
   "outputs": [
    {
     "data": {
      "text/plain": [
       "['HTML',\n",
       " 'In',\n",
       " 'MyClass',\n",
       " 'NamespaceMagics',\n",
       " 'Out',\n",
       " '_',\n",
       " '_1',\n",
       " '_13',\n",
       " '_17',\n",
       " '_20',\n",
       " '_23',\n",
       " '_24',\n",
       " '_25',\n",
       " '_27',\n",
       " '_30',\n",
       " '_31',\n",
       " '_4',\n",
       " '_Jupyter',\n",
       " '__',\n",
       " '___',\n",
       " '__builtin__',\n",
       " '__builtins__',\n",
       " '__doc__',\n",
       " '__loader__',\n",
       " '__name__',\n",
       " '__package__',\n",
       " '__spec__',\n",
       " '_dh',\n",
       " '_getshapeof',\n",
       " '_getsizeof',\n",
       " '_i',\n",
       " '_i1',\n",
       " '_i10',\n",
       " '_i11',\n",
       " '_i12',\n",
       " '_i13',\n",
       " '_i14',\n",
       " '_i15',\n",
       " '_i16',\n",
       " '_i17',\n",
       " '_i18',\n",
       " '_i19',\n",
       " '_i2',\n",
       " '_i20',\n",
       " '_i21',\n",
       " '_i22',\n",
       " '_i23',\n",
       " '_i24',\n",
       " '_i25',\n",
       " '_i26',\n",
       " '_i27',\n",
       " '_i28',\n",
       " '_i29',\n",
       " '_i3',\n",
       " '_i30',\n",
       " '_i31',\n",
       " '_i32',\n",
       " '_i4',\n",
       " '_i5',\n",
       " '_i6',\n",
       " '_i7',\n",
       " '_i8',\n",
       " '_i9',\n",
       " '_ih',\n",
       " '_ii',\n",
       " '_iii',\n",
       " '_nms',\n",
       " '_oh',\n",
       " 'css_styling',\n",
       " 'exit',\n",
       " 'get_ipython',\n",
       " 'getsizeof',\n",
       " 'intObj',\n",
       " 'json',\n",
       " 'k',\n",
       " 'keyword',\n",
       " 'myString',\n",
       " 'name',\n",
       " 'np',\n",
       " 'quit',\n",
       " 'sys',\n",
       " 'test',\n",
       " 'tools',\n",
       " 'var_dic_list',\n",
       " 'x',\n",
       " 'y',\n",
       " 'z']"
      ]
     },
     "execution_count": 32,
     "metadata": {},
     "output_type": "execute_result"
    }
   ],
   "source": [
    "x()"
   ]
  },
  {
   "cell_type": "code",
   "execution_count": 33,
   "metadata": {},
   "outputs": [
    {
     "name": "stdout",
     "output_type": "stream",
     "text": [
      "HTML                In                  MyClass             NamespaceMagics     \n",
      "Out                 _                   _1                  _13                 \n",
      "_17                 _20                 _23                 _24                 \n",
      "_25                 _27                 _30                 _31                 \n",
      "_32                 _4                  _Jupyter            __                  \n",
      "___                 __builtin__         __builtins__        __doc__             \n",
      "__loader__          __name__            __package__         __spec__            \n",
      "_dh                 _getshapeof         _getsizeof          _i                  \n",
      "_i1                 _i10                _i11                _i12                \n",
      "_i13                _i14                _i15                _i16                \n",
      "_i17                _i18                _i19                _i2                 \n",
      "_i20                _i21                _i22                _i23                \n",
      "_i24                _i25                _i26                _i27                \n",
      "_i28                _i29                _i3                 _i30                \n",
      "_i31                _i32                _i33                _i4                 \n",
      "_i5                 _i6                 _i7                 _i8                 \n",
      "_i9                 _ih                 _ii                 _iii                \n",
      "_nms                _oh                 css_styling         exit                \n",
      "get_ipython         getsizeof           intObj              json                \n",
      "k                   keyword             myString            name                \n",
      "np                  quit                sys                 test                \n",
      "tools               var_dic_list        x                   y                   \n",
      "z                                                                               \n"
     ]
    }
   ],
   "source": [
    "# same as above but showing why I have the custom display function\n",
    "tools.disp(x())"
   ]
  },
  {
   "cell_type": "code",
   "execution_count": 34,
   "metadata": {},
   "outputs": [],
   "source": [
    "# here, in contrast, dir() returns the contents above, as a List, which is then bound to x\n",
    "x = dir()"
   ]
  },
  {
   "cell_type": "code",
   "execution_count": 35,
   "metadata": {},
   "outputs": [
    {
     "data": {
      "text/plain": [
       "list"
      ]
     },
     "execution_count": 35,
     "metadata": {},
     "output_type": "execute_result"
    }
   ],
   "source": [
    "# The built-in function type will tell us what type an object is, so useful for introspection: \n",
    "type(x)"
   ]
  },
  {
   "cell_type": "code",
   "execution_count": 36,
   "metadata": {},
   "outputs": [
    {
     "name": "stdout",
     "output_type": "stream",
     "text": [
      "HTML                In                  MyClass             NamespaceMagics     \n",
      "Out                 _                   _1                  _13                 \n",
      "_17                 _20                 _23                 _24                 \n",
      "_25                 _27                 _30                 _31                 \n",
      "_32                 _4                  _Jupyter            __                  \n",
      "___                 __builtin__         __builtins__        __doc__             \n",
      "__loader__          __name__            __package__         __spec__            \n",
      "_dh                 _getshapeof         _getsizeof          _i                  \n",
      "_i1                 _i10                _i11                _i12                \n",
      "_i13                _i14                _i15                _i16                \n",
      "_i17                _i18                _i19                _i2                 \n",
      "_i20                _i21                _i22                _i23                \n",
      "_i24                _i25                _i26                _i27                \n",
      "_i28                _i29                _i3                 _i30                \n",
      "_i31                _i32                _i33                _i34                \n",
      "_i4                 _i5                 _i6                 _i7                 \n",
      "_i8                 _i9                 _ih                 _ii                 \n",
      "_iii                _nms                _oh                 css_styling         \n",
      "exit                get_ipython         getsizeof           intObj              \n",
      "json                k                   keyword             myString            \n",
      "name                np                  quit                sys                 \n",
      "test                tools               var_dic_list        x                   \n",
      "y                   z                                                           \n"
     ]
    }
   ],
   "source": [
    "# now that x is a List in this case and not a function, we can use it directly to display it's contents\n",
    "tools.disp(x)"
   ]
  },
  {
   "cell_type": "markdown",
   "metadata": {},
   "source": [
    "### Operators"
   ]
  },
  {
   "cell_type": "markdown",
   "metadata": {},
   "source": [
    "Careful! \n",
    "Always use == for equality comparison"
   ]
  },
  {
   "cell_type": "code",
   "execution_count": null,
   "metadata": {},
   "outputs": [],
   "source": [
    "x = 1    # assigns the value 1 to the integer object bound to x\n",
    "x == 5   # performs an equality comparison, returns false"
   ]
  },
  {
   "cell_type": "markdown",
   "metadata": {},
   "source": [
    "Careful! \n",
    "The + and * operators are not what you might think for lists (and other containers which we'll cover in Module 3)\n"
   ]
  },
  {
   "cell_type": "code",
   "execution_count": null,
   "metadata": {},
   "outputs": [],
   "source": [
    "my_list = [5]\n",
    "print(my_list * 4)\n",
    "\n",
    "# the + and * operates on strings the same as other containers:\n",
    "print(\"My string \" * 6)"
   ]
  },
  {
   "cell_type": "markdown",
   "metadata": {},
   "source": [
    "### Booleans\n",
    "\n",
    "Every object has a Boolean value and almost everything is true\n",
    "\n",
    "Built-in values that are False:\n",
    "\n",
    "False\n",
    "    \n",
    "Any numeric that = 0\n",
    "    \n",
    "None\n",
    "    \n",
    "Empty collections: '',[], {} \n",
    "\n",
    "\n",
    "Because of this,\n",
    "\n",
    "    if len(my_list) > 0:\n",
    "        do_this_stuff()\n",
    "        \n",
    "Can instead be done as:\n",
    "\n",
    "    if my_list:\n",
    "        do_this_stuff()\n",
    "        \n",
    "(We'll cover control statements in next module, but this is the benefit of having empty collections return false"
   ]
  },
  {
   "cell_type": "code",
   "execution_count": 37,
   "metadata": {},
   "outputs": [
    {
     "name": "stdout",
     "output_type": "stream",
     "text": [
      "4\n",
      "2\n",
      "4\n",
      "5\n"
     ]
    }
   ],
   "source": [
    "# demo\n",
    "\n",
    "my_list = [5, 4, 2, 4]\n",
    "\n",
    "while(my_list):\n",
    "    print(my_list.pop())"
   ]
  },
  {
   "cell_type": "markdown",
   "metadata": {},
   "source": [
    "<img src=\"img/whoa-cool.jpg\" align=\"left\" width=\"120\">"
   ]
  },
  {
   "cell_type": "markdown",
   "metadata": {},
   "source": [
    "Ultimately it is the Dunders for objects that determine what they return:\n",
    "\n",
    "Objects that are able to return False:\n",
    "\n",
    "Objects that have  .\\__len__() \n",
    "\n",
    "Objects that have .\\__bool__() \n",
    "\n",
    "(We needn't access the Dunders directly, test comparisons will do this for us- this is really an \"under the hood\" item)"
   ]
  },
  {
   "cell_type": "code",
   "execution_count": 38,
   "metadata": {},
   "outputs": [
    {
     "name": "stdout",
     "output_type": "stream",
     "text": [
      "[5, 4, 2]\n",
      "[]\n"
     ]
    }
   ],
   "source": [
    "# boolean operations on non-Booleans  (See slide on this!)\n",
    "\n",
    "my_list = []             # evaluates to False\n",
    "your_list = [5, 4, 2]    # evaluates to True\n",
    "\n",
    "case1 = my_list or your_list      # if my_list is true case1 = your_list, else case1 = my_list\n",
    "case2 = my_list and your_list     # if my_list is true case2 = my_list, else case2 = your_list \n",
    "\n",
    "print(case1)\n",
    "print(case2)\n",
    "\n",
    "# populate my_list and rerun, as soon as it is not empty case1 and case2 will swap"
   ]
  },
  {
   "cell_type": "code",
   "execution_count": null,
   "metadata": {},
   "outputs": [],
   "source": [
    "# exponentation \n",
    "\n",
    "print(25**2)\n",
    "\n",
    "print(25^2)     #this is a bitwise xor:    11001 xor 10 = 11011"
   ]
  },
  {
   "cell_type": "markdown",
   "metadata": {},
   "source": [
    "### Formatting Strings"
   ]
  },
  {
   "cell_type": "code",
   "execution_count": null,
   "metadata": {},
   "outputs": [],
   "source": [
    "print('Here we can include \"double quotes\" in string')\n",
    "print(\"Here we can include 'single quotes' in string\")\n",
    "print(r\"Include \\backslash literals\\ without \\causing \\escapes in string\")    # especially useful in regex\n",
    "print(\"Ok I can still include \\\\backslash literals\\\\ by \\\\escaping them\")\n",
    "print(\"Using escape sequence to print a octal character code: \\044\")\n",
    "print(\"Using escape sequence to print a hex character code: \\x23\")\n",
    "print(\"Using escape sequence to print unicode character: \\u0394\")"
   ]
  },
  {
   "cell_type": "code",
   "execution_count": null,
   "metadata": {},
   "outputs": [],
   "source": [
    "w = 11\n",
    "k = 13\n",
    "print(f\"string with {w} and {k} inserted\")\n",
    "print(f\"string with {w:x} and {k:b} inserted\")\n",
    "print(f\"string with {w+5:10.3f} inserted\")"
   ]
  },
  {
   "cell_type": "markdown",
   "metadata": {},
   "source": [
    "Strings that come into Python from the outside (files, network connections, etc) are often coded as binary strings. These can be decoded using the string.decode method:"
   ]
  },
  {
   "cell_type": "code",
   "execution_count": null,
   "metadata": {},
   "outputs": [],
   "source": [
    "my_name_bytes = b'Dan Boschen'\n",
    "type(my_name_bytes)"
   ]
  },
  {
   "cell_type": "code",
   "execution_count": null,
   "metadata": {},
   "outputs": [],
   "source": [
    "type(my_name_bytes.decode('UTF-8'))"
   ]
  },
  {
   "cell_type": "code",
   "execution_count": null,
   "metadata": {},
   "outputs": [],
   "source": [
    "# \n",
    "\n",
    "is_it_so = b'\\x44' == b'D'\n",
    "print(f\"A byte can be specified with characters or Hex numbers: {is_it_so}\")"
   ]
  },
  {
   "cell_type": "code",
   "execution_count": null,
   "metadata": {},
   "outputs": [],
   "source": [
    "how_about_this = b'D' == 'D'\n",
    "print(f\"A byte is a Character?: {how_about_this}\")"
   ]
  },
  {
   "cell_type": "markdown",
   "metadata": {},
   "source": [
    "### Mutable / Immutable\n"
   ]
  },
  {
   "cell_type": "code",
   "execution_count": 39,
   "metadata": {},
   "outputs": [
    {
     "name": "stdout",
     "output_type": "stream",
     "text": [
      "[[5, 4, 3], [5, 4, 3], [5, 4, 3], [5, 4, 3]]\n"
     ]
    }
   ],
   "source": [
    "x = [5, 4, 3]\n",
    "y = [x, x, x, x]\n",
    "print(y)"
   ]
  },
  {
   "cell_type": "code",
   "execution_count": 40,
   "metadata": {},
   "outputs": [
    {
     "name": "stdout",
     "output_type": "stream",
     "text": [
      "[[99, 4, 3], [99, 4, 3], [99, 4, 3], [99, 4, 3]]\n"
     ]
    }
   ],
   "source": [
    "x[0] = 99\n",
    "print(y)"
   ]
  },
  {
   "cell_type": "markdown",
   "metadata": {},
   "source": [
    "For further understanding of variable referencing, try examples of live code at http://pythontutor.com/visualize.html#mode=edit\n",
    "Select the pulldown option \"render all objects on the heap (Python/Java)\n",
    "\n",
    "(Caution results at that simulator may not be accurate, for example:"
   ]
  },
  {
   "cell_type": "markdown",
   "metadata": {},
   "source": [
    "try examples of live code at http://pythontutor.com/visualize.html#mode=edit\n",
    "Select the pulldown option \"render all objects on the heap (Python/Java)\n",
    "\n",
    "(Caution results at that simulator may not be accurate, for example:"
   ]
  },
  {
   "cell_type": "code",
   "execution_count": 42,
   "metadata": {},
   "outputs": [
    {
     "data": {
      "text/plain": [
       "True"
      ]
     },
     "execution_count": 42,
     "metadata": {},
     "output_type": "execute_result"
    }
   ],
   "source": [
    "x = 5\n",
    "y = 5\n",
    "x is y"
   ]
  },
  {
   "cell_type": "code",
   "execution_count": 43,
   "metadata": {},
   "outputs": [
    {
     "data": {
      "text/plain": [
       "False"
      ]
     },
     "execution_count": 43,
     "metadata": {},
     "output_type": "execute_result"
    }
   ],
   "source": [
    "x = 257\n",
    "y = 257\n",
    "x is y"
   ]
  },
  {
   "cell_type": "markdown",
   "metadata": {},
   "source": [
    "The python tutor linked above will show x and y pointing to same object for both cases above where we see here that clearly isn't the case. It would actually be more accurate generally if that simulator pointed to a new object every time the assignment operator is used with a immutable object. The times this doesn't occur is a subtle detail on how CPython caches commonly used literals (the integers from -5 to 256) and interns certain strings that are likely to be reused, and isn't a fundamental feature of the language or its behaviour.\n",
    "\n",
    "This is a detail that isn't necessarily important to ever know about, since it doesn't change the high level behavior that immutable objects can't be changed, but when observing memory id's to further understand behaviour, this may otherwise appear inconsistent.\n",
    "\n",
    "**Most Importantly- the following is the key take-away for working with Mutable and Immutable objects:**\n",
    "___\n",
    "\n",
    "If the two names point to the same immutable object, changing one won't change the other (new object is created).\n",
    "\n",
    "If the two names point to the same mutable object, changing one using a mutable method will change the other (pay attention to this using \"is\" after using methods you are less familiar with and you'll get used to it).\n",
    "\n",
    "This applies regardless of any caching or interning going on under the hood.\n",
    "\n",
    "___\n",
    "\n",
    "For those with further interest in the caching of commonly used literals to optimize the interpreter (again there is likely no need to ever know this!), see the back-up slide \"Object Instantiation\" and these links:\n",
    "\n",
    "https://medium.com/@bdov_/https-medium-com-bdov-python-objects-part-iii-string-interning-625d3c7319de\n",
    "\n",
    "https://en.wikipedia.org/wiki/String_interning\n",
    "\n",
    "https://rushter.com/blog/python-strings-and-memory/\n",
    "\n"
   ]
  }
 ],
 "metadata": {
  "hide_input": false,
  "kernelspec": {
   "display_name": "Python 3",
   "language": "python",
   "name": "python3"
  },
  "language_info": {
   "codemirror_mode": {
    "name": "ipython",
    "version": 3
   },
   "file_extension": ".py",
   "mimetype": "text/x-python",
   "name": "python",
   "nbconvert_exporter": "python",
   "pygments_lexer": "ipython3",
   "version": "3.8.3"
  },
  "toc": {
   "base_numbering": 1,
   "nav_menu": {},
   "number_sections": true,
   "sideBar": true,
   "skip_h1_title": true,
   "title_cell": "Table of Contents",
   "title_sidebar": "Contents",
   "toc_cell": false,
   "toc_position": {
    "height": "1061px",
    "left": "80px",
    "top": "110px",
    "width": "367px"
   },
   "toc_section_display": true,
   "toc_window_display": true
  },
  "varInspector": {
   "cols": {
    "lenName": 16,
    "lenType": 16,
    "lenVar": 40
   },
   "kernels_config": {
    "python": {
     "delete_cmd_postfix": "",
     "delete_cmd_prefix": "del ",
     "library": "var_list.py",
     "varRefreshCmd": "print(var_dic_list())"
    },
    "r": {
     "delete_cmd_postfix": ") ",
     "delete_cmd_prefix": "rm(",
     "library": "var_list.r",
     "varRefreshCmd": "cat(var_dic_list()) "
    }
   },
   "oldHeight": 516,
   "position": {
    "height": "538px",
    "left": "1582px",
    "right": "20px",
    "top": "235px",
    "width": "350px"
   },
   "types_to_exclude": [
    "module",
    "function",
    "builtin_function_or_method",
    "instance",
    "_Feature"
   ],
   "varInspector_section_display": "block",
   "window_display": false
  }
 },
 "nbformat": 4,
 "nbformat_minor": 2
}
