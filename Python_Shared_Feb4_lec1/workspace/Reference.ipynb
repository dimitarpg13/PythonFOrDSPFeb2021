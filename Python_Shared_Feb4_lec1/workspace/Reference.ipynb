{
 "cells": [
  {
   "cell_type": "markdown",
   "metadata": {},
   "source": [
    "<img src=\"img/logo.png\" align=\"left\" width=\"200\">\n",
    "<h1 style=\"text-align: center;\"> Applications for Digital Design and Signal Processing </h1>\n",
    "<h1 style=\"text-align: center;\"> REFERENCE NOTEBOOK </h1>"
   ]
  },
  {
   "cell_type": "markdown",
   "metadata": {},
   "source": [
    "Copyright (C) 2018-2020 C. Daniel Boschen\n",
    "\n",
    "THE CONTENTS OF THIS JUPYTER NOTEBOOK ARE PROVIDED BY THE AUTHOR AS IS AND ANY EXPRESS OR IMPLIED WARRANTIES, INCLUDING, BUT NOT LIMITED TO, THE IMPLIED WARRANTIES OF MERCHANTABILITY AND FITNESS FOR A PARTICULAR PURPOSE ARE DISCLAIMED. IN NO EVENT SHALL THE AUTHOR BE LIABLE FOR ANY DIRECT, INDIRECT, INCIDENTAL, SPECIAL, EXEMPLARY, OR CONSEQUENTIAL DAMAGES (INCLUDING, BUT NOT LIMITED TO, PROCUREMENT OF SUBSTITUTE GOODS OR SERVICES; LOSS OF USE, DATA, OR PROFITS; OR BUSINESS INTERRUPTION) HOWEVER CAUSED AND ON ANY THEORY OF LIABILITY, WHETHER IN CONTRACT, STRICT LIABILITY, OR TORT (INCLUDING NEGLIGENCE OR OTHERWISE) ARISING IN ANY WAY OUT OF THE USE OF THIS DOCUMENT AND SOFTWARE, EVEN IF ADVISED OF THE POSSIBILITY OF SUCH DAMAGE."
   ]
  },
  {
   "cell_type": "markdown",
   "metadata": {},
   "source": [
    "## Overview\n",
    "\n",
    "This notebook captures items of interest for future reference, some of which may be duplicated within the individual notebooks specific to class sessions, so that they can be found all in one place. This is a relatively new feature of the Python course, so this notebook will likely evolve over the duration of the course (Don't edit this one until the conclusion of the course and update your local copy from the shared folder frequently).\n"
   ]
  },
  {
   "cell_type": "markdown",
   "metadata": {},
   "source": [
    "## Using Jupyter"
   ]
  },
  {
   "cell_type": "markdown",
   "metadata": {},
   "source": [
    "### Markdown\n",
    "\n",
    "\n",
    "Markdown is not a replacment for HTML but allows for writing formatted text with an emphasis on being easy-to-read and easy-to-write. \n",
    "\n",
    "\n",
    "- [x] complete item\n",
    "- [ ] open item\n",
    "\n",
    "____\n",
    "\n",
    "\n",
    "#### Headings\n",
    "\n",
    "H1 : #\n",
    "H2 : ##\n",
    "H3 : ###\n",
    "H4 : ####\n",
    "\n",
    "To suppress numbering for H1 Headings (to use H1) for title, click on the gear icon when Table of Contents is visible. \n",
    "\n",
    "Select \"Leave h1 items out of ToC\"\n",
    "\n",
    "\n",
    "___\n",
    "\n",
    "#### Emphasis\n",
    "\n",
    "sentence with *Italic text*\n",
    "\n",
    "sentence with **bold text**\n",
    "\n",
    "sentence with ***bold and italic text***\n",
    "\n",
    "___\n",
    "\n",
    "#### Tables\n",
    "\n",
    "| Col1 | Col2 | Col3 | \n",
    "| ---| ---| --- |\n",
    "|  a  |  b   |   e |\n",
    "|  c  |  d   |   f |\n",
    "\n",
    "\n",
    "___\n",
    "\n",
    "#### Equations with MathJax\n",
    "\n",
    "$$\\int_0^{\\infty}(x^2 + 5) dx  $$\n",
    "\n",
    "[MathJax Tutorial](https://math.meta.stackexchange.com/questions/5020/mathjax-basic-tutorial-and-quick-reference)\n",
    "\n",
    "Returns symbol from online sketch: [Detextify](http://detexify.kirelabs.org/classify.html)\n",
    "\n",
    "#### Equation numbering:\n",
    "\n",
    "\\begin{equation}\n",
    "\\sum_{t=0}^{\\infty} \\frac{1}{t+5}\n",
    "\\end{equation}\n",
    "\n",
    "\\begin{equation}\n",
    "x + y = 12\n",
    "\\end{equation}\n",
    "\n",
    "\n",
    "#### Links\n",
    "\n",
    "\n",
    "Link to other heading in document:\n",
    "\n",
    "Include the following in the markdown for the linked area, replacing Title as desired\n",
    "    \n",
    "    <a id='title'></a>\n",
    "\n",
    "Link in another in another markdown block using\n",
    "\n",
    "    For more details, see [linked description](#title).\n",
    "\n",
    "\n",
    "\n",
    "direct link:\n",
    "https://daringfireball.net/projects/markdown/ \n",
    "\n",
    "\n",
    "embedded link:\n",
    "[Markdown Specification](https://daringfireball.net/projects/markdown/)\n",
    "\n",
    "embedded link with mouseover:\n",
    "[Markdown Specification](https://daringfireball.net/projects/markdown/ \"Markdown Specification\")\n",
    "\n",
    "\n",
    "[Markdown Cheat Sheet](https://github.com/adam-p/markdown-here/wiki/Markdown-Cheatsheet)\n",
    "\n",
    "#### Images in Markdown Block\n",
    "\n",
    "Images in Markdown block\n",
    "![cool](img/cool1.png) \n",
    "\n",
    "<img src=\"img/cool1.png\" align=\"left\" width=\"200\">\n",
    "\n",
    "<img src=\"img/cool1.png\" align=\"right\" width=\"200\">\n",
    "\n",
    "\n"
   ]
  },
  {
   "attachments": {
    "image.png": {
     "image/png": "[encoded data removed]"
    }
   },
   "cell_type": "markdown",
   "metadata": {},
   "source": [
    "Images can be pasted from clipboard directly (using CTRL-V) and will be embedded in notebook file (as opposed to in a separate directory. After pressing CTRL-V in a markdown cell with an image in the clipboard the following will appear in the markdown cell:\n",
    "\n",
    "![image.png](attachment:image.png)"
   ]
  },
  {
   "cell_type": "markdown",
   "metadata": {},
   "source": [
    "### Magics\n",
    "\n",
    "\n",
    "line magic: %\n",
    "\n",
    "cell magic: %%\n",
    "\n",
    "\n",
    "\"magics\" are a kernel specific feature, and therefore provided by IPython, which is the Python Kernel for Jupyter Notebooks. \n",
    "They use a character not used by the core language (in this case \"%\" or \"%%\" to provide expanded features in the notebook environment. \n",
    "\n",
    "Example magics detailed below. For a comprehensive list of all magics, see https://ipython.readthedocs.io/en/stable/interactive/magics.html\n",
    "\n",
    "and \n",
    "\n",
    "https://ipython.readthedocs.io/en/stable/interactive/magics.html#line-magics\n"
   ]
  },
  {
   "cell_type": "markdown",
   "metadata": {},
   "source": [
    "#### Documentation on magics"
   ]
  },
  {
   "cell_type": "code",
   "execution_count": 1,
   "metadata": {},
   "outputs": [
    {
     "data": {
      "application/json": {
       "cell": {
        "!": "OSMagics",
        "HTML": "Other",
        "SVG": "Other",
        "bash": "Other",
        "capture": "ExecutionMagics",
        "cmd": "Other",
        "debug": "ExecutionMagics",
        "file": "Other",
        "html": "DisplayMagics",
        "javascript": "DisplayMagics",
        "js": "DisplayMagics",
        "latex": "DisplayMagics",
        "markdown": "DisplayMagics",
        "perl": "Other",
        "prun": "ExecutionMagics",
        "pypy": "Other",
        "python": "Other",
        "python2": "Other",
        "python3": "Other",
        "ruby": "Other",
        "script": "ScriptMagics",
        "sh": "Other",
        "svg": "DisplayMagics",
        "sx": "OSMagics",
        "system": "OSMagics",
        "time": "ExecutionMagics",
        "timeit": "ExecutionMagics",
        "writefile": "OSMagics"
       },
       "line": {
        "alias": "OSMagics",
        "alias_magic": "BasicMagics",
        "autoawait": "AsyncMagics",
        "autocall": "AutoMagics",
        "automagic": "AutoMagics",
        "autosave": "KernelMagics",
        "bookmark": "OSMagics",
        "cd": "OSMagics",
        "clear": "KernelMagics",
        "cls": "KernelMagics",
        "colors": "BasicMagics",
        "conda": "PackagingMagics",
        "config": "ConfigMagics",
        "connect_info": "KernelMagics",
        "copy": "Other",
        "ddir": "Other",
        "debug": "ExecutionMagics",
        "dhist": "OSMagics",
        "dirs": "OSMagics",
        "doctest_mode": "BasicMagics",
        "echo": "Other",
        "ed": "Other",
        "edit": "KernelMagics",
        "env": "OSMagics",
        "gui": "BasicMagics",
        "hist": "Other",
        "history": "HistoryMagics",
        "killbgscripts": "ScriptMagics",
        "ldir": "Other",
        "less": "KernelMagics",
        "load": "CodeMagics",
        "load_ext": "ExtensionMagics",
        "loadpy": "CodeMagics",
        "logoff": "LoggingMagics",
        "logon": "LoggingMagics",
        "logstart": "LoggingMagics",
        "logstate": "LoggingMagics",
        "logstop": "LoggingMagics",
        "ls": "Other",
        "lsmagic": "BasicMagics",
        "macro": "ExecutionMagics",
        "magic": "BasicMagics",
        "matplotlib": "PylabMagics",
        "mkdir": "Other",
        "more": "KernelMagics",
        "notebook": "BasicMagics",
        "page": "BasicMagics",
        "pastebin": "CodeMagics",
        "pdb": "ExecutionMagics",
        "pdef": "NamespaceMagics",
        "pdoc": "NamespaceMagics",
        "pfile": "NamespaceMagics",
        "pinfo": "NamespaceMagics",
        "pinfo2": "NamespaceMagics",
        "pip": "PackagingMagics",
        "popd": "OSMagics",
        "pprint": "BasicMagics",
        "precision": "BasicMagics",
        "prun": "ExecutionMagics",
        "psearch": "NamespaceMagics",
        "psource": "NamespaceMagics",
        "pushd": "OSMagics",
        "pwd": "OSMagics",
        "pycat": "OSMagics",
        "pylab": "PylabMagics",
        "qtconsole": "KernelMagics",
        "quickref": "BasicMagics",
        "recall": "HistoryMagics",
        "rehashx": "OSMagics",
        "reload_ext": "ExtensionMagics",
        "ren": "Other",
        "rep": "Other",
        "rerun": "HistoryMagics",
        "reset": "NamespaceMagics",
        "reset_selective": "NamespaceMagics",
        "rmdir": "Other",
        "run": "ExecutionMagics",
        "save": "CodeMagics",
        "sc": "OSMagics",
        "set_env": "OSMagics",
        "store": "StoreMagics",
        "sx": "OSMagics",
        "system": "OSMagics",
        "tb": "ExecutionMagics",
        "time": "ExecutionMagics",
        "timeit": "ExecutionMagics",
        "unalias": "OSMagics",
        "unload_ext": "ExtensionMagics",
        "who": "NamespaceMagics",
        "who_ls": "NamespaceMagics",
        "whos": "NamespaceMagics",
        "xdel": "NamespaceMagics",
        "xmode": "BasicMagics"
       }
      },
      "text/plain": [
       "Available line magics:\n",
       "%alias  %alias_magic  %autoawait  %autocall  %automagic  %autosave  %bookmark  %cd  %clear  %cls  %colors  %conda  %config  %connect_info  %copy  %ddir  %debug  %dhist  %dirs  %doctest_mode  %echo  %ed  %edit  %env  %gui  %hist  %history  %killbgscripts  %ldir  %less  %load  %load_ext  %loadpy  %logoff  %logon  %logstart  %logstate  %logstop  %ls  %lsmagic  %macro  %magic  %matplotlib  %mkdir  %more  %notebook  %page  %pastebin  %pdb  %pdef  %pdoc  %pfile  %pinfo  %pinfo2  %pip  %popd  %pprint  %precision  %prun  %psearch  %psource  %pushd  %pwd  %pycat  %pylab  %qtconsole  %quickref  %recall  %rehashx  %reload_ext  %ren  %rep  %rerun  %reset  %reset_selective  %rmdir  %run  %save  %sc  %set_env  %store  %sx  %system  %tb  %time  %timeit  %unalias  %unload_ext  %who  %who_ls  %whos  %xdel  %xmode\n",
       "\n",
       "Available cell magics:\n",
       "%%!  %%HTML  %%SVG  %%bash  %%capture  %%cmd  %%debug  %%file  %%html  %%javascript  %%js  %%latex  %%markdown  %%perl  %%prun  %%pypy  %%python  %%python2  %%python3  %%ruby  %%script  %%sh  %%svg  %%sx  %%system  %%time  %%timeit  %%writefile\n",
       "\n",
       "Automagic is ON, % prefix IS NOT needed for line magics."
      ]
     },
     "execution_count": 1,
     "metadata": {},
     "output_type": "execute_result"
    }
   ],
   "source": [
    "# This will open a documentation pane deetailing IPython magics. Click the X in upper right hand corner of pane to close.\n",
    "%magic\n",
    "\n",
    "# This will output a list of the available line (%magic) and cell (%%magic) magics in the currently installed IPython version.\n",
    "%lsmagic\n",
    "\n",
    "\n",
    "\n"
   ]
  },
  {
   "cell_type": "markdown",
   "metadata": {},
   "source": [
    "#### List all interactive variables used"
   ]
  },
  {
   "cell_type": "code",
   "execution_count": 1,
   "metadata": {},
   "outputs": [
    {
     "name": "stdout",
     "output_type": "stream",
     "text": [
      "NamespaceMagics\t get_ipython\t getsizeof\t json\t np\t var_dic_list\t \n"
     ]
    }
   ],
   "source": [
    "%who"
   ]
  },
  {
   "cell_type": "markdown",
   "metadata": {},
   "source": [
    "#### See memory utilization"
   ]
  },
  {
   "cell_type": "code",
   "execution_count": 2,
   "metadata": {},
   "outputs": [
    {
     "name": "stdout",
     "output_type": "stream",
     "text": [
      "Variable          Type                          Data/Info\n",
      "---------------------------------------------------------\n",
      "NamespaceMagics   MetaHasTraits                 <class 'IPython.core.magi<...>mespace.NamespaceMagics'>\n",
      "get_ipython       function                      <function get_ipython at 0x000002767DABD0D0>\n",
      "getsizeof         builtin_function_or_method    <built-in function getsizeof>\n",
      "json              module                        <module 'json' from 'C:\\\\<...>\\lib\\\\json\\\\__init__.py'>\n",
      "np                module                        <module 'numpy' from 'C:\\<...>ges\\\\numpy\\\\__init__.py'>\n",
      "var_dic_list      function                      <function var_dic_list at 0x0000027600424700>\n"
     ]
    }
   ],
   "source": [
    "%whos"
   ]
  },
  {
   "cell_type": "markdown",
   "metadata": {},
   "source": [
    "#### HTML block"
   ]
  },
  {
   "cell_type": "code",
   "execution_count": 4,
   "metadata": {},
   "outputs": [
    {
     "data": {
      "text/html": [
       "<!--image k (%% must be first entry) -->\n",
       "<img src = \"img/donna-godsell-1106226-unsplash.jpg\", width = 400> \n",
       "Photo by Donna Godsell on Unsplash\n",
       "\n",
       "\n",
       "<!-- to left justify all tables in document -->\n",
       "<style> table {display: block} </style>\n"
      ],
      "text/plain": [
       "<IPython.core.display.HTML object>"
      ]
     },
     "metadata": {},
     "output_type": "display_data"
    }
   ],
   "source": [
    "%%html \n",
    "<!--image k (%% must be first entry) -->\n",
    "<img src = \"img/donna-godsell-1106226-unsplash.jpg\", width = 400> \n",
    "Photo by Donna Godsell on Unsplash\n",
    "\n",
    "\n",
    "<!-- to left justify all tables in document -->\n",
    "<style> table {display: block} </style>"
   ]
  },
  {
   "cell_type": "markdown",
   "metadata": {},
   "source": [
    "#### Run external script"
   ]
  },
  {
   "cell_type": "code",
   "execution_count": 4,
   "metadata": {},
   "outputs": [
    {
     "name": "stdout",
     "output_type": "stream",
     "text": [
      "My script did run!\n",
      "I added the variables x and y to be 12\n",
      "x = 5\n",
      "y = 7\n"
     ]
    }
   ],
   "source": [
    "%run \"./session1/src/my_script.py\"\n",
    "print(f\"x = {x}\")\n",
    "print(f\"y = {y}\")"
   ]
  },
  {
   "cell_type": "code",
   "execution_count": 5,
   "metadata": {},
   "outputs": [
    {
     "name": "stdout",
     "output_type": "stream",
     "text": [
      "My script did run!\n",
      "I added the variables x and y to be 12\n",
      "x = 5\n",
      "y = 7\n"
     ]
    }
   ],
   "source": [
    "# similar but allows for namespacing:\n",
    "import session1.src.my_script as tools\n",
    "print(f\"x = {tools.x}\")\n",
    "print(f\"y = {tools.y}\")\n",
    "\n"
   ]
  },
  {
   "cell_type": "markdown",
   "metadata": {},
   "source": [
    "#### Execute shell command\n",
    "\n",
    "Replace dir with ls if on a Linux/MacOS platform"
   ]
  },
  {
   "cell_type": "code",
   "execution_count": 8,
   "metadata": {},
   "outputs": [
    {
     "name": "stdout",
     "output_type": "stream",
     "text": [
      "Microsoft Windows [Version 10.0.18363.1316]\r\n",
      "(c) 2019 Microsoft Corporation. All rights reserved.\r\n",
      "\r\n",
      "(base) F:\\User Documents\\Dan\\Dropbox\\Dropbox\\Python\\workspace\\IEEE_Python2021>dir\n",
      " Volume in drive F is Data\r\n",
      " Volume Serial Number is 20B4-8724\r\n",
      "\r\n",
      " Directory of F:\\User Documents\\Dan\\Dropbox\\Dropbox\\Python\\workspace\\IEEE_Python2021\r\n",
      "\r\n",
      "01/23/2021  09:12 AM    <DIR>          .\r\n",
      "01/23/2021  09:12 AM    <DIR>          ..\r\n",
      "01/23/2021  09:00 AM    <DIR>          .ipynb_checkpoints\r\n",
      "01/22/2021  08:54 AM    <DIR>          archive\r\n",
      "01/22/2021  08:54 AM    <DIR>          data\r\n",
      "01/22/2021  08:54 AM    <DIR>          img\r\n",
      "01/22/2021  08:54 AM    <DIR>          inprocess\r\n",
      "10/08/2020  08:31 AM             5,124 Other Things to Include.ipynb\r\n",
      "01/22/2021  02:45 PM               452 PYTHONSTARTUP.py\r\n",
      "01/23/2021  09:12 AM           113,626 Reference.ipynb\r\n",
      "01/22/2021  08:54 AM    <DIR>          session1\r\n",
      "01/22/2021  08:55 AM    <DIR>          session2\r\n",
      "01/22/2021  08:55 AM    <DIR>          session3\r\n",
      "01/22/2021  08:55 AM    <DIR>          session4\r\n",
      "01/22/2021  08:55 AM    <DIR>          session5\r\n",
      "01/22/2021  08:55 AM    <DIR>          session6\r\n",
      "01/22/2021  08:55 AM    <DIR>          session7\r\n",
      "01/22/2021  08:55 AM    <DIR>          session8\r\n",
      "01/22/2021  08:55 AM    <DIR>          styles\r\n",
      "01/22/2021  02:45 PM               452 tmpnq1rxe2s\r\n",
      "01/22/2021  02:42 PM               451 tmpotz5ni08\r\n",
      "01/22/2021  08:55 AM    <DIR>          tools\r\n",
      "               5 File(s)        120,105 bytes\r\n",
      "              17 Dir(s)  862,690,054,144 bytes free\r\n",
      "\r\n",
      "(base) F:\\User Documents\\Dan\\Dropbox\\Dropbox\\Python\\workspace\\IEEE_Python2021>\n",
      "(base) F:\\User Documents\\Dan\\Dropbox\\Dropbox\\Python\\workspace\\IEEE_Python2021>"
     ]
    }
   ],
   "source": [
    "%%cmd\n",
    "dir\n",
    "\n"
   ]
  },
  {
   "cell_type": "markdown",
   "metadata": {},
   "source": [
    "#### Profiling"
   ]
  },
  {
   "cell_type": "code",
   "execution_count": 9,
   "metadata": {},
   "outputs": [
    {
     "name": "stdout",
     "output_type": "stream",
     "text": [
      "13.6 µs ± 289 ns per loop (mean ± std. dev. of 7 runs, 100000 loops each)\n"
     ]
    }
   ],
   "source": [
    "# profilng a code line with line magic (%)\n",
    "%timeit [x**2 for x in range(50)]"
   ]
  },
  {
   "cell_type": "code",
   "execution_count": 10,
   "metadata": {},
   "outputs": [
    {
     "name": "stdout",
     "output_type": "stream",
     "text": [
      "42.9 ns ± 0.626 ns per loop (mean ± std. dev. of 7 runs, 10000000 loops each)\n"
     ]
    }
   ],
   "source": [
    "%%timeit\n",
    "# profiling a code cell with code cell magic (%%)\n",
    "\n",
    "x = 5\n",
    "y = 8\n",
    "z = 5 + 8\n"
   ]
  },
  {
   "cell_type": "markdown",
   "metadata": {},
   "source": [
    "** Magic Commands for profiling **\n",
    "\n",
    "Useful summary: https://jakevdp.github.io/PythonDataScienceHandbook/01.07-timing-and-profiling.html\n",
    "\n",
    "% single line\n",
    "%% entire cell\n",
    "\n",
    "\n",
    "\n",
    "magic  | description\n",
    "--------- | ----------\n",
    "%lprun:   | line-by-line profiler  <-- need to install line_profiler\n",
    "%memit:   | memory use of single statement  <--- need to install memory_profiler \n",
    "%mprun:| line-by-line memory profiler <--- need to install memory_profiler\n",
    "%prun:| profiler (% line and %% cell)\n",
    "%time:|  execution time of a single statement\n",
    "%timeit:|  loops over statement multiple times for statistical execution time (% line and %% cell)\n",
    "\n",
    "\n",
    "To install line_profiler:\n",
    "\n",
    "from console: conda install line_profiler\n",
    "then once installed in Jupyter type: %load_ext line_profiler to load the ipython extension.\n",
    "\n",
    "To install memory_profiler:\n",
    "\n",
    "from console: conda install memory_profiler\n",
    "then once installed in Jupyter type: %load_ext memory_profiler to load the ipython extension.\n"
   ]
  },
  {
   "cell_type": "markdown",
   "metadata": {},
   "source": [
    "#### Ipython Qt Console\n",
    "\n",
    "Use magic %qtconsole to launch an Ipython console window that is connected to the same Kernel (same active namespace) as Jupyter Notebook.\n",
    "\n",
    "The Qt Console can use any Jupyter Kernel and is a lightweight application that adds inline figures and multi-line editing with syntax highlighting and lots more.\n",
    "\n",
    "For more info on the Qt Console see https://qtconsole.readthedocs.io/en/stable/\n"
   ]
  },
  {
   "cell_type": "code",
   "execution_count": 10,
   "metadata": {},
   "outputs": [],
   "source": [
    "# Useful to get an additional Ipython console connected to the Jupyter Kernel:\n",
    "\n",
    "%qtconsole\n",
    "\n",
    "# If launched, plots will not show up in the notebook when exectuted, simply close qtconsole and then plot."
   ]
  },
  {
   "cell_type": "markdown",
   "metadata": {},
   "source": [
    "#### Reloading a Module\n",
    "<a id='Reload'>  </a>\n",
    "\n",
    "\n",
    "Once a module has been imported, a subsequent execution of import for that module will be ignored. However the following magic will force modules to always be reloaded (useful for example when debugging a module that is being changed).\n",
    "\n",
    "The reload extension is first loaded with `%load_ext autoreload`\n",
    "\n",
    "And then reload magics can be entered: \n",
    "\n",
    "`%load_ext autoreload`\n",
    "\n",
    "`%autoreload`     Reloads all modules automatically now\n",
    "\n",
    "`%autoreload 0`   Disable automatic reloading\n",
    "\n",
    "\n",
    "\n",
    "In general to use:\n",
    "\n",
    "    %autoreload    # reload all modules automatically now\n",
    "    %autoreload 0  # disable\n",
    "    %autoreload 1  # reload all modules imported by %aimport\n",
    "    %autoreload 2  # reload all modules except excluded by %%aimport\n",
    "    %aimport       # review excluded files\n",
    "    %aimport foo   # import module foo and mark it to be autoreloaded for     %autoreload 1\n",
    "    %aimport -foo  # mark module foo to not be autoreloaded\n",
    "    \n",
    "\n",
    "See https://ipython.org/ipython-doc/stable/config/extensions/autoreload.html\n"
   ]
  },
  {
   "cell_type": "markdown",
   "metadata": {},
   "source": [
    "### Other Jupyter Tips and Tricks\n",
    "\n",
    "\n",
    "For more tips and tricks, see\n",
    "\n",
    "https://www.dataquest.io/blog/jupyter-notebook-tips-tricks-shortcuts/\n",
    "\n",
    "https://www.quora.com/What-are-your-favorite-tricks-for-IPython-Notebook\n"
   ]
  },
  {
   "cell_type": "markdown",
   "metadata": {},
   "source": [
    "#### Execute Shell Commands"
   ]
  },
  {
   "cell_type": "code",
   "execution_count": 12,
   "metadata": {},
   "outputs": [
    {
     "name": "stdout",
     "output_type": "stream",
     "text": [
      " Volume in drive F is Data\n",
      " Volume Serial Number is 20B4-8724\n",
      "\n",
      " Directory of F:\\User Documents\\Dan\\Dropbox\\Dropbox\\Python\\workspace\\IEEE_Python2021\n",
      "\n",
      "01/23/2021  09:12 AM    <DIR>          .\n",
      "01/23/2021  09:12 AM    <DIR>          ..\n",
      "01/23/2021  09:00 AM    <DIR>          .ipynb_checkpoints\n",
      "01/22/2021  08:54 AM    <DIR>          archive\n",
      "01/22/2021  08:54 AM    <DIR>          data\n",
      "01/22/2021  08:54 AM    <DIR>          img\n",
      "01/22/2021  08:54 AM    <DIR>          inprocess\n",
      "10/08/2020  08:31 AM             5,124 Other Things to Include.ipynb\n",
      "01/22/2021  02:45 PM               452 PYTHONSTARTUP.py\n",
      "01/23/2021  09:12 AM           113,626 Reference.ipynb\n",
      "01/22/2021  08:54 AM    <DIR>          session1\n",
      "01/22/2021  08:55 AM    <DIR>          session2\n",
      "01/22/2021  08:55 AM    <DIR>          session3\n",
      "01/22/2021  08:55 AM    <DIR>          session4\n",
      "01/22/2021  08:55 AM    <DIR>          session5\n",
      "01/22/2021  08:55 AM    <DIR>          session6\n",
      "01/22/2021  08:55 AM    <DIR>          session7\n",
      "01/22/2021  08:55 AM    <DIR>          session8\n",
      "01/22/2021  08:55 AM    <DIR>          styles\n",
      "01/22/2021  02:45 PM               452 tmpnq1rxe2s\n",
      "01/22/2021  02:42 PM               451 tmpotz5ni08\n",
      "01/22/2021  08:55 AM    <DIR>          tools\n",
      "               5 File(s)        120,105 bytes\n",
      "              17 Dir(s)  862,690,054,144 bytes free\n"
     ]
    }
   ],
   "source": [
    "# use ! to access execute shell commands\n",
    "# alternative the magic %%cmd \n",
    "\n",
    "!dir"
   ]
  },
  {
   "cell_type": "markdown",
   "metadata": {},
   "source": [
    "#### Getting Help\n",
    "\n",
    "Prepend object with ? to open the Docstring for that object\n",
    "\n",
    "(Also see shift-tab in edit shortcuts below)"
   ]
  },
  {
   "cell_type": "code",
   "execution_count": 13,
   "metadata": {},
   "outputs": [],
   "source": [
    "?dir"
   ]
  },
  {
   "cell_type": "markdown",
   "metadata": {},
   "source": [
    "#### Edit Mode\n",
    "(Green Stripe)\n",
    "\n",
    "Click on cell to enter Edit Mode.\n",
    "\n",
    "**Favorite edit shorcuts**\n",
    "\n",
    "Shift enter: execute cell\n",
    "\n",
    "Shift tab: reveal the Docstring for an object in a code cell (code must be executed)\n",
    "\n",
    "Shift tab tab: Open docstring window completely\n",
    "\n",
    "ESC O: Toggle cell output\n",
    "\n",
    "Select Multiple Cells: Shift Down or Shift Up\n",
    "\n",
    "Control Shift -: split cell\n",
    "\n",
    "Shift M: Merge multiple cells (once selected)\n",
    "\n"
   ]
  },
  {
   "cell_type": "code",
   "execution_count": 14,
   "metadata": {},
   "outputs": [
    {
     "name": "stdout",
     "output_type": "stream",
     "text": [
      "17\n"
     ]
    }
   ],
   "source": [
    "x= 5\n",
    "y = 12\n",
    "print(x+y)"
   ]
  },
  {
   "cell_type": "markdown",
   "metadata": {},
   "source": [
    "#### Command Mode\n",
    "(Blue Stripe) \n",
    "\n",
    "press ESC to enter command mode. Once in command mode you can navigate\n",
    "through notebook using arrow keys. (rather than navigating within a cell)\n",
    "and enter useful command shortcuts:\n",
    "\n",
    "**Favorite Command shortcuts**\n",
    "\n",
    "A: insert cell above current cell\n",
    "\n",
    "B: insert cell below current cell\n",
    "\n",
    "M: change cell to Markdown\n",
    "\n",
    "Y: change cell to code\n",
    "\n",
    "DD: delete selected cells\n",
    "\n",
    "X: cut selected cells\n",
    "\n",
    "1: set line to Heading 1\n",
    "\n",
    "2: set line to Heading 2 \n",
    "\n",
    "\n",
    "(For more: See Help Menu Item and select \"Keyboard Shortcuts\")\n",
    "\n",
    "While in Command mode, press enter to go back to Edit Mode "
   ]
  },
  {
   "cell_type": "markdown",
   "metadata": {},
   "source": [
    "#### Multi Cursor Support\n",
    "\n",
    "Use control + mouse click to get multi-cursors in markdown or code cells!\n",
    "\n",
    "A \n",
    "\n",
    "B \n",
    "\n",
    "C \n",
    "\n",
    "D\n",
    "\n",
    "E "
   ]
  },
  {
   "cell_type": "markdown",
   "metadata": {},
   "source": []
  },
  {
   "cell_type": "markdown",
   "metadata": {},
   "source": [
    "#### Copying Cells from One Notebook to Another\n",
    "\n",
    "Yes this is possible! Here's how:\n",
    "\n",
    "Click on starting cell in source Notebook. Ensure cell is in Command Mode (blue bar on left). If not, press escape to toggle cell to commmand mode.\n",
    "\n",
    "Shift-Arrow to select group of cells and then use Control-C (Cmd-C for macOS) to copy (must do this, not Edit - Copy).\n",
    "\n",
    "In destination notebook, click on a destination cell. **Ensure destination cell is in command mode.** Press Control-V (Cmd-V for macOS) The contents will be pasted as cells above this cell, without disturbing that cells contents. If the paste is done while in edit mode, the group of cells copied will get pasted in as one cell in the cell selected rather than the group of cells above the cell selected."
   ]
  },
  {
   "cell_type": "markdown",
   "metadata": {},
   "source": [
    "#### Custom CSS Styling"
   ]
  },
  {
   "cell_type": "markdown",
   "metadata": {},
   "source": [
    "<div class=warn>\n",
    "    <b>Look at this:</b> Warning message here! \n",
    "</div>"
   ]
  },
  {
   "cell_type": "code",
   "execution_count": 15,
   "metadata": {},
   "outputs": [
    {
     "data": {
      "text/html": [
       "<style>\n",
       "div.warn {    \n",
       "    background-color: #fcf2f2;\n",
       "    border-color: #dFb5b4;\n",
       "    border-left: 5px solid #dfb5b4;\n",
       "    padding: 0.5em;\n",
       "    }\n",
       "</style>"
      ],
      "text/plain": [
       "<IPython.core.display.HTML object>"
      ]
     },
     "execution_count": 15,
     "metadata": {},
     "output_type": "execute_result"
    }
   ],
   "source": [
    "# custom styling for notebook (for those experienced with CSS)\n",
    "\n",
    "# once a cell is run, it is available in the Jupyter Kernel anywhere in the notebook\n",
    "# in this case, the CSS applied will update cells already run that have this applied\n",
    "# (for example the \"warning\" message above)\n",
    "\n",
    "# more info see https://stackoverflow.com/questions/18024769/adding-custom-styled-paragraphs-in-markdown-cells\n",
    "\n",
    "from IPython.core.display import HTML\n",
    "def css_styling():\n",
    "    styles = open(\"./styles/custom.css\", \"r\").read()\n",
    "    return HTML(styles)\n",
    "css_styling()"
   ]
  },
  {
   "cell_type": "markdown",
   "metadata": {},
   "source": [
    "#### Images from Code Block\n",
    "\n"
   ]
  },
  {
   "cell_type": "code",
   "execution_count": 16,
   "metadata": {},
   "outputs": [
    {
     "data": {
      "image/png": "[encoded data removed]",
      "text/plain": [
       "<IPython.core.display.Image object>"
      ]
     },
     "metadata": {},
     "output_type": "display_data"
    }
   ],
   "source": [
    "from IPython.display import Image\n",
    "result = Image(filename='./img/DS_DAC.PNG')\n",
    "# note if the above is the last line in the cell can just use Image(filename='./img/DS_DAC.PNG') and the \n",
    "# impage will be output to the console instead of passed to the result name otherwise if other\n",
    "# operations are in the cell, or if you are displaying multiple images, you can use the IPython function display\n",
    "# as demonstrated below:\n",
    "\n",
    "display(result)"
   ]
  },
  {
   "attachments": {
    "image.png": {
     "image/png": "[encoded data removed]"
    }
   },
   "cell_type": "markdown",
   "metadata": {},
   "source": [
    "## Local Respository for custom modules\n",
    "\n",
    "You will likely eventually make custom modules that you would like to use across different projects; favorite \"tools\" and applications that have enduring purpose. This section talks about approaches to have a shared file repository directory for common access from different projects.\n",
    "\n",
    "\n",
    "### Permanant Repository\n",
    "\n",
    "Michael at Stackoverflow has outlined further resources in how to make your own conda package and creating a local channel for distributing changes. I don't have experience with doing this yet, but would like to move in this direction if it could be quick and painless. The link to what he suggested is here: \n",
    "\n",
    "https://stackoverflow.com/questions/49474575/how-to-install-my-own-python-module-package-via-conda-and-watch-its-changes\n",
    "\n",
    "If anyone has further experience with the above, please let me know. Below outlines how I currently manage having a common area for deployed \"tools\" (customb built modules and packages) that I use across many projects. \n",
    "\n",
    "In order for the directory to be in Python's search path, an environment variable \"PYTHONPATH\" must be created with the target directory as a value.  A screen capture below shows how this was done on a Windows 10 machine after typing env in the quick search bar, then clicking on \"Environment Variables\" from the Advanced Tab. (Once set on Windowws platforms, a reboot is required).\n",
    "\n",
    "![image.png](attachment:image.png)\n",
    "\n",
    "\n",
    "To test access to the directory, I include a simple module in the directory called hello.py with the only contents \n",
    "\n",
    "    print(\"You found me!\").\n",
    "    \n",
    "\n",
    "\n"
   ]
  },
  {
   "cell_type": "code",
   "execution_count": 17,
   "metadata": {},
   "outputs": [
    {
     "name": "stdout",
     "output_type": "stream",
     "text": [
      "You found me!\n"
     ]
    }
   ],
   "source": [
    "# the hello.py file is in the D:\\User Documents\\Dan\\Dropbox\\Python\\tools directory \n",
    "# since D:\\User Documents\\Dan\\Dropbox\\Python\\ is in the PYTHONPATH environment variable,\n",
    "# Python is able to find it starting with the directory name beneith this \n",
    "import tools.hello\n",
    "\n",
    "# The other way of saying this is the hello module is in the tools package."
   ]
  },
  {
   "cell_type": "code",
   "execution_count": 18,
   "metadata": {},
   "outputs": [
    {
     "data": {
      "text/plain": [
       "['__doc__',\n",
       " '__file__',\n",
       " '__loader__',\n",
       " '__name__',\n",
       " '__package__',\n",
       " '__path__',\n",
       " '__spec__',\n",
       " 'hello']"
      ]
     },
     "execution_count": 18,
     "metadata": {},
     "output_type": "execute_result"
    }
   ],
   "source": [
    "dir(tools)\n"
   ]
  },
  {
   "cell_type": "code",
   "execution_count": 19,
   "metadata": {},
   "outputs": [
    {
     "name": "stdout",
     "output_type": "stream",
     "text": [
      "_NamespacePath(['F:\\\\User Documents\\\\Dan\\\\Dropbox\\\\Dropbox\\\\Python\\\\workspace\\\\IEEE_Python2021\\\\tools', 'F:\\\\User Documents\\\\Dan\\\\Dropbox\\\\Dropbox\\\\Python\\\\workspace\\\\IEEE_Python2021\\\\tools'])\n"
     ]
    }
   ],
   "source": [
    "# confirm repository directory\n",
    "print(tools.__path__)"
   ]
  },
  {
   "cell_type": "markdown",
   "metadata": {},
   "source": [
    "### Temporary Repository\n",
    "\n",
    "The following commands will temporarily add a directory to be in the Python path, but the settings will clear when the kernel shuts down."
   ]
  },
  {
   "cell_type": "code",
   "execution_count": 20,
   "metadata": {},
   "outputs": [],
   "source": [
    "import sys\n",
    "# this shows the example of what could be done when the tools directory \n",
    "# is in the dirctory above this notebook\n",
    "sys.path.append(\"../\")\n",
    "\n",
    "# a relative path would make sense if the directory will always be in such a relation to this notebook, \n",
    "# otherwise and absolute path could be used.\n",
    "\n"
   ]
  },
  {
   "cell_type": "markdown",
   "metadata": {},
   "source": [
    "## Reading / Writing Files\n",
    "\n",
    "Example patterns for reading / writing data"
   ]
  },
  {
   "cell_type": "code",
   "execution_count": 22,
   "metadata": {},
   "outputs": [
    {
     "name": "stdout",
     "output_type": "stream",
     "text": [
      "(0, 0)\n",
      "(1, 1)\n",
      "(2, 4)\n",
      "(3, 9)\n",
      "(4, 16)\n"
     ]
    }
   ],
   "source": [
    "# create example data to write to file\n",
    "\n",
    "x = range(500)\n",
    "y = (i**2 for i in x) \n",
    "my_data = list(zip(x,y))\n",
    "\n",
    "# show first 5 rows\n",
    "for count, row in enumerate(my_data):\n",
    "    if count > 4: break\n",
    "    print(row)"
   ]
  },
  {
   "cell_type": "markdown",
   "metadata": {},
   "source": [
    "### Read/write Text Files"
   ]
  },
  {
   "cell_type": "code",
   "execution_count": 23,
   "metadata": {},
   "outputs": [],
   "source": [
    "# writing data file as unicode text\n",
    "with open(\"./data/example.txt\", 'w', newline = \"\") as f:\n",
    "    # write optional header\n",
    "    f.write(\"My Header\\n\")\n",
    "    for i in my_data:\n",
    "        formatted = f\"{i[0]},{i[1]}\\n\"        # f-string formatting with comma separation and newline\n",
    "        f.write(formatted)\n",
    "\n",
    "# use 'wa' attribute to append\n",
    "\n",
    "# write() will write a fixed sequence of characters to a file\n",
    "# writelines() will write a list of strings\n",
    "\n"
   ]
  },
  {
   "cell_type": "code",
   "execution_count": 24,
   "metadata": {},
   "outputs": [
    {
     "name": "stdout",
     "output_type": "stream",
     "text": [
      "My Header\n",
      "\n"
     ]
    }
   ],
   "source": [
    "# reading data file\n",
    "result = []\n",
    "with open(\"./data/example.txt\", 'r', newline = \"\") as f:\n",
    "    # or skip header with next(f)\n",
    "    print(f.readline())    # to read header\n",
    "    for row in f:\n",
    "        result.append(row)\n",
    "        # will be a list of strings, convert to desired format\n",
    "        \n",
    "# read() will return one long string\n",
    "# readline() will return the next line in sequence\n",
    "# readlines() will return all lines as a list\n"
   ]
  },
  {
   "cell_type": "markdown",
   "metadata": {},
   "source": [
    "### Read / Write Binary Files\n",
    "\n",
    "(For very large binary files, see the HDF5 package for Python)"
   ]
  },
  {
   "cell_type": "code",
   "execution_count": 25,
   "metadata": {},
   "outputs": [
    {
     "name": "stdout",
     "output_type": "stream",
     "text": [
      "Both read appraoches used here were equivalent: True\n",
      "What do the contents look like?\n",
      "img_data[0] = b'\\x89PNG\\r\\n'\n",
      "img_data[1] = b'\\x1a\\n'\n",
      "img_data[2] = b\"\\x00\\x00\\x00\\rIHDR\\x00\\x00\\x05\\xcf\\x00\\x00\\x02\\x85\\x08\\x06\\x00\\x00\\x00\\x1a\\x8a\\x11>\\x00\\x00 \\x00IDATx\\x01\\xec\\xdd_\\x8c\\x1d\\xd7}'\\xf8\\x8al\\x8d\\xc5\\x96\\x0c\\x1ab\\xdb\\xd4hH\\n\"\n",
      "img_data[3] = b'0\\xb5Md\\x00\\x8b\\x14<2 6\\x9c\\x07QT\\xe6A\"`:\\x8e\\x04L\"\\xcb\\x99\\r&\\x96\\xdf\\x1c)\\xebd\\x06N\"\\xec\\xae\\rK\\xc9>I\\xf1\\xae\\xb0\\x91\\xad\\xcc\\x00V\\xb2f\\x00S\\x0fc\\x89\\xf4C\\x9c&\\x07v\\x0c\\xfe\\t\\x10\\x83\\x1d\\xd1\\x00IA\\x11#\\xb6!BR\\x93\\xb6\\xa0\\xc9\\xf6\\xef\\xca%u\\x97\\xd8\\xddu\\xef\\xadS\\xb7\\xfe|\\n'\n",
      "img_data[4] = b'h\\xde\\xbe\\xdduO\\x9d\\xf39\\xc5{\\xbb\\xbeu\\xea\\xd4/\\xfd\\xcb\\xd2\\x92Y\\x08\\x10 @\\x80\\x00\\x01\\x02\\x04\\x08\\x10 @\\x80\\x00\\x01\\x02\\x04\\x08\\x10 @\\x80\\x00\\x81w\\x04\\xaez\\xe7;\\xdf\\x10 @\\x80\\x00\\x01\\x02\\x04\\x08\\x10 @\\x80\\x00\\x01\\x02\\x04\\x08\\x10 @\\x80\\x00\\x01\\x02\\x03\\x01\\xe1\\xb9\\x1d\\x81\\x00\\x01\\x02\\x04\\x08\\x10 @\\x80\\x00\\x01\\x02\\x04\\x08\\x10 @\\x80\\x00\\x01\\x02\\x04\\x08\\x14\\x04\\x84\\xe7\\x05\\x10O\\t\\x10 @\\x80\\x00\\x01\\x02\\x04\\x08\\x10 @\\x80\\x00\\x01\\x02\\x04\\x08\\x10 @\\x80\\x80\\xf0\\xdc>@\\x80\\x00\\x01\\x02\\x04\\x08\\x10 @\\x80\\x00\\x01\\x02\\x04\\x08\\x10 @\\x80\\x00\\x01\\x02\\x04\\n'\n"
     ]
    }
   ],
   "source": [
    "# reading png image\n",
    "\n",
    "with open(\"./img/logo.png\", 'rb') as f:\n",
    "    img_data = f.readlines()\n",
    "    \n",
    "    f.seek(0)                  # this moves file pointer to start of file\n",
    "    img_data2 = list(f)        # showing that list(f) is identical to f.readlines(), since\n",
    "                               # the readlines method returns the entire contents as a list, and \n",
    "                               # the list() function will return a list for any iterator, and\n",
    "                               # f is an iterator.\n",
    "\n",
    "print (f\"Both read appraoches used here were equivalent: {img_data == img_data2}\")\n",
    "\n",
    "print (\"What do the contents look like?\")\n",
    "print(f\"{img_data[0] = }\")\n",
    "print(f\"{img_data[1] = }\")\n",
    "print(f\"{img_data[2] = }\")\n",
    "print(f\"{img_data[3] = }\")\n",
    "print(f\"{img_data[4] = }\")"
   ]
  },
  {
   "cell_type": "code",
   "execution_count": 26,
   "metadata": {},
   "outputs": [],
   "source": [
    "# writing binary data\n",
    "\n",
    "with open(\"./data/example.png\", 'wb') as f:\n",
    "    f.writelines(img_data)"
   ]
  },
  {
   "cell_type": "markdown",
   "metadata": {},
   "source": [
    "### CSV\n"
   ]
  },
  {
   "cell_type": "code",
   "execution_count": 28,
   "metadata": {},
   "outputs": [],
   "source": [
    "import csv     # best practice is to place all imports at very top of file, not here\n",
    "\n",
    "file_name = \"./data/testfile.csv\"\n",
    "\n",
    "with open(file_name, 'w', newline = \"\") as f:\n",
    "    w = csv.writer(f)              # comma delimiter default, to change use  csv.writer(f, delimiter = \" \") \n",
    "    #write a header\n",
    "    w.writerow(\"My Header\\n\")\n",
    "    #write data\n",
    "    w.writerows(my_data)"
   ]
  },
  {
   "cell_type": "code",
   "execution_count": 29,
   "metadata": {},
   "outputs": [
    {
     "name": "stdout",
     "output_type": "stream",
     "text": [
      "My Header\n",
      "\n",
      "[(0, 0), (1, 1), (2, 4), (3, 9), (4, 16)]\n"
     ]
    }
   ],
   "source": [
    "result = []\n",
    "with open(file_name, 'r', newline = \"\") as f:\n",
    "    w = csv.reader(f)\n",
    "    #read header\n",
    "    print(''.join(next(w)))     # adds each character in row to string that we start as ''\n",
    "    #read data\n",
    "    for row in w:\n",
    "        #result.append(row)     # this will be a list of lists containing strings \n",
    "        result.append(tuple(int(i) for i in row))  # this will be a list of tuples containing ints\n",
    "        # swap line comments above to see the formatting change\n",
    "        \n",
    "print(result[0:5])"
   ]
  },
  {
   "cell_type": "code",
   "execution_count": 30,
   "metadata": {},
   "outputs": [
    {
     "data": {
      "text/markdown": [
       "## Glossary"
      ],
      "text/plain": [
       "<IPython.core.display.Markdown object>"
      ]
     },
     "metadata": {},
     "output_type": "display_data"
    },
    {
     "data": {
      "text/markdown": [
       "| **<p align='left'> Item </p>** |  <p align='left'> Description </p> |\n",
       "| ---| :---|\n",
       "| **<p align='left'> Anaconda </p>** |  <p align='left'> Python distribution package tailored for data sciences. It includes thousands of popular data science packages, the Spyder IDE, Jupyter Notebook, and the conda package and virtual environment manager for Windows, Linux and MacOS. </p> |\n",
       "| **<p align='left'> conda </p>** |  <p align='left'> Command line package and environment manager. (Anaconda Navigator is the GUI to Conda) </p> |\n",
       "| **<p align='left'> cython </p>** |  <p align='left'> C compiler for functions to make them faster </p> |\n",
       "| **<p align='left'> IDE </p>** |  <p align='left'> Integrated Development Environment bringing together basic tools for writing and debugging software under one user interface </p> |\n",
       "| **<p align='left'> JupyterHub </p>** |  <p align='left'> Multi-user server for Jupyter Notebooks </p> |\n",
       "| **<p align='left'> Jupyter Notebook </p>** |  <p align='left'> Interactive environment combining code cells with rich text elements including equations, figures, images and links and interactive plotting. </p> |\n",
       "| **<p align='left'> JupyterLab </p>** |  <p align='left'> Next generation UI for Project Jupyter offering and IDE like experience for data science applications (currently in Beta and will eventually replace Jupyter Notebook) </p> |\n",
       "| **<p align='left'> Markdown </p>** |  <p align='left'> Lightweight markup language used in Jupyter Notebooks </p> |\n",
       "| **<p align='left'> MathJax </p>** |  <p align='left'> Markdown specific for rendering equations. Jupyter markdown parser is MathJax aware. </p> |\n",
       "| **<p align='left'> matplotlib </p>** |  <p align='left'> Plotting library includes pyplot that works like Matlab </p> |\n",
       "| **<p align='left'> Module </p>** |  <p align='left'> A single file containing Python objects including definitions of functions, classes, variables, and constants. </p> |\n",
       "| **<p align='left'> NumPy </p>** |  <p align='left'> Python extension module for numerical data allowing for efficient vectorized operations on arrays </p> |\n",
       "| **<p align='left'> pandas </p>** |  <p align='left'> Python package for data analysis for working with \"labeled\" or \"relational\" data in an easy and intuitive way similar to spreadsheets. </p> |\n",
       "| **<p align='left'> pip </p>** |  <p align='left'> Python tool for installing and managing packages.  Similar to conda and can be used side by side (Since Anaconda environment is managed with conda, try to install new packages with conda first, and if not available use pip).   </p> |\n",
       "| **<p align='left'> SciPy </p>** |  <p align='left'> Package containing scientific and numerical tools for Python supporting integration, ODE solvers, gradient optimization. Very fast, efficient and robust as most are wrappers around existing C/Fortran routines from www.netlib.org </p> |\n",
       "| **<p align='left'> Seaborn </p>** |  <p align='left'> Plotting library built over Matplotlib for more attractive plots. Simply importing Seaborn will beautify existing plots </p> |\n",
       "| **<p align='left'> Spyder </p>** |  <p align='left'> IDE packaged with Anaconda </p> |\n",
       "| **<p align='left'> Package </p>** |  <p align='left'> A collection of modules under a common namespace.  </p> |\n",
       "| **<p align='left'> Library </p>** |  <p align='left'> General term for a module, package or collection of packages for use in a general application area or functional space. </p> |\n"
      ],
      "text/plain": [
       "<IPython.core.display.Markdown object>"
      ]
     },
     "metadata": {},
     "output_type": "display_data"
    }
   ],
   "source": [
    "# reading a CSV file and displaying it with markdown as a table\n",
    "# (Pandas package does this directly)\n",
    "\n",
    "\n",
    "def printmd(stringWithMarkdown):\n",
    "    from IPython.display import Markdown, display\n",
    "    display(Markdown(stringWithMarkdown))\n",
    "\n",
    "def left(text): return (f\"<p align='left'> {text} </p>\")\n",
    "def right(text): return (f\"<p align='right'> {text} </p>\")\n",
    "def center(text): return (f\"<p align='center'> {text} </p>\")\n",
    "def justify(text): return (f\"<p align='justify'> {text} </p>\")\n",
    "\n",
    "\n",
    "printmd(\"## Glossary\")\n",
    "\n",
    "with open(\"./data/glossary.csv\", newline = \"\") as f:\n",
    "    myTable = \"\"\n",
    "    glossary = csv.reader(f)\n",
    "    # skip header\n",
    "    header = next(glossary)\n",
    "    #add bold Markdown\n",
    "    space = \"&nbsp; \"\n",
    "    item, description = header\n",
    "    myTable += (f\"| **{left(item)}** |  {left(description)} |\\n\")\n",
    "    myTable += (\"| ---| :---|\\n\")\n",
    "    \n",
    "    for line in glossary:\n",
    "        item, description = line\n",
    "        myTable += (f\"| **{left(item)}** |  {left(description)} |\\n\")\n",
    "    \n",
    "    printmd(myTable)\n",
    "        "
   ]
  },
  {
   "cell_type": "markdown",
   "metadata": {},
   "source": [
    "### Pickle\n",
    "\n",
    "Pickle is a python specific binary stream serialization format that serializes data to a byte-stream. This can be used to save a wide number of object types to a file.\n"
   ]
  },
  {
   "cell_type": "code",
   "execution_count": 32,
   "metadata": {},
   "outputs": [],
   "source": [
    "import pickle     # place all imports at top of file\n",
    "\n",
    "# storing objects using pickle\n",
    "with open(\"./data/my_vars.pkl\", 'wb') as f:\n",
    "    # x and y are generators so need to convert to list first\n",
    "    pickle.dump([list(x), list(y), my_data], f)\n",
    "    "
   ]
  },
  {
   "cell_type": "code",
   "execution_count": 35,
   "metadata": {},
   "outputs": [
    {
     "name": "stdout",
     "output_type": "stream",
     "text": [
      "a == list(x) = True\n",
      "b == list(y) = True\n",
      "data == my_data = True\n",
      "a is list(x) = False\n"
     ]
    }
   ],
   "source": [
    "# recovering objects from pickle\n",
    "with open(\"./data/my_vars.pkl\", 'rb') as f:\n",
    "    a,b, data = pickle.load(f)\n",
    "    \n",
    "    \n",
    "print(f\"{a == list(x) = }\")\n",
    "print(f\"{b == list(y) = }\")\n",
    "print(f\"{data == my_data = }\")\n",
    "print(f\"{a is list(x) = }\")"
   ]
  },
  {
   "cell_type": "markdown",
   "metadata": {},
   "source": [
    "### JSON\n",
    "\n",
    "JSON is a widely interoperable text stream serialization format that can only represent a subset of Python built-in types such as dictionaries, lists, strings, numbers, booleans and null. Other collections are stored as JSON arrays which would all be converted to lists when read back."
   ]
  },
  {
   "cell_type": "code",
   "execution_count": 37,
   "metadata": {},
   "outputs": [],
   "source": [
    "import json       # place all imports at top of file\n",
    "\n",
    "# range objects are not JSON serializable so converted to lists:\n",
    "store = [list(x), list(y), my_data]\n",
    "local = json.dumps(store)         # using dumps can create local json object, dump for saving to file \n",
    "\n",
    "# storing objects using JSON\n",
    "with open(\"./data/my_vars.json\", 'w') as f:\n",
    "    json.dump(store, f)"
   ]
  },
  {
   "cell_type": "code",
   "execution_count": 40,
   "metadata": {},
   "outputs": [
    {
     "name": "stdout",
     "output_type": "stream",
     "text": [
      "a2 == list(x) = True\n",
      "b2 == list(y) = True\n",
      "data2 == my_data = False\n",
      "[[0, 0], [1, 1], [2, 4], [3, 9], [4, 16]]\n",
      "[(0, 0), (1, 1), (2, 4), (3, 9), (4, 16)]\n"
     ]
    }
   ],
   "source": [
    "# recovering objects from JSON\n",
    "a2, b2, data2 = json.loads(local)         # using loads can create local json object, load for saving to file \n",
    "\n",
    "with open(\"./data/my_vars.json\", 'r') as f:\n",
    "    a2,b2, data2 = json.load(f)\n",
    "\n",
    "print(f\"{a2 == list(x) = }\")\n",
    "print(f\"{b2 == list(y) = }\")\n",
    "print(f\"{data2 == my_data = }\")\n",
    "\n",
    "# Reviewing first 6 entries shows why data2 is not equal to my_data after JSON serialization;\n",
    "# data2 is a list of lists. my_data is a list of tuples. Same contents otherwise.\n",
    "print(data2[:5])\n",
    "print(my_data[:5])"
   ]
  },
  {
   "cell_type": "markdown",
   "metadata": {},
   "source": [
    "## Python Tips and Tricks"
   ]
  },
  {
   "cell_type": "markdown",
   "metadata": {},
   "source": [
    "### Ternary Operator\n",
    "\n",
    "The python equivalent of a ternary operator such as the following structure in other languages:\n",
    "\n",
    "    condition ? do_this_if_true : do_this_if_false\n",
    "\n",
    "Can be done as follows:\n",
    "\n",
    "    do_this_if_true if condition else do_this_if_false \n",
    "\n",
    "\n"
   ]
  },
  {
   "cell_type": "code",
   "execution_count": 41,
   "metadata": {},
   "outputs": [
    {
     "name": "stdout",
     "output_type": "stream",
     "text": [
      "x?\n"
     ]
    }
   ],
   "source": [
    "x = 5\n",
    "\n",
    "print(\"X!\") if x <  0 else print(\"x?\")"
   ]
  },
  {
   "cell_type": "code",
   "execution_count": 42,
   "metadata": {},
   "outputs": [
    {
     "name": "stdout",
     "output_type": "stream",
     "text": [
      "[-1, 1, -1, 1]\n"
     ]
    }
   ],
   "source": [
    "# Showing how this can be part of a list comprehension\n",
    "#\n",
    "# since a list comprehension is [(any expression) for item in iterable]\n",
    "# the parenthesis are completely optional but in this case make it more readable\n",
    "\n",
    "x = [-.5, 1, -.2, .8]\n",
    "\n",
    "y = [(- 1 if k < 0 else 1) for k in x] \n",
    "\n",
    "print(y)"
   ]
  },
  {
   "cell_type": "markdown",
   "metadata": {},
   "source": [
    "### Reloading Modules\n",
    "\n",
    "Useful for development both in Spyder and Jupyter notebook (or any Ipython console). Normally after a module is loaded (via import module), the same module will not be reloaded with another execution of the import command even if the module is changed, which can be a problem if testing out code that is in a module while in development. \n",
    "\n",
    "The importlib module can be used to do a forced reload as follows:\n",
    "\n",
    "    import importlib\n",
    "    importlib.reload(mytools)\n",
    "    \n",
    "Also see the magics here For more details, see [Reloading a Module](#Reload).\n",
    "    "
   ]
  },
  {
   "cell_type": "markdown",
   "metadata": {},
   "source": [
    "## Using Spyder"
   ]
  },
  {
   "cell_type": "markdown",
   "metadata": {},
   "source": [
    "### Sharing Kernel with Jupyter Notebook\n",
    "One approach is to write/debug code in the Spyder IDE and then run code in the notebook or Ipython console using %run /my/new/module (or import).\n",
    "\n",
    "General approach I take: develop classes and functions and detailed applications in Spyder, use Jupyter as the \"top level sript\" for purpose of demonstrating use cases, results and mixed media presentation."
   ]
  },
  {
   "cell_type": "markdown",
   "metadata": {},
   "source": [
    "### Connecting Jupyter and Spyder to same Kernel\n",
    "\n",
    "Jupyter and Spyder can be connected to the same Kernel simulataneously.\n",
    "\n",
    "(NOTE: Keep both console's open as Spyder's debugger is most effective when connected to its own Kernel. However if not actively debugging using the console linked to Jupyter provides for a workflow that benefits from the features of each)\n",
    "\n",
    "Two ways to connect the two:\n",
    "\n",
    "**First Approach (easy):**\n",
    "\n",
    "Open Jupyter, then from Spyder select the gear in the upper right-hand corner of the IPython console, and select connect to an existing Kernel. Within an Anaconda environment, selecting browse opens up the default Jupyter runtime directory\n",
    "\n",
    "On my machine this was:\n",
    "C:\\Users\\Dan\\AppData\\Roaming\\jupyter\\runtime\n",
    "\n",
    "From where the latest kernel-****.json file can be selected.\n",
    "\n",
    "**Second Approach (if needed):**\n",
    "\n",
    "Use the line magic command %connect_info, paste the JSON into a file and then navigate to this file using the appraoch above. (This would be too cumbersome to have to do manually each time, but suggests an approach that could be scripted).\n"
   ]
  },
  {
   "cell_type": "code",
   "execution_count": 43,
   "metadata": {},
   "outputs": [
    {
     "name": "stdout",
     "output_type": "stream",
     "text": [
      "{\n",
      "  \"shell_port\": 54816,\n",
      "  \"iopub_port\": 54817,\n",
      "  \"stdin_port\": 54818,\n",
      "  \"control_port\": 54820,\n",
      "  \"hb_port\": 54819,\n",
      "  \"ip\": \"127.0.0.1\",\n",
      "  \"key\": \"3464b955-9b9eb7574808ff86fbc6c53c\",\n",
      "  \"transport\": \"tcp\",\n",
      "  \"signature_scheme\": \"hmac-sha256\",\n",
      "  \"kernel_name\": \"\"\n",
      "}\n",
      "\n",
      "Paste the above JSON into a file, and connect with:\n",
      "    $> jupyter <app> --existing <file>\n",
      "or, if you are local, you can connect with just:\n",
      "    $> jupyter <app> --existing kernel-32239a5b-8bf2-4406-9634-a07f37dfa2fe.json\n",
      "or even just:\n",
      "    $> jupyter <app> --existing\n",
      "if this is the most recent Jupyter kernel you have started.\n"
     ]
    }
   ],
   "source": [
    "%connect_info"
   ]
  },
  {
   "cell_type": "markdown",
   "metadata": {},
   "source": [
    "## Matplotlib"
   ]
  },
  {
   "cell_type": "markdown",
   "metadata": {},
   "source": [
    "\n",
    "\n",
    "### Customizing Matplotlib\n",
    "\n",
    "Matplotlib allows for configuration of almost every property using rc parameters.\n",
    "For more info see https://matplotlib.org/xkcd/users/customizing.html\n",
    "Parameters modified in the Sample Matplotlibrc file can be modified in the notebook,\n",
    "\n",
    "For example below shows examples modofiying the rc parameters for Agg Rendering, and setting a standard figure size.\n",
    "\n",
    "AGG (Anti-Grain Geometry) is implemented by Matplotlib for anti-aliasing and sub-pixel resolution. Setting agg.path.chunksize may be helpful in preventing an AGG rendering failure when working with large datasets.\n",
    "\n",
    "This is further described in the link above as follows:\n",
    "\n",
    "    0 to disable; values in the range 10000 to 100000 can improve speed slightly\n",
    "    and prevent an Agg rendering failure when plotting very large data sets,\n",
    "    especially if they are very gappy. It may cause minor artifacts, though.\n",
    "    A value of 20000 is probably a good starting point.\n",
    "\n",
    "\n"
   ]
  },
  {
   "cell_type": "code",
   "execution_count": 45,
   "metadata": {},
   "outputs": [],
   "source": [
    "import matplotlib.pyplot as plt\n",
    "\n",
    "# example rcparameters\n",
    "\n",
    "plt.rcParams['agg.path.chunksize'] = 20000   # AGG Rendering\n",
    "plt.rcParams['figure.figsize'] = [6, 5]   # setting standard figure size\n",
    "plt.rcParams['figure.autolayout'] = False\n",
    "plt.rcParams['figure.figsize'] = 5, 3\n",
    "plt.rcParams['lines.linewidth'] = 2.0\n",
    "plt.rcParams['lines.markersize'] = 8\n",
    "plt.rcParams['legend.fontsize'] = 14\n",
    "plt.rcParams['axes.labelsize'] = 16\n",
    "plt.rcParams['axes.titlesize'] = 18\n",
    "plt.rcParams['font.size'] = 14"
   ]
  },
  {
   "cell_type": "code",
   "execution_count": 47,
   "metadata": {},
   "outputs": [],
   "source": [
    "%matplotlib notebook\n",
    "\n",
    "# notebook enables interactive figures using high quality raster graphics for all inmages in the notebook.\n",
    "# (this used to be %matplotlib nbagg)\n",
    "# This needs to be first item in cell to properly get enabled"
   ]
  },
  {
   "cell_type": "markdown",
   "metadata": {},
   "source": [
    "## Numpy "
   ]
  },
  {
   "cell_type": "markdown",
   "metadata": {},
   "source": [
    "This serves as a quick reminder for just the numpy functions that were demonstrated.\n",
    "\n",
    "(For core documentation of all numpy basic routines and additional convenience functions see: [Numpy Reference Material](#numpy).\n",
    "\n",
    "**Basic Routines** \n",
    "\n",
    "np.fromiter(iterator_or_generator, dtype, count = -1): faster than np.array(list(my_generator))\n",
    "\n",
    "\n"
   ]
  },
  {
   "cell_type": "markdown",
   "metadata": {},
   "source": [
    "## External Reference Materials related to Course Content\n",
    "\n",
    "\"Go-to\" references for topics covered in individual course sessions\n",
    "\n",
    "### Session 1\n",
    "\n",
    "#### Benchmarks and Trends\n",
    "Runtime comparison for common languages https://julialang.org/benchmarks/\n",
    "Stackoverflow trends: https://insights.stackoverflow.com/trends?tags=r%2Cmatlab%2Cpython%2Cc%2Cc%2B%2B%2Cjavascript%2Cgo%2Cjulia\n",
    "\n",
    "Google trends: https://trends.google.com/trends/explore?date=all&geo=US&q=%2Fm%2F05z1_,%2Fm%2F02p97,%2Fm%2F0jgqg,%2Fm%2F053_x,%2Fm%2F0j3djl7\n",
    "\n",
    "\n",
    "#### Using Spyder\n",
    "Primary Spyder documentation: https://docs.spyder-ide.org\n",
    "\n",
    "#### Using Jupyter\n",
    "\n",
    "Primary Jupyter Notebook documentation: https://jupyter-notebook.readthedocs.io/en/stable/\n",
    "Primary Jupyter documentation: https://jupyter.readthedocs.io/en/latest/\n",
    "\n",
    "Sharing Jupyter Notebooks on the web: https://nbviewer.jupyter.org/\n",
    "\n",
    "Making publication ready notebooks http://blog.juliusschulz.de/blog/ultimate-ipython-notebook\n",
    "\n",
    "#### Interesting Jupyter Notebooks\n",
    "\n",
    "https://github.com/jupyter/jupyter/wiki/A-gallery-of-interesting-Jupyter-Notebooks\n",
    "\n",
    "\n",
    "#### Using IPython\n",
    "\n",
    "Primary IPython documentation: https://ipython.readthedocs.io/en/stable\n"
   ]
  },
  {
   "cell_type": "markdown",
   "metadata": {},
   "source": [
    "### Session 2\n",
    "\n",
    "#### Core Python\n",
    "\n",
    "#### Python Reference Docs\n",
    "https://docs.python.org/3/\n",
    "\n",
    "https://docs.python.org/3/reference/index.html\n",
    "\n",
    "https://python-reference.readthedocs.io/en/latest/index.html\n",
    "\n",
    "#### Python Style Guide\n",
    "https://www.python.org/dev/peps/pep-0008/\n",
    "\n",
    "#### Python Built-in Functions\n",
    "https://docs.python.org/3/library/functions.html\n",
    "\n",
    "#### Python Module Index\n",
    "https://docs.python.org/3/py-modindex.html\n",
    "\n",
    "#### String formatting\n",
    "https://docs.python.org/3/reference/lexical_analysis.html#f-strings\n",
    "\n",
    "Docstring conventions (PEP257):\n",
    "https://www.python.org/dev/peps/pep-0257/\n",
    "\n",
    "New and old formatting styles explained:\n",
    "https://pyformat.info/\n",
    "\n",
    "\n",
    "#### Mutable / Immutable\n",
    "https://medium.com/@tyastropheus/tricky-python-i-memory-management-for-mutable-immutable-objects-21507d1e5b95\n",
    "\n",
    "http://pythontutor.com/  \n",
    "\n",
    "https://docs.python.org/3/faq/programming.html#faq-multidimensional-list\n",
    "\n",
    "https://medium.com/@meghamohan/mutable-and-immutable-side-of-python-c2145cf72747\n",
    "\n",
    "\n",
    "\n"
   ]
  },
  {
   "cell_type": "markdown",
   "metadata": {},
   "source": [
    "### Session 3\n",
    "\n",
    "#### Built-in Collections\n",
    "(Sequences: List, Tuple)\n",
    "https://docs.python.org/3/library/stdtypes.html#sequence-types-list-tuple-range\n",
    "\n",
    "(Sets: Set, Frozenset)\n",
    "https://docs.python.org/3/library/stdtypes.html#set-types-set-frozenset\n",
    "\n",
    "(Mappings: Dict)\n",
    "https://docs.python.org/3/library/stdtypes.html#mapping-types-dict\n",
    "\n",
    "#### Iterators and Iterables\n",
    "https://treyhunner.com/2018/02/python-range-is-not-an-iterator/\n",
    "\n",
    "https://nedbatchelder.com/text/iter.html"
   ]
  },
  {
   "cell_type": "markdown",
   "metadata": {},
   "source": [
    "### Session 4\n",
    "\n",
    "#### Reading/Writing Files\n",
    "https://docs.python.org/3/library/functions.html#open\n",
    "\n",
    "#### CSV Reader/Writer\n",
    "https://docs.python.org/3/library/csv.html\n",
    "\n",
    "#### Lambda Functions\n",
    "https://treyhunner.com/2018/09/stop-writing-lambda-expressions/\n",
    "\n",
    "#### Secrets of coding poorly (anti-patterns)\n",
    "https://docs.quantifiedcode.com/python-anti-patterns/index.html\n"
   ]
  },
  {
   "cell_type": "markdown",
   "metadata": {},
   "source": [
    "### Session 5\n",
    "\n",
    "#### Python Data Types\n",
    "https://jakevdp.github.io/PythonDataScienceHandbook/02.01-understanding-data-types.html\n",
    "\n",
    "#### Conda Cheat Sheet\n",
    "https://docs.conda.io/projects/conda/en/latest/_downloads/843d9e0198f2a193a3484886fa28163c/conda-cheatsheet.pdf\n",
    "\n",
    "#### Itertools\n",
    "\n",
    "Python primary docs: https://docs.python.org/3/library/itertools.html\n",
    "\n",
    "Good group-by example: http://kentsjohnson.com/blog/arch_m1_2005_12.html\n",
    "\n",
    "https://pymotw.com/3/itertools/index.html\n",
    "\n",
    "https://realpython.com/python-itertools/\n",
    "\n",
    "\n",
    "#### Matplotlib\n",
    "\n",
    "Matplotlib primary docs: https://matplotlib.org/index.html\n",
    "Pyplot primary docs: https://matplotlib.org/api/_as_gen/matplotlib.pyplot.html#module-matplotlib.pyplot\n",
    "\n",
    "#### Customizing Matplotlib rcParams\n",
    "\n",
    "https://matplotlib.org/tutorials/introductory/customizing.html\n"
   ]
  },
  {
   "cell_type": "markdown",
   "metadata": {},
   "source": [
    "<a id = 'numpy' > </a>\n",
    "### Session 6\n",
    "\n",
    "#### Numpy\n",
    "\n",
    "Main Page: https://numpy.org/\n",
    "\n",
    "Primary Documentation: https://numpy.org/doc/stable/index.html\n",
    "\n",
    "Numpy Ufuncs: https://numpy.org/doc/stable/reference/ufuncs.html#available-ufuncs"
   ]
  },
  {
   "cell_type": "markdown",
   "metadata": {},
   "source": [
    "### Session 7\n",
    "\n",
    "#### Numpy for MATLAB Users \n",
    "\n",
    "https://docs.scipy.org/doc/numpy-1.15.0/user/numpy-for-matlab-users.html\n",
    "\n",
    "https://cheatsheets.quantecon.org/\n",
    "\n",
    "http://mathesaurus.sourceforge.net/\n",
    "\n",
    "#### Scipy\n",
    "\n",
    "Primary docs: https://docs.scipy.org/doc/scipy/reference/\n",
    "\n",
    "API Documentation: https://docs.scipy.org/doc/scipy/reference/api.html\n",
    "\n",
    "Scipy Cookbook: https://scipy-cookbook.readthedocs.io/\n",
    "\n",
    "Quick Primer on using Scipy and Numpy https://www.scipy.org/scipylib/faq.html"
   ]
  },
  {
   "cell_type": "markdown",
   "metadata": {},
   "source": [
    "### Session 8\n",
    "\n",
    "No content here"
   ]
  },
  {
   "cell_type": "code",
   "execution_count": null,
   "metadata": {},
   "outputs": [],
   "source": [
    "\n"
   ]
  }
 ],
 "metadata": {
  "hide_input": false,
  "kernelspec": {
   "display_name": "Python 3",
   "language": "python",
   "name": "python3"
  },
  "language_info": {
   "codemirror_mode": {
    "name": "ipython",
    "version": 3
   },
   "file_extension": ".py",
   "mimetype": "text/x-python",
   "name": "python",
   "nbconvert_exporter": "python",
   "pygments_lexer": "ipython3",
   "version": "3.7.7"
  },
  "toc": {
   "base_numbering": 1,
   "nav_menu": {},
   "number_sections": true,
   "sideBar": true,
   "skip_h1_title": true,
   "title_cell": "Table of Contents",
   "title_sidebar": "Contents",
   "toc_cell": false,
   "toc_position": {
    "height": "calc(100% - 180px)",
    "left": "10px",
    "top": "150px",
    "width": "389.583px"
   },
   "toc_section_display": true,
   "toc_window_display": true
  },
  "varInspector": {
   "cols": {
    "lenName": 16,
    "lenType": 16,
    "lenVar": 40
   },
   "kernels_config": {
    "python": {
     "delete_cmd_postfix": "",
     "delete_cmd_prefix": "del ",
     "library": "var_list.py",
     "varRefreshCmd": "print(var_dic_list())"
    },
    "r": {
     "delete_cmd_postfix": ") ",
     "delete_cmd_prefix": "rm(",
     "library": "var_list.r",
     "varRefreshCmd": "cat(var_dic_list()) "
    }
   },
   "position": {
    "height": "536px",
    "left": "1359px",
    "right": "20px",
    "top": "120px",
    "width": "350px"
   },
   "types_to_exclude": [
    "module",
    "function",
    "builtin_function_or_method",
    "instance",
    "_Feature"
   ],
   "window_display": false
  }
 },
 "nbformat": 4,
 "nbformat_minor": 4
}
